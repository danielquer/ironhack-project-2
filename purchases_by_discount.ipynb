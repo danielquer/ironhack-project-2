{
 "cells": [
  {
   "cell_type": "code",
   "execution_count": 12,
   "metadata": {},
   "outputs": [],
   "source": [
    "import pandas as pd\n",
    "import pandas_gbq\n",
    "import numpy as np\n",
    "import seaborn as sns\n",
    "import statsmodels.api as sm\n",
    "import warnings\n",
    "warnings.filterwarnings('ignore')\n",
    "import matplotlib.pyplot as plt\n",
    "import re"
   ]
  },
  {
   "cell_type": "code",
   "execution_count": 43,
   "metadata": {},
   "outputs": [],
   "source": [
    "query = \"\"\"with initial_dataset as (\n",
    "  select\n",
    "    event_name,\n",
    "    optional_label,\n",
    "    event_timestamp,\n",
    "    event_date,\n",
    "    user_id,\n",
    "    user_pseudo_id,\n",
    "    ga_session_id,\n",
    "    user_history_event_number,\n",
    "    ga_session_number,\n",
    "    session_event_number,\n",
    "    platform,\n",
    "    device_language,\n",
    "    country\n",
    "  from\n",
    "    analytics_151430920.firebase_facts_events as eve\n",
    "  where\n",
    "    eve.event_timestamp >= '2020-11-01'\n",
    "  and\n",
    "    eve.event_name in ('sv__OnBoardingTutorialView','sv__WelcomeCarouselDialog','sv__NewPremiumAct','TryToBuyNewPAct','TryToBuyNewPF','ClickOnWholeView','StartListening','sv__StoryDetails','StartNStory','StartBekids','FabClickedPremium','PremiumBarClickedSD','PremiumBarClickedMain','AAPageA','ProPageA','GoldPageA','AAPageF','ProPageF','GoldPageF','EnterFcMore','sv__GlossaryF','LibraryClicked','sv__Libraries','PlayPrevParagraphFromButton','PlayNextParagraphFromButton','in_app_purchase','PurchaseNormal')\n",
    "),   \n",
    "\n",
    "premium_promo_shown as (\n",
    "  select distinct\n",
    "    user_pseudo_id,\n",
    "    first_value(event_timestamp) over (partition by user_pseudo_id order by event_timestamp) as first_premium_promo_shown_timestamp\n",
    "  from\n",
    "    initial_dataset\n",
    "  where\n",
    "    event_name = 'sv__WelcomeCarouselDialog'\n",
    "),\n",
    "\n",
    "purchases as (\n",
    "  select distinct\n",
    "    'in_app_purchase' as event_name,\n",
    "    first_value(event_timestamp) over (partition by user_pseudo_id order by event_timestamp) as first_purchase_timestamp,\n",
    "    first_value(event_date) over (partition by user_pseudo_id order by event_timestamp) as first_purchase_date,\n",
    "    first_value(optional_label) over (partition by user_pseudo_id order by event_timestamp) as optional_label,\n",
    "    last_value(user_id) over (partition by user_pseudo_id order by event_timestamp) as user_id,\n",
    "    user_pseudo_id,\n",
    "    first_value(ga_session_id) over (partition by user_pseudo_id order by event_timestamp) as ga_session_id,\n",
    "    first_value(user_history_event_number) over (partition by user_pseudo_id order by event_timestamp) as user_history_event_number,\n",
    "    first_value(session_event_number) over (partition by user_pseudo_id order by event_timestamp) as session_event_number,\n",
    "    first_value(ga_session_number) over (partition by user_pseudo_id order by event_timestamp) as ga_session_number,\n",
    "    first_value(platform) over (partition by user_pseudo_id order by event_timestamp) as platform,\n",
    "    first_value(device_language) over (partition by user_pseudo_id order by event_timestamp) as device_language,\n",
    "    first_value(country) over (partition by user_pseudo_id order by event_timestamp) as country\n",
    "  from\n",
    "    initial_dataset\n",
    "  where\n",
    "    event_name in ('in_app_purchase','PurchaseNormal')\n",
    "), \n",
    "\n",
    "all_purchases as (\n",
    "  select\n",
    "    pu.event_name,\n",
    "        case \n",
    "          when ps.first_premium_promo_shown_timestamp is null then 'iOS' \n",
    "          when pu.first_purchase_timestamp > timestamp_add(ps.first_premium_promo_shown_timestamp, interval 30 minute) then 'Android - no discount' else 'Android - discount' end as purchase_with_discount,\n",
    "    ps.user_pseudo_id as premium_shown_user_pseudo_id,\n",
    "\n",
    "    pu.first_purchase_timestamp,\n",
    "    pu.first_purchase_date,\n",
    "    ps.first_premium_promo_shown_timestamp,\n",
    "    pu.optional_label,\n",
    "    pu.user_id,\n",
    "    pu.user_pseudo_id,\n",
    "    pu.ga_session_id,\n",
    "    pu.ga_session_number,\n",
    "    pu.user_history_event_number,\n",
    "    pu.session_event_number,\n",
    "    pu.platform,\n",
    "    pu.device_language,\n",
    "    pu.country\n",
    "\n",
    "  from\n",
    "    purchases as pu\n",
    "  left join\n",
    "    premium_promo_shown as ps on ps.user_pseudo_id = pu.user_pseudo_id\n",
    ")\n",
    "\n",
    "select\n",
    "  first_purchase_date,\n",
    "  purchase_with_discount,\n",
    "  case when ga_session_number > 1 then '2+' else '1' end as nth_session,\n",
    "  count(*)\n",
    "from\n",
    "  all_purchases\n",
    "group by 1,2,3\n",
    "order by 1 desc, 2 desc, 3 desc;\"\"\"\n",
    "\n",
    "df2 = pandas_gbq.read_gbq(query, project_id= 'beelinguapp') "
   ]
  },
  {
   "cell_type": "code",
   "execution_count": 3,
   "metadata": {
    "scrolled": true
   },
   "outputs": [
    {
     "data": {
      "text/html": [
       "<div>\n",
       "<style scoped>\n",
       "    .dataframe tbody tr th:only-of-type {\n",
       "        vertical-align: middle;\n",
       "    }\n",
       "\n",
       "    .dataframe tbody tr th {\n",
       "        vertical-align: top;\n",
       "    }\n",
       "\n",
       "    .dataframe thead th {\n",
       "        text-align: right;\n",
       "    }\n",
       "</style>\n",
       "<table border=\"1\" class=\"dataframe\">\n",
       "  <thead>\n",
       "    <tr style=\"text-align: right;\">\n",
       "      <th></th>\n",
       "      <th>user_pseudo_id</th>\n",
       "      <th>event_name</th>\n",
       "      <th>occurrences_count</th>\n",
       "      <th>first_event_timestamp</th>\n",
       "      <th>last_event_timestamp</th>\n",
       "    </tr>\n",
       "  </thead>\n",
       "  <tbody>\n",
       "    <tr>\n",
       "      <th>0</th>\n",
       "      <td>BE5C97B244EA446CBD8771C34368D3C1</td>\n",
       "      <td>in_app_purchase</td>\n",
       "      <td>1</td>\n",
       "      <td>2020-11-03 16:11:10.476000+00:00</td>\n",
       "      <td>2020-11-03 16:11:10.476000+00:00</td>\n",
       "    </tr>\n",
       "    <tr>\n",
       "      <th>1</th>\n",
       "      <td>459828e7f86ce0f682b0a69dd2c0dc36</td>\n",
       "      <td>in_app_purchase</td>\n",
       "      <td>1</td>\n",
       "      <td>2020-11-18 16:55:09.613000+00:00</td>\n",
       "      <td>2020-11-18 16:55:09.613000+00:00</td>\n",
       "    </tr>\n",
       "    <tr>\n",
       "      <th>2</th>\n",
       "      <td>d3340c736688d7119d1b5a0d2a6b535e</td>\n",
       "      <td>in_app_purchase</td>\n",
       "      <td>1</td>\n",
       "      <td>2020-11-17 13:40:31.326000+00:00</td>\n",
       "      <td>2020-11-17 13:40:31.326000+00:00</td>\n",
       "    </tr>\n",
       "    <tr>\n",
       "      <th>3</th>\n",
       "      <td>e3a752ea54b79385e88bed8562d3aa35</td>\n",
       "      <td>in_app_purchase</td>\n",
       "      <td>1</td>\n",
       "      <td>2020-12-05 14:22:44.348000+00:00</td>\n",
       "      <td>2020-12-05 14:22:44.348000+00:00</td>\n",
       "    </tr>\n",
       "    <tr>\n",
       "      <th>4</th>\n",
       "      <td>4a32180131bab101d10186947720d714</td>\n",
       "      <td>in_app_purchase</td>\n",
       "      <td>1</td>\n",
       "      <td>2020-11-22 23:21:04.895000+00:00</td>\n",
       "      <td>2020-11-22 23:21:04.895000+00:00</td>\n",
       "    </tr>\n",
       "  </tbody>\n",
       "</table>\n",
       "</div>"
      ],
      "text/plain": [
       "                     user_pseudo_id       event_name  occurrences_count  \\\n",
       "0  BE5C97B244EA446CBD8771C34368D3C1  in_app_purchase                  1   \n",
       "1  459828e7f86ce0f682b0a69dd2c0dc36  in_app_purchase                  1   \n",
       "2  d3340c736688d7119d1b5a0d2a6b535e  in_app_purchase                  1   \n",
       "3  e3a752ea54b79385e88bed8562d3aa35  in_app_purchase                  1   \n",
       "4  4a32180131bab101d10186947720d714  in_app_purchase                  1   \n",
       "\n",
       "             first_event_timestamp             last_event_timestamp  \n",
       "0 2020-11-03 16:11:10.476000+00:00 2020-11-03 16:11:10.476000+00:00  \n",
       "1 2020-11-18 16:55:09.613000+00:00 2020-11-18 16:55:09.613000+00:00  \n",
       "2 2020-11-17 13:40:31.326000+00:00 2020-11-17 13:40:31.326000+00:00  \n",
       "3 2020-12-05 14:22:44.348000+00:00 2020-12-05 14:22:44.348000+00:00  \n",
       "4 2020-11-22 23:21:04.895000+00:00 2020-11-22 23:21:04.895000+00:00  "
      ]
     },
     "execution_count": 3,
     "metadata": {},
     "output_type": "execute_result"
    }
   ],
   "source": [
    "all_events_query = \"\"\"with initial_dataset as (\n",
    "  select\n",
    "    event_name,\n",
    "    optional_label,\n",
    "    event_timestamp,\n",
    "    event_date,\n",
    "    user_id,\n",
    "    user_pseudo_id,\n",
    "    ga_session_id,\n",
    "    user_history_event_number,\n",
    "    session_event_number,\n",
    "    platform,\n",
    "    device_language,\n",
    "    country\n",
    "  from\n",
    "    analytics_151430920.firebase_facts_events as eve\n",
    "  where\n",
    "    eve.event_timestamp >= '2020-11-01'\n",
    "  and\n",
    "    eve.event_name in ('sv__OnBoardingTutorialVie','sv__OnBoardingTutorialVi','sv__WelcomeCarouselDialog','sv__NewPremiumAct','TryToBuyNewPAct','TryToBuyNewPF','ClickOnWholeView','StartListening','sv__StoryDetails','StartNStory','StartBekids','FabClickedPremium','PremiumBarClickedSD','PremiumBarClickedMain','AAPageA','ProPageA','GoldPageA','AAPageF','ProPageF','GoldPageF','EnterFcMore','sv__GlossaryF','LibraryClicked','sv__Libraries','PlayPrevParagraphFromButton','PlayNextParagraphFromButton','in_app_purchase','PurchaseNormal')\n",
    "),\n",
    "\n",
    "onboarding as (\n",
    "  select distinct\n",
    "    'onboarding' as event_name,\n",
    "    first_value(event_timestamp) over (partition by user_pseudo_id order by event_timestamp) as onboarding_timestamp,\n",
    "    first_value(event_date) over (partition by user_pseudo_id order by event_timestamp) as onboarding_date,\n",
    "    first_value(optional_label) over (partition by user_pseudo_id order by event_timestamp) as optional_label,\n",
    "    last_value(user_id) over (partition by user_pseudo_id order by event_timestamp) as user_id,\n",
    "    user_pseudo_id,\n",
    "    first_value(ga_session_id) over (partition by user_pseudo_id order by event_timestamp) as ga_session_id,\n",
    "    first_value(user_history_event_number) over (partition by user_pseudo_id order by event_timestamp) as user_history_event_number,\n",
    "    first_value(session_event_number) over (partition by user_pseudo_id order by event_timestamp) as session_event_number,\n",
    "    first_value(platform) over (partition by user_pseudo_id order by event_timestamp) as platform,\n",
    "    first_value(device_language) over (partition by user_pseudo_id order by event_timestamp) as device_language,\n",
    "    first_value(country) over (partition by user_pseudo_id order by event_timestamp) as country\n",
    "  from\n",
    "    initial_dataset\n",
    "  where\n",
    "    event_name in ('sv__OnBoardingTutorialVi','sv__OnBoardingTutorialVie')\n",
    "),\n",
    "\n",
    "purchases as (\n",
    "  select distinct\n",
    "    'in_app_purchase' as event_name,\n",
    "    first_value(event_timestamp) over (partition by user_pseudo_id order by event_timestamp) as first_purchase_timestamp,\n",
    "    first_value(event_date) over (partition by user_pseudo_id order by event_timestamp) as first_purchase_date,\n",
    "    first_value(optional_label) over (partition by user_pseudo_id order by event_timestamp) as optional_label,\n",
    "    last_value(user_id) over (partition by user_pseudo_id order by event_timestamp) as user_id,\n",
    "    user_pseudo_id,\n",
    "    first_value(ga_session_id) over (partition by user_pseudo_id order by event_timestamp) as ga_session_id,\n",
    "    first_value(user_history_event_number) over (partition by user_pseudo_id order by event_timestamp) as user_history_event_number,\n",
    "    first_value(session_event_number) over (partition by user_pseudo_id order by event_timestamp) as session_event_number,\n",
    "    first_value(platform) over (partition by user_pseudo_id order by event_timestamp) as platform,\n",
    "    first_value(device_language) over (partition by user_pseudo_id order by event_timestamp) as device_language,\n",
    "    first_value(country) over (partition by user_pseudo_id order by event_timestamp) as country\n",
    "  from\n",
    "    initial_dataset\n",
    "  where\n",
    "    event_name in ('in_app_purchase','PurchaseNormal')\n",
    "),\n",
    "\n",
    "relevant_events as (\n",
    "  select\n",
    "    ini.event_name,\n",
    "    ini.event_timestamp,\n",
    "    ini.event_date,\n",
    "    ini.optional_label,\n",
    "    ini.user_id,\n",
    "    ini.user_pseudo_id,\n",
    "    ini.ga_session_id,\n",
    "    ini.user_history_event_number,\n",
    "    ini.session_event_number,\n",
    "    ini.platform,\n",
    "    ini.device_language,\n",
    "    ini.country\n",
    "  from\n",
    "    initial_dataset as ini\n",
    "  left join\n",
    "    purchases as pur on pur.user_pseudo_id = ini.user_pseudo_id\n",
    "  left join\n",
    "    onboarding as onb on onb.user_pseudo_id = ini.user_pseudo_id\n",
    "  where\n",
    "    ini.event_name not in ('in_app_purchase','PurchaseNormal','sv__OnBoardingTutorialVi','sv__OnBoardingTutorialVie')\n",
    "  and\n",
    "    ini.event_timestamp between onb.onboarding_timestamp and timestamp_add(onb.onboarding_timestamp, interval 7 day)\n",
    "  union all\n",
    "  select\n",
    "    rep.event_name,\n",
    "    rep.first_purchase_timestamp as event_timestamp,\n",
    "    rep.first_purchase_date as event_date,\n",
    "    rep.optional_label,\n",
    "    rep.user_id,\n",
    "    rep.user_pseudo_id,\n",
    "    rep.ga_session_id,\n",
    "    rep.user_history_event_number,\n",
    "    rep.session_event_number,\n",
    "    rep.platform,\n",
    "    rep.device_language,\n",
    "    rep.country\n",
    "  from\n",
    "    purchases as rep\n",
    ")\n",
    "\n",
    "select\n",
    "  user_pseudo_id,\n",
    "  event_name,\n",
    "  count(event_timestamp) as occurrences_count,\n",
    "  min(event_timestamp) as first_event_timestamp,\n",
    "  max(event_timestamp) as last_event_timestamp\n",
    "from\n",
    "  relevant_events\n",
    "group by 1,2;\n",
    "\"\"\"\n",
    "df = pandas_gbq.read_gbq(all_events_query, project_id= 'beelinguapp')"
   ]
  },
  {
   "cell_type": "markdown",
   "metadata": {},
   "source": [
    "**checking the value counts for event_name and info**"
   ]
  },
  {
   "cell_type": "code",
   "execution_count": 6,
   "metadata": {
    "scrolled": true
   },
   "outputs": [
    {
     "data": {
      "text/plain": [
       "sv__Libraries                106023\n",
       "ClickOnWholeView              69156\n",
       "sv__WelcomeCarouselDialog     62812\n",
       "StartListening                60758\n",
       "sv__StoryDetails              55499\n",
       "StartNStory                   54142\n",
       "LibraryClicked                23947\n",
       "sv__NewPremiumAct             16775\n",
       "PremiumBarClickedMain          9315\n",
       "StartBekids                    5974\n",
       "sv__GlossaryF                  5461\n",
       "PremiumBarClickedSD            4245\n",
       "FabClickedPremium              2448\n",
       "EnterFcMore                    2273\n",
       "TryToBuyNewPAct                2010\n",
       "in_app_purchase                1177\n",
       "TryToBuyNewPF                   700\n",
       "Name: event_name, dtype: int64"
      ]
     },
     "execution_count": 6,
     "metadata": {},
     "output_type": "execute_result"
    }
   ],
   "source": [
    "df.event_name.value_counts()"
   ]
  },
  {
   "cell_type": "code",
   "execution_count": 57,
   "metadata": {},
   "outputs": [
    {
     "data": {
      "text/plain": [
       "17"
      ]
     },
     "execution_count": 57,
     "metadata": {},
     "output_type": "execute_result"
    }
   ],
   "source": [
    "df.event_name.nunique()"
   ]
  },
  {
   "cell_type": "code",
   "execution_count": 7,
   "metadata": {},
   "outputs": [
    {
     "name": "stdout",
     "output_type": "stream",
     "text": [
      "<class 'pandas.core.frame.DataFrame'>\n",
      "RangeIndex: 482715 entries, 0 to 482714\n",
      "Data columns (total 5 columns):\n",
      " #   Column                 Non-Null Count   Dtype              \n",
      "---  ------                 --------------   -----              \n",
      " 0   user_pseudo_id         482715 non-null  object             \n",
      " 1   event_name             482715 non-null  object             \n",
      " 2   occurrences_count      482715 non-null  int64              \n",
      " 3   first_event_timestamp  482715 non-null  datetime64[ns, UTC]\n",
      " 4   last_event_timestamp   482715 non-null  datetime64[ns, UTC]\n",
      "dtypes: datetime64[ns, UTC](2), int64(1), object(2)\n",
      "memory usage: 14.7+ MB\n"
     ]
    }
   ],
   "source": [
    "df.info()"
   ]
  },
  {
   "cell_type": "markdown",
   "metadata": {},
   "source": [
    "**Purchases Based on Platforms**"
   ]
  },
  {
   "cell_type": "code",
   "execution_count": 10,
   "metadata": {},
   "outputs": [
    {
     "data": {
      "text/plain": [
       "True"
      ]
     },
     "execution_count": 10,
     "metadata": {},
     "output_type": "execute_result"
    }
   ],
   "source": [
    "df[df.event_name=='in_app_purchase']['user_pseudo_id'].nunique() == len(df[df.event_name=='in_app_purchase']['user_pseudo_id'])\n",
    "# looking for whether there is more than 1 in_app_purchase per user"
   ]
  },
  {
   "cell_type": "code",
   "execution_count": 72,
   "metadata": {},
   "outputs": [],
   "source": [
    "df['platform'] = df['user_pseudo_id'].apply(lambda x: 'Android' if re.findall('[a-z]',x) else 'IOS')\n",
    "# creating platform column based on user_pseudo_id"
   ]
  },
  {
   "cell_type": "code",
   "execution_count": 73,
   "metadata": {
    "scrolled": false
   },
   "outputs": [
    {
     "data": {
      "image/png": "[encoded data removed]",
      "text/plain": [
       "<Figure size 432x288 with 1 Axes>"
      ]
     },
     "metadata": {},
     "output_type": "display_data"
    }
   ],
   "source": [
    "sns.set_theme(style=\"darkgrid\")\n",
    "sns.countplot(x='platform',data=df[df.event_name=='in_app_purchase'])\n",
    "plt.title('Subscriptions based on OS')\n",
    "plt.show()\n",
    "# indicate in_app_purchases based on different OS"
   ]
  },
  {
   "cell_type": "markdown",
   "metadata": {},
   "source": [
    "**Heat Map**"
   ]
  },
  {
   "cell_type": "code",
   "execution_count": 74,
   "metadata": {},
   "outputs": [],
   "source": [
    "df_log = df.pivot_table(index=[\"user_pseudo_id\"],columns=[\"event_name\"],fill_value=0)\n",
    "# getting the events_occurences aggregated in user_pseudo_level"
   ]
  },
  {
   "cell_type": "code",
   "execution_count": 75,
   "metadata": {},
   "outputs": [],
   "source": [
    "df_log.columns = df_log.columns.droplevel()\n",
    "# flattening the columns"
   ]
  },
  {
   "cell_type": "code",
   "execution_count": 76,
   "metadata": {},
   "outputs": [],
   "source": [
    "df_log.reset_index(inplace=True)\n",
    "# converting user_pseudo_id as a column"
   ]
  },
  {
   "cell_type": "code",
   "execution_count": 77,
   "metadata": {
    "scrolled": true
   },
   "outputs": [],
   "source": [
    "df_log['platform'] = df_log['user_pseudo_id'].apply(lambda x: 'Android' if re.findall('[a-z]',x) else 'IOS')\n",
    "#adding platforms to df_log"
   ]
  },
  {
   "cell_type": "code",
   "execution_count": 85,
   "metadata": {},
   "outputs": [
    {
     "data": {
      "text/plain": [
       "0    120277\n",
       "1      1171\n",
       "2         6\n",
       "Name: in_app_purchase, dtype: int64"
      ]
     },
     "execution_count": 85,
     "metadata": {},
     "output_type": "execute_result"
    }
   ],
   "source": [
    "df_log['in_app_purchase'].value_counts()\n",
    "#there are 2 event occurences in_app_purchases"
   ]
  },
  {
   "cell_type": "code",
   "execution_count": 86,
   "metadata": {},
   "outputs": [
    {
     "data": {
      "text/plain": [
       "1722    9bdf2b9dc1e36c56dc20d1b8e05d2e92\n",
       "2087    f0f56bd5124953d82601d336f4a70a02\n",
       "2475    f768bb55076b14d51a52b709ff09a839\n",
       "3254    e9aaf33848e3975412faa35cb045402f\n",
       "3629    bfcd61286b149a8b98ab867c2a13df33\n",
       "4921    266edf372500183f0e8bd7c2a5e89c04\n",
       "Name: user_pseudo_id, dtype: object"
      ]
     },
     "execution_count": 86,
     "metadata": {},
     "output_type": "execute_result"
    }
   ],
   "source": [
    "df[(df.event_name=='in_app_purchase') & (df.occurrences_count > 1)]['user_pseudo_id']\n",
    "#users who purchased more than 1"
   ]
  },
  {
   "cell_type": "code",
   "execution_count": 89,
   "metadata": {},
   "outputs": [],
   "source": [
    "df_log['in_app_purchase'] = np.where(df_log['in_app_purchase']>0,1,0)\n",
    "#converting in_app_purchase as binary"
   ]
  },
  {
   "cell_type": "code",
   "execution_count": 90,
   "metadata": {},
   "outputs": [
    {
     "data": {
      "text/plain": [
       "0    120277\n",
       "1      1177\n",
       "Name: in_app_purchase, dtype: int64"
      ]
     },
     "execution_count": 90,
     "metadata": {},
     "output_type": "execute_result"
    }
   ],
   "source": [
    "df_log['in_app_purchase'].value_counts()\n",
    "#checking the value counts again"
   ]
  },
  {
   "cell_type": "code",
   "execution_count": 91,
   "metadata": {
    "scrolled": true
   },
   "outputs": [
    {
     "data": {
      "image/png": "[encoded data removed]",
      "text/plain": [
       "<Figure size 792x648 with 2 Axes>"
      ]
     },
     "metadata": {},
     "output_type": "display_data"
    }
   ],
   "source": [
    "corr = df_log.corr()\n",
    "f, ax = plt.subplots(figsize=(11, 9))\n",
    "mask = np.triu(np.ones_like(corr, dtype=bool)) # removing the other side of the heatmap\n",
    "cmap = sns.diverging_palette(230, 20, as_cmap=True)\n",
    "sns.heatmap(corr,mask=mask,cmap=cmap,linewidths=.5,square=True)\n",
    "plt.show()\n",
    "#there is no really correlated events with in_app_purchase"
   ]
  },
  {
   "cell_type": "code",
   "execution_count": 92,
   "metadata": {
    "scrolled": true
   },
   "outputs": [
    {
     "data": {
      "image/png": "[encoded data removed]",
      "text/plain": [
       "<Figure size 792x648 with 2 Axes>"
      ]
     },
     "metadata": {},
     "output_type": "display_data"
    }
   ],
   "source": [
    "corr = df_log[df_log.platform=='Android'].corr()\n",
    "f, ax = plt.subplots(figsize=(11, 9))\n",
    "mask = np.triu(np.ones_like(corr, dtype=bool)) # removing the other side of the heatmap\n",
    "cmap = sns.diverging_palette(230, 20, as_cmap=True)\n",
    "sns.heatmap(corr,mask=mask,cmap=cmap,linewidths=.5,square=True)\n",
    "plt.show()\n",
    "#only android also does not show any correlation"
   ]
  },
  {
   "cell_type": "markdown",
   "metadata": {},
   "source": [
    "**Logistic Regression with All Events**"
   ]
  },
  {
   "cell_type": "code",
   "execution_count": 66,
   "metadata": {},
   "outputs": [],
   "source": [
    "cols = ['ClickOnWholeView', 'EnterFcMore','FabClickedPremium', 'LibraryClicked', 'PremiumBarClickedMain','PremiumBarClickedSD', 'StartBekids', 'StartListening', 'StartNStory','TryToBuyNewPAct', 'TryToBuyNewPF', 'sv__GlossaryF','sv__Libraries', 'sv__NewPremiumAct', 'sv__StoryDetails','sv__WelcomeCarouselDialog']"
   ]
  },
  {
   "cell_type": "code",
   "execution_count": 93,
   "metadata": {
    "scrolled": true
   },
   "outputs": [
    {
     "name": "stdout",
     "output_type": "stream",
     "text": [
      "Warning: Maximum number of iterations has been exceeded.\n",
      "         Current function value: 0.046688\n",
      "         Iterations: 35\n"
     ]
    },
    {
     "data": {
      "text/html": [
       "<table class=\"simpletable\">\n",
       "<caption>Logit Regression Results</caption>\n",
       "<tr>\n",
       "  <th>Dep. Variable:</th>    <td>in_app_purchase</td> <th>  No. Observations:  </th>  <td>121454</td> \n",
       "</tr>\n",
       "<tr>\n",
       "  <th>Model:</th>                 <td>Logit</td>      <th>  Df Residuals:      </th>  <td>121437</td> \n",
       "</tr>\n",
       "<tr>\n",
       "  <th>Method:</th>                 <td>MLE</td>       <th>  Df Model:          </th>  <td>    16</td> \n",
       "</tr>\n",
       "<tr>\n",
       "  <th>Date:</th>            <td>Fri, 11 Dec 2020</td> <th>  Pseudo R-squ.:     </th>  <td>0.1445</td> \n",
       "</tr>\n",
       "<tr>\n",
       "  <th>Time:</th>                <td>21:40:29</td>     <th>  Log-Likelihood:    </th> <td> -5670.4</td>\n",
       "</tr>\n",
       "<tr>\n",
       "  <th>converged:</th>             <td>False</td>      <th>  LL-Null:           </th> <td> -6628.5</td>\n",
       "</tr>\n",
       "<tr>\n",
       "  <th>Covariance Type:</th>     <td>nonrobust</td>    <th>  LLR p-value:       </th>  <td> 0.000</td> \n",
       "</tr>\n",
       "</table>\n",
       "<table class=\"simpletable\">\n",
       "<tr>\n",
       "              <td></td>                 <th>coef</th>     <th>std err</th>      <th>z</th>      <th>P>|z|</th>  <th>[0.025</th>    <th>0.975]</th>  \n",
       "</tr>\n",
       "<tr>\n",
       "  <th>const</th>                     <td>   -4.7558</td> <td>    0.043</td> <td> -110.913</td> <td> 0.000</td> <td>   -4.840</td> <td>   -4.672</td>\n",
       "</tr>\n",
       "<tr>\n",
       "  <th>ClickOnWholeView</th>          <td>   -0.0060</td> <td>    0.009</td> <td>   -0.694</td> <td> 0.488</td> <td>   -0.023</td> <td>    0.011</td>\n",
       "</tr>\n",
       "<tr>\n",
       "  <th>EnterFcMore</th>               <td>    0.2442</td> <td>    0.060</td> <td>    4.056</td> <td> 0.000</td> <td>    0.126</td> <td>    0.362</td>\n",
       "</tr>\n",
       "<tr>\n",
       "  <th>FabClickedPremium</th>         <td>    0.8665</td> <td>    0.109</td> <td>    7.940</td> <td> 0.000</td> <td>    0.653</td> <td>    1.080</td>\n",
       "</tr>\n",
       "<tr>\n",
       "  <th>LibraryClicked</th>            <td>    0.0535</td> <td>    0.014</td> <td>    3.701</td> <td> 0.000</td> <td>    0.025</td> <td>    0.082</td>\n",
       "</tr>\n",
       "<tr>\n",
       "  <th>PremiumBarClickedMain</th>     <td>    0.2284</td> <td>    0.080</td> <td>    2.862</td> <td> 0.004</td> <td>    0.072</td> <td>    0.385</td>\n",
       "</tr>\n",
       "<tr>\n",
       "  <th>PremiumBarClickedSD</th>       <td>    0.1678</td> <td>    0.107</td> <td>    1.572</td> <td> 0.116</td> <td>   -0.041</td> <td>    0.377</td>\n",
       "</tr>\n",
       "<tr>\n",
       "  <th>StartBekids</th>               <td>   -0.1741</td> <td>    0.031</td> <td>   -5.659</td> <td> 0.000</td> <td>   -0.234</td> <td>   -0.114</td>\n",
       "</tr>\n",
       "<tr>\n",
       "  <th>StartListening</th>            <td>    0.3250</td> <td>    0.019</td> <td>   17.372</td> <td> 0.000</td> <td>    0.288</td> <td>    0.362</td>\n",
       "</tr>\n",
       "<tr>\n",
       "  <th>StartNStory</th>               <td>   -0.1107</td> <td>    0.016</td> <td>   -6.913</td> <td> 0.000</td> <td>   -0.142</td> <td>   -0.079</td>\n",
       "</tr>\n",
       "<tr>\n",
       "  <th>TryToBuyNewPAct</th>           <td>    1.2480</td> <td>    0.081</td> <td>   15.481</td> <td> 0.000</td> <td>    1.090</td> <td>    1.406</td>\n",
       "</tr>\n",
       "<tr>\n",
       "  <th>TryToBuyNewPF</th>             <td>    0.0230</td> <td>    0.029</td> <td>    0.808</td> <td> 0.419</td> <td>   -0.033</td> <td>    0.079</td>\n",
       "</tr>\n",
       "<tr>\n",
       "  <th>sv__GlossaryF</th>             <td>    0.0756</td> <td>    0.051</td> <td>    1.485</td> <td> 0.138</td> <td>   -0.024</td> <td>    0.175</td>\n",
       "</tr>\n",
       "<tr>\n",
       "  <th>sv__Libraries</th>             <td>   -0.0042</td> <td>    0.006</td> <td>   -0.733</td> <td> 0.464</td> <td>   -0.016</td> <td>    0.007</td>\n",
       "</tr>\n",
       "<tr>\n",
       "  <th>sv__NewPremiumAct</th>         <td>   -0.5136</td> <td>    0.067</td> <td>   -7.647</td> <td> 0.000</td> <td>   -0.645</td> <td>   -0.382</td>\n",
       "</tr>\n",
       "<tr>\n",
       "  <th>sv__StoryDetails</th>          <td>   -0.0664</td> <td>    0.007</td> <td>   -9.929</td> <td> 0.000</td> <td>   -0.079</td> <td>   -0.053</td>\n",
       "</tr>\n",
       "<tr>\n",
       "  <th>sv__WelcomeCarouselDialog</th> <td>   -0.5360</td> <td>    0.060</td> <td>   -8.915</td> <td> 0.000</td> <td>   -0.654</td> <td>   -0.418</td>\n",
       "</tr>\n",
       "</table>"
      ],
      "text/plain": [
       "<class 'statsmodels.iolib.summary.Summary'>\n",
       "\"\"\"\n",
       "                           Logit Regression Results                           \n",
       "==============================================================================\n",
       "Dep. Variable:        in_app_purchase   No. Observations:               121454\n",
       "Model:                          Logit   Df Residuals:                   121437\n",
       "Method:                           MLE   Df Model:                           16\n",
       "Date:                Fri, 11 Dec 2020   Pseudo R-squ.:                  0.1445\n",
       "Time:                        21:40:29   Log-Likelihood:                -5670.4\n",
       "converged:                      False   LL-Null:                       -6628.5\n",
       "Covariance Type:            nonrobust   LLR p-value:                     0.000\n",
       "=============================================================================================\n",
       "                                coef    std err          z      P>|z|      [0.025      0.975]\n",
       "---------------------------------------------------------------------------------------------\n",
       "const                        -4.7558      0.043   -110.913      0.000      -4.840      -4.672\n",
       "ClickOnWholeView             -0.0060      0.009     -0.694      0.488      -0.023       0.011\n",
       "EnterFcMore                   0.2442      0.060      4.056      0.000       0.126       0.362\n",
       "FabClickedPremium             0.8665      0.109      7.940      0.000       0.653       1.080\n",
       "LibraryClicked                0.0535      0.014      3.701      0.000       0.025       0.082\n",
       "PremiumBarClickedMain         0.2284      0.080      2.862      0.004       0.072       0.385\n",
       "PremiumBarClickedSD           0.1678      0.107      1.572      0.116      -0.041       0.377\n",
       "StartBekids                  -0.1741      0.031     -5.659      0.000      -0.234      -0.114\n",
       "StartListening                0.3250      0.019     17.372      0.000       0.288       0.362\n",
       "StartNStory                  -0.1107      0.016     -6.913      0.000      -0.142      -0.079\n",
       "TryToBuyNewPAct               1.2480      0.081     15.481      0.000       1.090       1.406\n",
       "TryToBuyNewPF                 0.0230      0.029      0.808      0.419      -0.033       0.079\n",
       "sv__GlossaryF                 0.0756      0.051      1.485      0.138      -0.024       0.175\n",
       "sv__Libraries                -0.0042      0.006     -0.733      0.464      -0.016       0.007\n",
       "sv__NewPremiumAct            -0.5136      0.067     -7.647      0.000      -0.645      -0.382\n",
       "sv__StoryDetails             -0.0664      0.007     -9.929      0.000      -0.079      -0.053\n",
       "sv__WelcomeCarouselDialog    -0.5360      0.060     -8.915      0.000      -0.654      -0.418\n",
       "=============================================================================================\n",
       "\"\"\""
      ]
     },
     "execution_count": 93,
     "metadata": {},
     "output_type": "execute_result"
    }
   ],
   "source": [
    "y = df_log['in_app_purchase']\n",
    "X = df_log[cols]\n",
    "X = sm.add_constant(X)\n",
    "model = sm.Logit(y, X).fit()\n",
    "model.summary()\n",
    "#logistic regression for both platforms"
   ]
  },
  {
   "cell_type": "code",
   "execution_count": 97,
   "metadata": {
    "scrolled": false
   },
   "outputs": [
    {
     "name": "stdout",
     "output_type": "stream",
     "text": [
      "Optimization terminated successfully.\n",
      "         Current function value: 0.035332\n",
      "         Iterations 10\n"
     ]
    },
    {
     "data": {
      "text/html": [
       "<table class=\"simpletable\">\n",
       "<caption>Logit Regression Results</caption>\n",
       "<tr>\n",
       "  <th>Dep. Variable:</th>    <td>in_app_purchase</td> <th>  No. Observations:  </th>   <td>106224</td>  \n",
       "</tr>\n",
       "<tr>\n",
       "  <th>Model:</th>                 <td>Logit</td>      <th>  Df Residuals:      </th>   <td>106207</td>  \n",
       "</tr>\n",
       "<tr>\n",
       "  <th>Method:</th>                 <td>MLE</td>       <th>  Df Model:          </th>   <td>    16</td>  \n",
       "</tr>\n",
       "<tr>\n",
       "  <th>Date:</th>            <td>Fri, 11 Dec 2020</td> <th>  Pseudo R-squ.:     </th>   <td>0.1654</td>  \n",
       "</tr>\n",
       "<tr>\n",
       "  <th>Time:</th>                <td>21:44:02</td>     <th>  Log-Likelihood:    </th>  <td> -3753.1</td> \n",
       "</tr>\n",
       "<tr>\n",
       "  <th>converged:</th>             <td>True</td>       <th>  LL-Null:           </th>  <td> -4496.9</td> \n",
       "</tr>\n",
       "<tr>\n",
       "  <th>Covariance Type:</th>     <td>nonrobust</td>    <th>  LLR p-value:       </th> <td>2.371e-307</td>\n",
       "</tr>\n",
       "</table>\n",
       "<table class=\"simpletable\">\n",
       "<tr>\n",
       "              <td></td>                 <th>coef</th>     <th>std err</th>      <th>z</th>      <th>P>|z|</th>  <th>[0.025</th>    <th>0.975]</th>  \n",
       "</tr>\n",
       "<tr>\n",
       "  <th>const</th>                     <td>   -5.1331</td> <td>    0.053</td> <td>  -96.104</td> <td> 0.000</td> <td>   -5.238</td> <td>   -5.028</td>\n",
       "</tr>\n",
       "<tr>\n",
       "  <th>ClickOnWholeView</th>          <td>    0.0727</td> <td>    0.018</td> <td>    4.031</td> <td> 0.000</td> <td>    0.037</td> <td>    0.108</td>\n",
       "</tr>\n",
       "<tr>\n",
       "  <th>EnterFcMore</th>               <td>    0.2881</td> <td>    0.061</td> <td>    4.705</td> <td> 0.000</td> <td>    0.168</td> <td>    0.408</td>\n",
       "</tr>\n",
       "<tr>\n",
       "  <th>FabClickedPremium</th>         <td>    0.8176</td> <td>    0.110</td> <td>    7.412</td> <td> 0.000</td> <td>    0.601</td> <td>    1.034</td>\n",
       "</tr>\n",
       "<tr>\n",
       "  <th>LibraryClicked</th>            <td>    0.0534</td> <td>    0.014</td> <td>    3.724</td> <td> 0.000</td> <td>    0.025</td> <td>    0.082</td>\n",
       "</tr>\n",
       "<tr>\n",
       "  <th>PremiumBarClickedMain</th>     <td>    0.2004</td> <td>    0.081</td> <td>    2.484</td> <td> 0.013</td> <td>    0.042</td> <td>    0.358</td>\n",
       "</tr>\n",
       "<tr>\n",
       "  <th>PremiumBarClickedSD</th>       <td>    0.1798</td> <td>    0.110</td> <td>    1.637</td> <td> 0.102</td> <td>   -0.035</td> <td>    0.395</td>\n",
       "</tr>\n",
       "<tr>\n",
       "  <th>StartBekids</th>               <td>   -0.0752</td> <td>    0.029</td> <td>   -2.551</td> <td> 0.011</td> <td>   -0.133</td> <td>   -0.017</td>\n",
       "</tr>\n",
       "<tr>\n",
       "  <th>StartListening</th>            <td>    0.4048</td> <td>    0.025</td> <td>   16.251</td> <td> 0.000</td> <td>    0.356</td> <td>    0.454</td>\n",
       "</tr>\n",
       "<tr>\n",
       "  <th>StartNStory</th>               <td>   -0.1174</td> <td>    0.017</td> <td>   -6.871</td> <td> 0.000</td> <td>   -0.151</td> <td>   -0.084</td>\n",
       "</tr>\n",
       "<tr>\n",
       "  <th>TryToBuyNewPAct</th>           <td>    1.2306</td> <td>    0.079</td> <td>   15.664</td> <td> 0.000</td> <td>    1.077</td> <td>    1.385</td>\n",
       "</tr>\n",
       "<tr>\n",
       "  <th>TryToBuyNewPF</th>             <td>    0.0276</td> <td>    0.028</td> <td>    0.976</td> <td> 0.329</td> <td>   -0.028</td> <td>    0.083</td>\n",
       "</tr>\n",
       "<tr>\n",
       "  <th>sv__GlossaryF</th>             <td>    0.1133</td> <td>    0.047</td> <td>    2.408</td> <td> 0.016</td> <td>    0.021</td> <td>    0.205</td>\n",
       "</tr>\n",
       "<tr>\n",
       "  <th>sv__Libraries</th>             <td>   -0.0039</td> <td>    0.006</td> <td>   -0.606</td> <td> 0.544</td> <td>   -0.017</td> <td>    0.009</td>\n",
       "</tr>\n",
       "<tr>\n",
       "  <th>sv__NewPremiumAct</th>         <td>   -0.4682</td> <td>    0.068</td> <td>   -6.930</td> <td> 0.000</td> <td>   -0.601</td> <td>   -0.336</td>\n",
       "</tr>\n",
       "<tr>\n",
       "  <th>sv__StoryDetails</th>          <td>   -0.1431</td> <td>    0.015</td> <td>   -9.545</td> <td> 0.000</td> <td>   -0.173</td> <td>   -0.114</td>\n",
       "</tr>\n",
       "<tr>\n",
       "  <th>sv__WelcomeCarouselDialog</th> <td>   -0.3356</td> <td>    0.057</td> <td>   -5.852</td> <td> 0.000</td> <td>   -0.448</td> <td>   -0.223</td>\n",
       "</tr>\n",
       "</table>"
      ],
      "text/plain": [
       "<class 'statsmodels.iolib.summary.Summary'>\n",
       "\"\"\"\n",
       "                           Logit Regression Results                           \n",
       "==============================================================================\n",
       "Dep. Variable:        in_app_purchase   No. Observations:               106224\n",
       "Model:                          Logit   Df Residuals:                   106207\n",
       "Method:                           MLE   Df Model:                           16\n",
       "Date:                Fri, 11 Dec 2020   Pseudo R-squ.:                  0.1654\n",
       "Time:                        21:44:02   Log-Likelihood:                -3753.1\n",
       "converged:                       True   LL-Null:                       -4496.9\n",
       "Covariance Type:            nonrobust   LLR p-value:                2.371e-307\n",
       "=============================================================================================\n",
       "                                coef    std err          z      P>|z|      [0.025      0.975]\n",
       "---------------------------------------------------------------------------------------------\n",
       "const                        -5.1331      0.053    -96.104      0.000      -5.238      -5.028\n",
       "ClickOnWholeView              0.0727      0.018      4.031      0.000       0.037       0.108\n",
       "EnterFcMore                   0.2881      0.061      4.705      0.000       0.168       0.408\n",
       "FabClickedPremium             0.8176      0.110      7.412      0.000       0.601       1.034\n",
       "LibraryClicked                0.0534      0.014      3.724      0.000       0.025       0.082\n",
       "PremiumBarClickedMain         0.2004      0.081      2.484      0.013       0.042       0.358\n",
       "PremiumBarClickedSD           0.1798      0.110      1.637      0.102      -0.035       0.395\n",
       "StartBekids                  -0.0752      0.029     -2.551      0.011      -0.133      -0.017\n",
       "StartListening                0.4048      0.025     16.251      0.000       0.356       0.454\n",
       "StartNStory                  -0.1174      0.017     -6.871      0.000      -0.151      -0.084\n",
       "TryToBuyNewPAct               1.2306      0.079     15.664      0.000       1.077       1.385\n",
       "TryToBuyNewPF                 0.0276      0.028      0.976      0.329      -0.028       0.083\n",
       "sv__GlossaryF                 0.1133      0.047      2.408      0.016       0.021       0.205\n",
       "sv__Libraries                -0.0039      0.006     -0.606      0.544      -0.017       0.009\n",
       "sv__NewPremiumAct            -0.4682      0.068     -6.930      0.000      -0.601      -0.336\n",
       "sv__StoryDetails             -0.1431      0.015     -9.545      0.000      -0.173      -0.114\n",
       "sv__WelcomeCarouselDialog    -0.3356      0.057     -5.852      0.000      -0.448      -0.223\n",
       "=============================================================================================\n",
       "\"\"\""
      ]
     },
     "execution_count": 97,
     "metadata": {},
     "output_type": "execute_result"
    }
   ],
   "source": [
    "y = df_log[df_log.platform=='Android']['in_app_purchase']\n",
    "X = df_log[df_log.platform=='Android'][cols]\n",
    "X = sm.add_constant(X)\n",
    "model = sm.Logit(y, X).fit()\n",
    "model.summary()\n",
    "#logistic regression only for Android"
   ]
  },
  {
   "cell_type": "markdown",
   "metadata": {},
   "source": [
    "**Query with 30 days and +30 minutes**"
   ]
  },
  {
   "cell_type": "code",
   "execution_count": 98,
   "metadata": {},
   "outputs": [],
   "source": [
    "query=\"\"\"with initial_dataset as (\n",
    "  select\n",
    "    case \n",
    "      when event_name like 'sv__OnBoardingTutorialVi%' then 'sv__OnBoardingTutorialView'\n",
    "      else event_name\n",
    "    end as event_name,\n",
    "    optional_label,\n",
    "    event_timestamp,\n",
    "    event_date,\n",
    "    user_id,\n",
    "    user_pseudo_id,\n",
    "    ga_session_id,\n",
    "    user_history_event_number,\n",
    "    session_event_number,\n",
    "    platform,\n",
    "    device_language,\n",
    "    country\n",
    "  from\n",
    "    analytics_151430920.firebase_facts_events as eve\n",
    "  where\n",
    "    eve.event_timestamp >= '2020-11-01'\n",
    "  and\n",
    "    eve.event_name in ('sv__OnBoardingTutorialVi','sv__WelcomeCarouselDialog','sv__NewPremiumAct','TryToBuyNewPAct','TryToBuyNewPF','ClickOnWholeView','StartListening','sv__StoryDetails','StartNStory','StartBekids','FabClickedPremium','PremiumBarClickedSD','PremiumBarClickedMain','sv__AAPageA','sv__ProPageA','sv_GoldPageA','sv__AAPageF','sv__ProPageF','sv__GoldPageF','EnterFcMore','sv__GlossaryF','LibraryClicked','sv__Libraries','PlayPrevParagraph','PlayNextParagraphFromBut','sv__OnBoardingTutorialVie',\"in_app_purchase\",\"PurchaseNormal\")\n",
    "),   \n",
    "premium_promo_shown as (\n",
    "  select distinct\n",
    "    user_pseudo_id,\n",
    "    first_value(event_timestamp) over (partition by user_pseudo_id order by event_timestamp) as first_premium_promo_shown_timestamp\n",
    "  from\n",
    "    initial_dataset\n",
    "  where\n",
    "    event_name = 'sv__WelcomeCarouselDialog'\n",
    "),\n",
    "purchases as (\n",
    "  select distinct\n",
    "    'in_app_purchase' as event_name,\n",
    "    first_value(event_timestamp) over (partition by user_pseudo_id order by event_timestamp) as first_purchase_timestamp,\n",
    "    first_value(event_date) over (partition by user_pseudo_id order by event_timestamp) as first_purchase_date,\n",
    "    first_value(optional_label) over (partition by user_pseudo_id order by event_timestamp) as optional_label,\n",
    "    last_value(user_id) over (partition by user_pseudo_id order by event_timestamp) as user_id,\n",
    "    user_pseudo_id,\n",
    "    first_value(ga_session_id) over (partition by user_pseudo_id order by event_timestamp) as ga_session_id,\n",
    "    first_value(user_history_event_number) over (partition by user_pseudo_id order by event_timestamp) as user_history_event_number,\n",
    "    first_value(session_event_number) over (partition by user_pseudo_id order by event_timestamp) as session_event_number,\n",
    "    first_value(platform) over (partition by user_pseudo_id order by event_timestamp) as platform,\n",
    "    first_value(device_language) over (partition by user_pseudo_id order by event_timestamp) as device_language,\n",
    "    first_value(country) over (partition by user_pseudo_id order by event_timestamp) as country\n",
    "  from\n",
    "    initial_dataset\n",
    "  where\n",
    "    event_name in ('in_app_purchase','PurchaseNormal')\n",
    "),\n",
    "relevant_purchases as (\n",
    "  select\n",
    "    pu.event_name,\n",
    "    pu.first_purchase_timestamp,\n",
    "    pu.first_purchase_date,\n",
    "    ps.first_premium_promo_shown_timestamp,\n",
    "    pu.optional_label,\n",
    "    pu.user_id,\n",
    "    pu.user_pseudo_id,\n",
    "    pu.ga_session_id,\n",
    "    pu.user_history_event_number,\n",
    "    pu.session_event_number,\n",
    "    pu.platform,\n",
    "    pu.device_language,\n",
    "    pu.country\n",
    "  from\n",
    "    purchases as pu\n",
    "  join\n",
    "    premium_promo_shown as ps on ps.user_pseudo_id = pu.user_pseudo_id\n",
    "  where\n",
    "    pu.first_purchase_timestamp > timestamp_add(ps.first_premium_promo_shown_timestamp, interval 30 minute)\n",
    "),\n",
    "relevant_events as (\n",
    "  select\n",
    "    ini.event_name,\n",
    "    ini.event_timestamp,\n",
    "    ini.event_date,\n",
    "    ini.optional_label,\n",
    "    ini.user_id,\n",
    "    ini.user_pseudo_id,\n",
    "    ini.ga_session_id,\n",
    "    ini.user_history_event_number,\n",
    "    ini.session_event_number,\n",
    "    ini.platform,\n",
    "    ini.device_language,\n",
    "    ini.country\n",
    "  from\n",
    "    initial_dataset as ini\n",
    "  left join\n",
    "    premium_promo_shown as ps on ps.user_pseudo_id = ini.user_pseudo_id\n",
    "  where\n",
    "    event_name != 'in_app_purchase'\n",
    "  and\n",
    "    ini.event_timestamp between ps.first_premium_promo_shown_timestamp and timestamp_add(first_premium_promo_shown_timestamp, interval 30 day)\n",
    "  union all\n",
    "  select\n",
    "    rep.event_name,\n",
    "    rep.first_purchase_timestamp as event_timestamp,\n",
    "    rep.first_purchase_date as event_date,\n",
    "    rep.optional_label,\n",
    "    rep.user_id,\n",
    "    rep.user_pseudo_id,\n",
    "    rep.ga_session_id,\n",
    "    rep.user_history_event_number,\n",
    "    rep.session_event_number,\n",
    "    rep.platform,\n",
    "    rep.device_language,\n",
    "    rep.country\n",
    "  from\n",
    "    relevant_purchases as rep\n",
    "  where\n",
    "    rep.first_purchase_timestamp between rep.first_premium_promo_shown_timestamp and timestamp_add(rep.first_premium_promo_shown_timestamp, interval 30 day)\n",
    ")\n",
    "select\n",
    "  user_pseudo_id,\n",
    "  event_name,\n",
    "  count(event_timestamp) as occurrences_count,\n",
    "  min(event_timestamp) as first_event_timestamp,\n",
    "  max(event_timestamp) as last_event_timestamp\n",
    "from\n",
    "  relevant_events\n",
    "group by 1,2;\"\"\"\n",
    "df2 = pandas_gbq.read_gbq(query, project_id= 'beelinguapp')"
   ]
  },
  {
   "cell_type": "markdown",
   "metadata": {},
   "source": [
    "**Investigating Dataframe and Creating Pivot**"
   ]
  },
  {
   "cell_type": "code",
   "execution_count": 100,
   "metadata": {},
   "outputs": [
    {
     "name": "stdout",
     "output_type": "stream",
     "text": [
      "<class 'pandas.core.frame.DataFrame'>\n",
      "RangeIndex: 408117 entries, 0 to 408116\n",
      "Data columns (total 5 columns):\n",
      " #   Column                 Non-Null Count   Dtype              \n",
      "---  ------                 --------------   -----              \n",
      " 0   user_pseudo_id         408117 non-null  object             \n",
      " 1   event_name             408117 non-null  object             \n",
      " 2   occurrences_count      408117 non-null  int64              \n",
      " 3   first_event_timestamp  408117 non-null  datetime64[ns, UTC]\n",
      " 4   last_event_timestamp   408117 non-null  datetime64[ns, UTC]\n",
      "dtypes: datetime64[ns, UTC](2), int64(1), object(2)\n",
      "memory usage: 12.5+ MB\n"
     ]
    }
   ],
   "source": [
    "df2.info()"
   ]
  },
  {
   "cell_type": "code",
   "execution_count": 101,
   "metadata": {
    "scrolled": true
   },
   "outputs": [
    {
     "data": {
      "text/plain": [
       "sv__WelcomeCarouselDialog     64464\n",
       "sv__Libraries                 60524\n",
       "sv__StoryDetails              49357\n",
       "ClickOnWholeView              48778\n",
       "StartListening                43228\n",
       "StartNStory                   37712\n",
       "LibraryClicked                21321\n",
       "sv__NewPremiumAct             17051\n",
       "sv__AAPageA                    9859\n",
       "PremiumBarClickedMain          9642\n",
       "sv__ProPageA                   7294\n",
       "sv__AAPageF                    6479\n",
       "sv__ProPageF                   5025\n",
       "sv__GlossaryF                  4911\n",
       "StartBekids                    4364\n",
       "PremiumBarClickedSD            4341\n",
       "PlayNextParagraphFromBut       4120\n",
       "FabClickedPremium              2437\n",
       "TryToBuyNewPAct                2085\n",
       "sv__GoldPageF                  2044\n",
       "EnterFcMore                    1798\n",
       "TryToBuyNewPF                   741\n",
       "sv__OnBoardingTutorialView      273\n",
       "PlayPrevParagraph               173\n",
       "in_app_purchase                  96\n",
       "Name: event_name, dtype: int64"
      ]
     },
     "execution_count": 101,
     "metadata": {},
     "output_type": "execute_result"
    }
   ],
   "source": [
    "df2[\"event_name\"].value_counts() #why do we have still sv_WelcomeCarouselDialog here? although there is less purchase"
   ]
  },
  {
   "cell_type": "code",
   "execution_count": 102,
   "metadata": {},
   "outputs": [],
   "source": [
    "df_log2 = df2.pivot_table(index=[\"user_pseudo_id\"],columns=[\"event_name\"],fill_value=0)"
   ]
  },
  {
   "cell_type": "code",
   "execution_count": 103,
   "metadata": {},
   "outputs": [],
   "source": [
    "df_log2.columns = df_log2.columns.droplevel() #to get rid of the first column name of nested column"
   ]
  },
  {
   "cell_type": "code",
   "execution_count": 104,
   "metadata": {},
   "outputs": [],
   "source": [
    "df_log2.reset_index(inplace=True)"
   ]
  },
  {
   "cell_type": "markdown",
   "metadata": {},
   "source": [
    "**Logistic Regressions for +30 mins**"
   ]
  },
  {
   "cell_type": "code",
   "execution_count": 105,
   "metadata": {},
   "outputs": [],
   "source": [
    "cols2 = ['ClickOnWholeView',\n",
    " 'EnterFcMore',\n",
    " 'FabClickedPremium',\n",
    " 'LibraryClicked',\n",
    " 'PlayNextParagraphFromBut',\n",
    " 'PlayPrevParagraph',\n",
    " 'PremiumBarClickedMain',\n",
    " 'PremiumBarClickedSD',\n",
    " 'StartBekids',\n",
    " 'StartListening',\n",
    " 'StartNStory',\n",
    " 'TryToBuyNewPAct',\n",
    " 'TryToBuyNewPF',\n",
    " 'sv__AAPageA',\n",
    " 'sv__AAPageF',\n",
    " 'sv__GlossaryF',\n",
    " 'sv__GoldPageF',\n",
    " 'sv__Libraries',\n",
    " 'sv__NewPremiumAct',\n",
    " 'sv__OnBoardingTutorialView',\n",
    " 'sv__ProPageA',\n",
    " 'sv__ProPageF',\n",
    " 'sv__StoryDetails',\n",
    " 'sv__WelcomeCarouselDialog']"
   ]
  },
  {
   "cell_type": "code",
   "execution_count": 106,
   "metadata": {},
   "outputs": [
    {
     "name": "stdout",
     "output_type": "stream",
     "text": [
      "Optimization terminated successfully.\n",
      "         Current function value: 0.007341\n",
      "         Iterations 11\n"
     ]
    },
    {
     "data": {
      "text/html": [
       "<table class=\"simpletable\">\n",
       "<caption>Logit Regression Results</caption>\n",
       "<tr>\n",
       "  <th>Dep. Variable:</th>    <td>in_app_purchase</td> <th>  No. Observations:  </th>  <td> 64464</td>  \n",
       "</tr>\n",
       "<tr>\n",
       "  <th>Model:</th>                 <td>Logit</td>      <th>  Df Residuals:      </th>  <td> 64439</td>  \n",
       "</tr>\n",
       "<tr>\n",
       "  <th>Method:</th>                 <td>MLE</td>       <th>  Df Model:          </th>  <td>    24</td>  \n",
       "</tr>\n",
       "<tr>\n",
       "  <th>Date:</th>            <td>Fri, 11 Dec 2020</td> <th>  Pseudo R-squ.:     </th>  <td>0.3435</td>  \n",
       "</tr>\n",
       "<tr>\n",
       "  <th>Time:</th>                <td>21:52:10</td>     <th>  Log-Likelihood:    </th> <td> -473.23</td> \n",
       "</tr>\n",
       "<tr>\n",
       "  <th>converged:</th>             <td>True</td>       <th>  LL-Null:           </th> <td> -720.84</td> \n",
       "</tr>\n",
       "<tr>\n",
       "  <th>Covariance Type:</th>     <td>nonrobust</td>    <th>  LLR p-value:       </th> <td>1.632e-89</td>\n",
       "</tr>\n",
       "</table>\n",
       "<table class=\"simpletable\">\n",
       "<tr>\n",
       "               <td></td>                 <th>coef</th>     <th>std err</th>      <th>z</th>      <th>P>|z|</th>  <th>[0.025</th>    <th>0.975]</th>  \n",
       "</tr>\n",
       "<tr>\n",
       "  <th>const</th>                      <td>   -7.4580</td> <td>    0.334</td> <td>  -22.322</td> <td> 0.000</td> <td>   -8.113</td> <td>   -6.803</td>\n",
       "</tr>\n",
       "<tr>\n",
       "  <th>ClickOnWholeView</th>           <td>   -0.0918</td> <td>    0.025</td> <td>   -3.658</td> <td> 0.000</td> <td>   -0.141</td> <td>   -0.043</td>\n",
       "</tr>\n",
       "<tr>\n",
       "  <th>EnterFcMore</th>                <td>    0.2950</td> <td>    0.165</td> <td>    1.783</td> <td> 0.075</td> <td>   -0.029</td> <td>    0.619</td>\n",
       "</tr>\n",
       "<tr>\n",
       "  <th>FabClickedPremium</th>          <td>    0.7055</td> <td>    0.259</td> <td>    2.728</td> <td> 0.006</td> <td>    0.199</td> <td>    1.212</td>\n",
       "</tr>\n",
       "<tr>\n",
       "  <th>LibraryClicked</th>             <td>    0.1011</td> <td>    0.021</td> <td>    4.716</td> <td> 0.000</td> <td>    0.059</td> <td>    0.143</td>\n",
       "</tr>\n",
       "<tr>\n",
       "  <th>PlayNextParagraphFromBut</th>   <td>    0.0222</td> <td>    0.006</td> <td>    3.649</td> <td> 0.000</td> <td>    0.010</td> <td>    0.034</td>\n",
       "</tr>\n",
       "<tr>\n",
       "  <th>PlayPrevParagraph</th>          <td>   -0.0250</td> <td>    0.359</td> <td>   -0.070</td> <td> 0.945</td> <td>   -0.729</td> <td>    0.679</td>\n",
       "</tr>\n",
       "<tr>\n",
       "  <th>PremiumBarClickedMain</th>      <td>    0.4250</td> <td>    0.117</td> <td>    3.633</td> <td> 0.000</td> <td>    0.196</td> <td>    0.654</td>\n",
       "</tr>\n",
       "<tr>\n",
       "  <th>PremiumBarClickedSD</th>        <td>    0.8053</td> <td>    0.178</td> <td>    4.526</td> <td> 0.000</td> <td>    0.457</td> <td>    1.154</td>\n",
       "</tr>\n",
       "<tr>\n",
       "  <th>StartBekids</th>                <td>   -0.1243</td> <td>    0.052</td> <td>   -2.393</td> <td> 0.017</td> <td>   -0.226</td> <td>   -0.022</td>\n",
       "</tr>\n",
       "<tr>\n",
       "  <th>StartListening</th>             <td>    0.1140</td> <td>    0.040</td> <td>    2.857</td> <td> 0.004</td> <td>    0.036</td> <td>    0.192</td>\n",
       "</tr>\n",
       "<tr>\n",
       "  <th>StartNStory</th>                <td>   -0.0596</td> <td>    0.026</td> <td>   -2.282</td> <td> 0.022</td> <td>   -0.111</td> <td>   -0.008</td>\n",
       "</tr>\n",
       "<tr>\n",
       "  <th>TryToBuyNewPAct</th>            <td>    0.5205</td> <td>    0.092</td> <td>    5.676</td> <td> 0.000</td> <td>    0.341</td> <td>    0.700</td>\n",
       "</tr>\n",
       "<tr>\n",
       "  <th>TryToBuyNewPF</th>              <td>    0.0698</td> <td>    0.032</td> <td>    2.197</td> <td> 0.028</td> <td>    0.008</td> <td>    0.132</td>\n",
       "</tr>\n",
       "<tr>\n",
       "  <th>sv__AAPageA</th>                <td>    0.0831</td> <td>    0.086</td> <td>    0.961</td> <td> 0.336</td> <td>   -0.086</td> <td>    0.252</td>\n",
       "</tr>\n",
       "<tr>\n",
       "  <th>sv__AAPageF</th>                <td>    0.1595</td> <td>    0.195</td> <td>    0.817</td> <td> 0.414</td> <td>   -0.223</td> <td>    0.542</td>\n",
       "</tr>\n",
       "<tr>\n",
       "  <th>sv__GlossaryF</th>              <td>   -0.3354</td> <td>    0.090</td> <td>   -3.730</td> <td> 0.000</td> <td>   -0.512</td> <td>   -0.159</td>\n",
       "</tr>\n",
       "<tr>\n",
       "  <th>sv__GoldPageF</th>              <td>   -0.0520</td> <td>    0.240</td> <td>   -0.216</td> <td> 0.829</td> <td>   -0.523</td> <td>    0.419</td>\n",
       "</tr>\n",
       "<tr>\n",
       "  <th>sv__Libraries</th>              <td>    0.0043</td> <td>    0.002</td> <td>    2.476</td> <td> 0.013</td> <td>    0.001</td> <td>    0.008</td>\n",
       "</tr>\n",
       "<tr>\n",
       "  <th>sv__NewPremiumAct</th>          <td>   -0.5288</td> <td>    0.114</td> <td>   -4.655</td> <td> 0.000</td> <td>   -0.751</td> <td>   -0.306</td>\n",
       "</tr>\n",
       "<tr>\n",
       "  <th>sv__OnBoardingTutorialView</th> <td>   -0.0992</td> <td>    0.238</td> <td>   -0.416</td> <td> 0.677</td> <td>   -0.566</td> <td>    0.368</td>\n",
       "</tr>\n",
       "<tr>\n",
       "  <th>sv__ProPageA</th>               <td>    0.0417</td> <td>    0.107</td> <td>    0.389</td> <td> 0.698</td> <td>   -0.168</td> <td>    0.252</td>\n",
       "</tr>\n",
       "<tr>\n",
       "  <th>sv__ProPageF</th>               <td>    0.1618</td> <td>    0.134</td> <td>    1.208</td> <td> 0.227</td> <td>   -0.101</td> <td>    0.424</td>\n",
       "</tr>\n",
       "<tr>\n",
       "  <th>sv__StoryDetails</th>           <td>    0.0432</td> <td>    0.020</td> <td>    2.167</td> <td> 0.030</td> <td>    0.004</td> <td>    0.082</td>\n",
       "</tr>\n",
       "<tr>\n",
       "  <th>sv__WelcomeCarouselDialog</th>  <td>   -0.0554</td> <td>    0.284</td> <td>   -0.195</td> <td> 0.845</td> <td>   -0.612</td> <td>    0.501</td>\n",
       "</tr>\n",
       "</table>"
      ],
      "text/plain": [
       "<class 'statsmodels.iolib.summary.Summary'>\n",
       "\"\"\"\n",
       "                           Logit Regression Results                           \n",
       "==============================================================================\n",
       "Dep. Variable:        in_app_purchase   No. Observations:                64464\n",
       "Model:                          Logit   Df Residuals:                    64439\n",
       "Method:                           MLE   Df Model:                           24\n",
       "Date:                Fri, 11 Dec 2020   Pseudo R-squ.:                  0.3435\n",
       "Time:                        21:52:10   Log-Likelihood:                -473.23\n",
       "converged:                       True   LL-Null:                       -720.84\n",
       "Covariance Type:            nonrobust   LLR p-value:                 1.632e-89\n",
       "==============================================================================================\n",
       "                                 coef    std err          z      P>|z|      [0.025      0.975]\n",
       "----------------------------------------------------------------------------------------------\n",
       "const                         -7.4580      0.334    -22.322      0.000      -8.113      -6.803\n",
       "ClickOnWholeView              -0.0918      0.025     -3.658      0.000      -0.141      -0.043\n",
       "EnterFcMore                    0.2950      0.165      1.783      0.075      -0.029       0.619\n",
       "FabClickedPremium              0.7055      0.259      2.728      0.006       0.199       1.212\n",
       "LibraryClicked                 0.1011      0.021      4.716      0.000       0.059       0.143\n",
       "PlayNextParagraphFromBut       0.0222      0.006      3.649      0.000       0.010       0.034\n",
       "PlayPrevParagraph             -0.0250      0.359     -0.070      0.945      -0.729       0.679\n",
       "PremiumBarClickedMain          0.4250      0.117      3.633      0.000       0.196       0.654\n",
       "PremiumBarClickedSD            0.8053      0.178      4.526      0.000       0.457       1.154\n",
       "StartBekids                   -0.1243      0.052     -2.393      0.017      -0.226      -0.022\n",
       "StartListening                 0.1140      0.040      2.857      0.004       0.036       0.192\n",
       "StartNStory                   -0.0596      0.026     -2.282      0.022      -0.111      -0.008\n",
       "TryToBuyNewPAct                0.5205      0.092      5.676      0.000       0.341       0.700\n",
       "TryToBuyNewPF                  0.0698      0.032      2.197      0.028       0.008       0.132\n",
       "sv__AAPageA                    0.0831      0.086      0.961      0.336      -0.086       0.252\n",
       "sv__AAPageF                    0.1595      0.195      0.817      0.414      -0.223       0.542\n",
       "sv__GlossaryF                 -0.3354      0.090     -3.730      0.000      -0.512      -0.159\n",
       "sv__GoldPageF                 -0.0520      0.240     -0.216      0.829      -0.523       0.419\n",
       "sv__Libraries                  0.0043      0.002      2.476      0.013       0.001       0.008\n",
       "sv__NewPremiumAct             -0.5288      0.114     -4.655      0.000      -0.751      -0.306\n",
       "sv__OnBoardingTutorialView    -0.0992      0.238     -0.416      0.677      -0.566       0.368\n",
       "sv__ProPageA                   0.0417      0.107      0.389      0.698      -0.168       0.252\n",
       "sv__ProPageF                   0.1618      0.134      1.208      0.227      -0.101       0.424\n",
       "sv__StoryDetails               0.0432      0.020      2.167      0.030       0.004       0.082\n",
       "sv__WelcomeCarouselDialog     -0.0554      0.284     -0.195      0.845      -0.612       0.501\n",
       "==============================================================================================\n",
       "\"\"\""
      ]
     },
     "execution_count": 106,
     "metadata": {},
     "output_type": "execute_result"
    }
   ],
   "source": [
    "y = df_log2['in_app_purchase']\n",
    "X = df_log2[cols2]\n",
    "X = sm.add_constant(X)\n",
    "model = sm.Logit(y, X).fit()\n",
    "model.summary()"
   ]
  },
  {
   "cell_type": "code",
   "execution_count": 107,
   "metadata": {},
   "outputs": [],
   "source": [
    "cols3 = [ 'ClickOnWholeView',\n",
    " 'EnterFcMore',\n",
    " 'LibraryClicked',\n",
    " 'PlayNextParagraphFromBut',\n",
    " 'PlayPrevParagraph',\n",
    " 'StartBekids',\n",
    " 'StartListening',\n",
    " 'StartNStory',\n",
    " 'sv__GlossaryF',\n",
    " 'sv__Libraries',\n",
    " 'sv__NewPremiumAct',\n",
    " 'sv__OnBoardingTutorialView',\n",
    " 'sv__StoryDetails',\n",
    "]"
   ]
  },
  {
   "cell_type": "code",
   "execution_count": 108,
   "metadata": {
    "scrolled": true
   },
   "outputs": [
    {
     "name": "stdout",
     "output_type": "stream",
     "text": [
      "Optimization terminated successfully.\n",
      "         Current function value: 0.008373\n",
      "         Iterations 11\n"
     ]
    },
    {
     "data": {
      "text/html": [
       "<table class=\"simpletable\">\n",
       "<caption>Logit Regression Results</caption>\n",
       "<tr>\n",
       "  <th>Dep. Variable:</th>    <td>in_app_purchase</td> <th>  No. Observations:  </th>  <td> 64464</td>  \n",
       "</tr>\n",
       "<tr>\n",
       "  <th>Model:</th>                 <td>Logit</td>      <th>  Df Residuals:      </th>  <td> 64450</td>  \n",
       "</tr>\n",
       "<tr>\n",
       "  <th>Method:</th>                 <td>MLE</td>       <th>  Df Model:          </th>  <td>    13</td>  \n",
       "</tr>\n",
       "<tr>\n",
       "  <th>Date:</th>            <td>Fri, 11 Dec 2020</td> <th>  Pseudo R-squ.:     </th>  <td>0.2512</td>  \n",
       "</tr>\n",
       "<tr>\n",
       "  <th>Time:</th>                <td>21:53:48</td>     <th>  Log-Likelihood:    </th> <td> -539.78</td> \n",
       "</tr>\n",
       "<tr>\n",
       "  <th>converged:</th>             <td>True</td>       <th>  LL-Null:           </th> <td> -720.84</td> \n",
       "</tr>\n",
       "<tr>\n",
       "  <th>Covariance Type:</th>     <td>nonrobust</td>    <th>  LLR p-value:       </th> <td>2.172e-69</td>\n",
       "</tr>\n",
       "</table>\n",
       "<table class=\"simpletable\">\n",
       "<tr>\n",
       "               <td></td>                 <th>coef</th>     <th>std err</th>      <th>z</th>      <th>P>|z|</th>  <th>[0.025</th>    <th>0.975]</th>  \n",
       "</tr>\n",
       "<tr>\n",
       "  <th>const</th>                      <td>   -7.2158</td> <td>    0.138</td> <td>  -52.396</td> <td> 0.000</td> <td>   -7.486</td> <td>   -6.946</td>\n",
       "</tr>\n",
       "<tr>\n",
       "  <th>ClickOnWholeView</th>           <td>   -0.0935</td> <td>    0.023</td> <td>   -4.088</td> <td> 0.000</td> <td>   -0.138</td> <td>   -0.049</td>\n",
       "</tr>\n",
       "<tr>\n",
       "  <th>EnterFcMore</th>                <td>    0.3843</td> <td>    0.195</td> <td>    1.971</td> <td> 0.049</td> <td>    0.002</td> <td>    0.767</td>\n",
       "</tr>\n",
       "<tr>\n",
       "  <th>LibraryClicked</th>             <td>    0.1502</td> <td>    0.026</td> <td>    5.719</td> <td> 0.000</td> <td>    0.099</td> <td>    0.202</td>\n",
       "</tr>\n",
       "<tr>\n",
       "  <th>PlayNextParagraphFromBut</th>   <td>    0.0277</td> <td>    0.006</td> <td>    4.826</td> <td> 0.000</td> <td>    0.016</td> <td>    0.039</td>\n",
       "</tr>\n",
       "<tr>\n",
       "  <th>PlayPrevParagraph</th>          <td>   -0.0101</td> <td>    0.327</td> <td>   -0.031</td> <td> 0.975</td> <td>   -0.651</td> <td>    0.631</td>\n",
       "</tr>\n",
       "<tr>\n",
       "  <th>StartBekids</th>                <td>   -0.1364</td> <td>    0.043</td> <td>   -3.200</td> <td> 0.001</td> <td>   -0.220</td> <td>   -0.053</td>\n",
       "</tr>\n",
       "<tr>\n",
       "  <th>StartListening</th>             <td>    0.1241</td> <td>    0.029</td> <td>    4.291</td> <td> 0.000</td> <td>    0.067</td> <td>    0.181</td>\n",
       "</tr>\n",
       "<tr>\n",
       "  <th>StartNStory</th>                <td>   -0.0733</td> <td>    0.021</td> <td>   -3.434</td> <td> 0.001</td> <td>   -0.115</td> <td>   -0.031</td>\n",
       "</tr>\n",
       "<tr>\n",
       "  <th>sv__GlossaryF</th>              <td>   -0.3767</td> <td>    0.097</td> <td>   -3.888</td> <td> 0.000</td> <td>   -0.567</td> <td>   -0.187</td>\n",
       "</tr>\n",
       "<tr>\n",
       "  <th>sv__Libraries</th>              <td>    0.0048</td> <td>    0.002</td> <td>    3.067</td> <td> 0.002</td> <td>    0.002</td> <td>    0.008</td>\n",
       "</tr>\n",
       "<tr>\n",
       "  <th>sv__NewPremiumAct</th>          <td>    0.0260</td> <td>    0.009</td> <td>    2.907</td> <td> 0.004</td> <td>    0.008</td> <td>    0.044</td>\n",
       "</tr>\n",
       "<tr>\n",
       "  <th>sv__OnBoardingTutorialView</th> <td>   -0.0893</td> <td>    0.205</td> <td>   -0.435</td> <td> 0.664</td> <td>   -0.492</td> <td>    0.313</td>\n",
       "</tr>\n",
       "<tr>\n",
       "  <th>sv__StoryDetails</th>           <td>    0.0413</td> <td>    0.015</td> <td>    2.673</td> <td> 0.008</td> <td>    0.011</td> <td>    0.072</td>\n",
       "</tr>\n",
       "</table>"
      ],
      "text/plain": [
       "<class 'statsmodels.iolib.summary.Summary'>\n",
       "\"\"\"\n",
       "                           Logit Regression Results                           \n",
       "==============================================================================\n",
       "Dep. Variable:        in_app_purchase   No. Observations:                64464\n",
       "Model:                          Logit   Df Residuals:                    64450\n",
       "Method:                           MLE   Df Model:                           13\n",
       "Date:                Fri, 11 Dec 2020   Pseudo R-squ.:                  0.2512\n",
       "Time:                        21:53:48   Log-Likelihood:                -539.78\n",
       "converged:                       True   LL-Null:                       -720.84\n",
       "Covariance Type:            nonrobust   LLR p-value:                 2.172e-69\n",
       "==============================================================================================\n",
       "                                 coef    std err          z      P>|z|      [0.025      0.975]\n",
       "----------------------------------------------------------------------------------------------\n",
       "const                         -7.2158      0.138    -52.396      0.000      -7.486      -6.946\n",
       "ClickOnWholeView              -0.0935      0.023     -4.088      0.000      -0.138      -0.049\n",
       "EnterFcMore                    0.3843      0.195      1.971      0.049       0.002       0.767\n",
       "LibraryClicked                 0.1502      0.026      5.719      0.000       0.099       0.202\n",
       "PlayNextParagraphFromBut       0.0277      0.006      4.826      0.000       0.016       0.039\n",
       "PlayPrevParagraph             -0.0101      0.327     -0.031      0.975      -0.651       0.631\n",
       "StartBekids                   -0.1364      0.043     -3.200      0.001      -0.220      -0.053\n",
       "StartListening                 0.1241      0.029      4.291      0.000       0.067       0.181\n",
       "StartNStory                   -0.0733      0.021     -3.434      0.001      -0.115      -0.031\n",
       "sv__GlossaryF                 -0.3767      0.097     -3.888      0.000      -0.567      -0.187\n",
       "sv__Libraries                  0.0048      0.002      3.067      0.002       0.002       0.008\n",
       "sv__NewPremiumAct              0.0260      0.009      2.907      0.004       0.008       0.044\n",
       "sv__OnBoardingTutorialView    -0.0893      0.205     -0.435      0.664      -0.492       0.313\n",
       "sv__StoryDetails               0.0413      0.015      2.673      0.008       0.011       0.072\n",
       "==============================================================================================\n",
       "\"\"\""
      ]
     },
     "execution_count": 108,
     "metadata": {},
     "output_type": "execute_result"
    }
   ],
   "source": [
    "y = df_log2['in_app_purchase']\n",
    "X = df_log2[cols3]\n",
    "X = sm.add_constant(X)\n",
    "model = sm.Logit(y, X).fit()\n",
    "model.summary()"
   ]
  },
  {
   "cell_type": "code",
   "execution_count": 110,
   "metadata": {},
   "outputs": [],
   "source": [
    "df2.to_csv('30days30minutes.csv')"
   ]
  },
  {
   "cell_type": "code",
   "execution_count": 111,
   "metadata": {},
   "outputs": [],
   "source": [
    "df.to_csv('allevents.csv')"
   ]
  }
 ],
 "metadata": {
  "kernelspec": {
   "display_name": "Python 3",
   "language": "python",
   "name": "python3"
  },
  "language_info": {
   "codemirror_mode": {
    "name": "ipython",
    "version": 3
   },
   "file_extension": ".py",
   "mimetype": "text/x-python",
   "name": "python",
   "nbconvert_exporter": "python",
   "pygments_lexer": "ipython3",
   "version": "3.8.5"
  }
 },
 "nbformat": 4,
 "nbformat_minor": 4
}

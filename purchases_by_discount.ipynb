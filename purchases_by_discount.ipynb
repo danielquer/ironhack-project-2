{
 "cells": [
  {
   "cell_type": "code",
   "execution_count": 12,
   "metadata": {},
   "outputs": [],
   "source": [
    "import pandas as pd\n",
    "import pandas_gbq\n",
    "import numpy as np\n",
    "import seaborn as sns\n",
    "import statsmodels.api as sm\n",
    "import warnings\n",
    "warnings.filterwarnings('ignore')\n",
    "import matplotlib.pyplot as plt\n",
    "import re"
   ]
  },
  {
   "cell_type": "code",
   "execution_count": 112,
   "metadata": {},
   "outputs": [],
   "source": [
    "query = \"\"\"with initial_dataset as (\n",
    "  select\n",
    "    event_name,\n",
    "    optional_label,\n",
    "    event_timestamp,\n",
    "    event_date,\n",
    "    user_id,\n",
    "    user_pseudo_id,\n",
    "    ga_session_id,\n",
    "    user_history_event_number,\n",
    "    session_event_number,\n",
    "    platform,\n",
    "    device_language,\n",
    "    country\n",
    "  from\n",
    "    analytics_151430920.firebase_facts_events as eve\n",
    "  where\n",
    "    eve.event_timestamp >= '2020-11-01'\n",
    "  and\n",
    "    eve.event_name in ('sv__OnBoardingTutorialVie','sv__OnBoardingTutorialVi','sv__WelcomeCarouselDialog','sv__NewPremiumAct','TryToBuyNewPAct','TryToBuyNewPF','ClickOnWholeView','StartListening','sv__StoryDetails','StartNStory','StartBekids','FabClickedPremium','PremiumBarClickedSD','PremiumBarClickedMain','sv__AAPageA','sv__ProPageA','sv_GoldPageA','sv__AAPageF','sv__ProPageF','sv__GoldPageF','EnterFcMore','sv__GlossaryF','LibraryClicked','sv__Libraries','PlayPrevParagraph','PlayNextParagraphFromBut','sv__OnBoardingTutorialVie','in_app_purchase','PurchaseNormal')\n",
    "),\n",
    "\n",
    "onboarding as (\n",
    "  select distinct\n",
    "    'onboarding' as event_name,\n",
    "    first_value(event_timestamp) over (partition by user_pseudo_id order by event_timestamp) as onboarding_timestamp,\n",
    "    first_value(event_date) over (partition by user_pseudo_id order by event_timestamp) as onboarding_date,\n",
    "    first_value(optional_label) over (partition by user_pseudo_id order by event_timestamp) as optional_label,\n",
    "    last_value(user_id) over (partition by user_pseudo_id order by event_timestamp) as user_id,\n",
    "    user_pseudo_id,\n",
    "    first_value(ga_session_id) over (partition by user_pseudo_id order by event_timestamp) as ga_session_id,\n",
    "    first_value(user_history_event_number) over (partition by user_pseudo_id order by event_timestamp) as user_history_event_number,\n",
    "    first_value(session_event_number) over (partition by user_pseudo_id order by event_timestamp) as session_event_number,\n",
    "    first_value(platform) over (partition by user_pseudo_id order by event_timestamp) as platform,\n",
    "    first_value(device_language) over (partition by user_pseudo_id order by event_timestamp) as device_language,\n",
    "    first_value(country) over (partition by user_pseudo_id order by event_timestamp) as country\n",
    "  from\n",
    "    initial_dataset\n",
    "  where\n",
    "    event_name in ('sv__OnBoardingTutorialVi','sv__OnBoardingTutorialVie')\n",
    "),\n",
    "\n",
    "purchases as (\n",
    "  select distinct\n",
    "    'in_app_purchase' as event_name,\n",
    "    first_value(event_timestamp) over (partition by user_pseudo_id order by event_timestamp) as first_purchase_timestamp,\n",
    "    first_value(event_date) over (partition by user_pseudo_id order by event_timestamp) as first_purchase_date,\n",
    "    first_value(optional_label) over (partition by user_pseudo_id order by event_timestamp) as optional_label,\n",
    "    last_value(user_id) over (partition by user_pseudo_id order by event_timestamp) as user_id,\n",
    "    user_pseudo_id,\n",
    "    first_value(ga_session_id) over (partition by user_pseudo_id order by event_timestamp) as ga_session_id,\n",
    "    first_value(user_history_event_number) over (partition by user_pseudo_id order by event_timestamp) as user_history_event_number,\n",
    "    first_value(session_event_number) over (partition by user_pseudo_id order by event_timestamp) as session_event_number,\n",
    "    first_value(platform) over (partition by user_pseudo_id order by event_timestamp) as platform,\n",
    "    first_value(device_language) over (partition by user_pseudo_id order by event_timestamp) as device_language,\n",
    "    first_value(country) over (partition by user_pseudo_id order by event_timestamp) as country\n",
    "  from\n",
    "    initial_dataset\n",
    "  where\n",
    "    event_name in ('in_app_purchase','PurchaseNormal')\n",
    "),\n",
    "\n",
    "relevant_events as (\n",
    "  select\n",
    "    ini.event_name,\n",
    "    ini.event_timestamp,\n",
    "    ini.event_date,\n",
    "    ini.optional_label,\n",
    "    ini.user_id,\n",
    "    ini.user_pseudo_id,\n",
    "    ini.ga_session_id,\n",
    "    ini.user_history_event_number,\n",
    "    ini.session_event_number,\n",
    "    ini.platform,\n",
    "    ini.device_language,\n",
    "    ini.country\n",
    "  from\n",
    "    initial_dataset as ini\n",
    "  left join\n",
    "    purchases as pur on pur.user_pseudo_id = ini.user_pseudo_id\n",
    "  left join\n",
    "    onboarding as onb on onb.user_pseudo_id = ini.user_pseudo_id\n",
    "  where\n",
    "    ini.event_name not in ('in_app_purchase','PurchaseNormal','sv__OnBoardingTutorialVi','sv__OnBoardingTutorialVie')\n",
    "  and\n",
    "    ini.event_timestamp between onb.onboarding_timestamp and timestamp_add(onb.onboarding_timestamp, interval 7 day)\n",
    "  union all\n",
    "  select\n",
    "    rep.event_name,\n",
    "    rep.first_purchase_timestamp as event_timestamp,\n",
    "    rep.first_purchase_date as event_date,\n",
    "    rep.optional_label,\n",
    "    rep.user_id,\n",
    "    rep.user_pseudo_id,\n",
    "    rep.ga_session_id,\n",
    "    rep.user_history_event_number,\n",
    "    rep.session_event_number,\n",
    "    rep.platform,\n",
    "    rep.device_language,\n",
    "    rep.country\n",
    "  from\n",
    "    purchases as rep\n",
    ")\n",
    "\n",
    "select\n",
    "  user_pseudo_id,\n",
    "  event_name,\n",
    "  count(event_timestamp) as occurrences_count,\n",
    "  min(event_timestamp) as first_event_timestamp,\n",
    "  max(event_timestamp) as last_event_timestamp\n",
    "from\n",
    "  relevant_events\n",
    "group by 1,2;\"\"\"\n",
    "\n",
    "df = pandas_gbq.read_gbq(query, project_id= 'beelinguapp')"
   ]
  },
  {
   "cell_type": "markdown",
   "metadata": {},
   "source": [
    "**checking the value counts for event_name and info**"
   ]
  },
  {
   "cell_type": "code",
   "execution_count": 113,
   "metadata": {
    "scrolled": true
   },
   "outputs": [
    {
     "data": {
      "text/plain": [
       "sv__Libraries                108377\n",
       "ClickOnWholeView              70833\n",
       "sv__WelcomeCarouselDialog     64239\n",
       "StartListening                62245\n",
       "sv__StoryDetails              56846\n",
       "StartNStory                   55447\n",
       "LibraryClicked                24589\n",
       "sv__NewPremiumAct             17012\n",
       "sv__AAPageA                    9739\n",
       "PremiumBarClickedMain          9543\n",
       "sv__ProPageA                   7186\n",
       "sv__AAPageF                    6303\n",
       "StartBekids                    6277\n",
       "PlayNextParagraphFromBut       6260\n",
       "sv__GlossaryF                  5600\n",
       "sv__ProPageF                   4873\n",
       "PremiumBarClickedSD            4366\n",
       "FabClickedPremium              2516\n",
       "EnterFcMore                    2324\n",
       "TryToBuyNewPAct                2044\n",
       "sv__GoldPageF                  1948\n",
       "in_app_purchase                1203\n",
       "TryToBuyNewPF                   711\n",
       "PlayPrevParagraph               186\n",
       "Name: event_name, dtype: int64"
      ]
     },
     "execution_count": 113,
     "metadata": {},
     "output_type": "execute_result"
    }
   ],
   "source": [
    "df.event_name.value_counts()"
   ]
  },
  {
   "cell_type": "code",
   "execution_count": 114,
   "metadata": {},
   "outputs": [
    {
     "data": {
      "text/plain": [
       "24"
      ]
     },
     "execution_count": 114,
     "metadata": {},
     "output_type": "execute_result"
    }
   ],
   "source": [
    "df.event_name.nunique()"
   ]
  },
  {
   "cell_type": "code",
   "execution_count": 115,
   "metadata": {},
   "outputs": [
    {
     "name": "stdout",
     "output_type": "stream",
     "text": [
      "<class 'pandas.core.frame.DataFrame'>\n",
      "RangeIndex: 530667 entries, 0 to 530666\n",
      "Data columns (total 5 columns):\n",
      " #   Column                 Non-Null Count   Dtype              \n",
      "---  ------                 --------------   -----              \n",
      " 0   user_pseudo_id         530667 non-null  object             \n",
      " 1   event_name             530667 non-null  object             \n",
      " 2   occurrences_count      530667 non-null  int64              \n",
      " 3   first_event_timestamp  530667 non-null  datetime64[ns, UTC]\n",
      " 4   last_event_timestamp   530667 non-null  datetime64[ns, UTC]\n",
      "dtypes: datetime64[ns, UTC](2), int64(1), object(2)\n",
      "memory usage: 16.2+ MB\n"
     ]
    }
   ],
   "source": [
    "df.info()"
   ]
  },
  {
   "cell_type": "markdown",
   "metadata": {},
   "source": [
    "**Purchases Based on Platforms**"
   ]
  },
  {
   "cell_type": "code",
   "execution_count": 119,
   "metadata": {},
   "outputs": [
    {
     "data": {
      "text/plain": [
       "True"
      ]
     },
     "execution_count": 119,
     "metadata": {},
     "output_type": "execute_result"
    }
   ],
   "source": [
    "df[df.event_name=='in_app_purchase']['user_pseudo_id'].nunique() == len(df[df.event_name=='in_app_purchase']['user_pseudo_id'])\n",
    "# looking for whether there is user_pseudo_id"
   ]
  },
  {
   "cell_type": "code",
   "execution_count": 120,
   "metadata": {},
   "outputs": [],
   "source": [
    "df['platform'] = df['user_pseudo_id'].apply(lambda x: 'Android' if re.findall('[a-z]',x) else 'IOS')\n",
    "# creating platform column based on user_pseudo_id"
   ]
  },
  {
   "cell_type": "code",
   "execution_count": 121,
   "metadata": {
    "scrolled": false
   },
   "outputs": [
    {
     "data": {
      "image/png": "[encoded data removed]",
      "text/plain": [
       "<Figure size 432x288 with 1 Axes>"
      ]
     },
     "metadata": {},
     "output_type": "display_data"
    }
   ],
   "source": [
    "sns.set_theme(style=\"darkgrid\")\n",
    "sns.countplot(x='platform',data=df[df.event_name=='in_app_purchase'])\n",
    "plt.title('Subscriptions based on OS')\n",
    "plt.show()\n",
    "# indicate in_app_purchases based on different OS"
   ]
  },
  {
   "cell_type": "markdown",
   "metadata": {},
   "source": [
    "**Heat Map**"
   ]
  },
  {
   "cell_type": "code",
   "execution_count": 117,
   "metadata": {},
   "outputs": [],
   "source": [
    "df_log = df.pivot_table(index=[\"user_pseudo_id\"],columns=[\"event_name\"],fill_value=0)\n",
    "# getting the events_occurences aggregated in user_pseudo_level"
   ]
  },
  {
   "cell_type": "code",
   "execution_count": 122,
   "metadata": {},
   "outputs": [],
   "source": [
    "df_log.columns = df_log.columns.droplevel()\n",
    "# flattening the columns"
   ]
  },
  {
   "cell_type": "code",
   "execution_count": 123,
   "metadata": {},
   "outputs": [],
   "source": [
    "df_log.reset_index(inplace=True)\n",
    "# converting user_pseudo_id as a column"
   ]
  },
  {
   "cell_type": "code",
   "execution_count": 124,
   "metadata": {
    "scrolled": true
   },
   "outputs": [],
   "source": [
    "df_log['platform'] = df_log['user_pseudo_id'].apply(lambda x: 'Android' if re.findall('[a-z]',x) else 'IOS')\n",
    "#adding platforms to df_log"
   ]
  },
  {
   "cell_type": "code",
   "execution_count": 125,
   "metadata": {},
   "outputs": [
    {
     "data": {
      "text/plain": [
       "0    122954\n",
       "1      1197\n",
       "2         6\n",
       "Name: in_app_purchase, dtype: int64"
      ]
     },
     "execution_count": 125,
     "metadata": {},
     "output_type": "execute_result"
    }
   ],
   "source": [
    "df_log['in_app_purchase'].value_counts()\n",
    "#there are 2 event occurences in_app_purchases"
   ]
  },
  {
   "cell_type": "code",
   "execution_count": 116,
   "metadata": {
    "scrolled": true
   },
   "outputs": [
    {
     "data": {
      "text/plain": [
       "2711     bfcd61286b149a8b98ab867c2a13df33\n",
       "8434     f0f56bd5124953d82601d336f4a70a02\n",
       "8646     9bdf2b9dc1e36c56dc20d1b8e05d2e92\n",
       "9365     f768bb55076b14d51a52b709ff09a839\n",
       "9821     e9aaf33848e3975412faa35cb045402f\n",
       "10023    266edf372500183f0e8bd7c2a5e89c04\n",
       "Name: user_pseudo_id, dtype: object"
      ]
     },
     "execution_count": 116,
     "metadata": {},
     "output_type": "execute_result"
    }
   ],
   "source": [
    "df[(df.event_name=='in_app_purchase') & (df.occurrences_count > 1)]['user_pseudo_id']\n",
    "#users who purchased more than 1"
   ]
  },
  {
   "cell_type": "code",
   "execution_count": 126,
   "metadata": {},
   "outputs": [
    {
     "data": {
      "text/html": [
       "<div>\n",
       "<style scoped>\n",
       "    .dataframe tbody tr th:only-of-type {\n",
       "        vertical-align: middle;\n",
       "    }\n",
       "\n",
       "    .dataframe tbody tr th {\n",
       "        vertical-align: top;\n",
       "    }\n",
       "\n",
       "    .dataframe thead th {\n",
       "        text-align: right;\n",
       "    }\n",
       "</style>\n",
       "<table border=\"1\" class=\"dataframe\">\n",
       "  <thead>\n",
       "    <tr style=\"text-align: right;\">\n",
       "      <th></th>\n",
       "      <th>user_pseudo_id</th>\n",
       "      <th>event_name</th>\n",
       "      <th>occurrences_count</th>\n",
       "      <th>first_event_timestamp</th>\n",
       "      <th>last_event_timestamp</th>\n",
       "      <th>platform</th>\n",
       "    </tr>\n",
       "  </thead>\n",
       "  <tbody>\n",
       "    <tr>\n",
       "      <th>2711</th>\n",
       "      <td>bfcd61286b149a8b98ab867c2a13df33</td>\n",
       "      <td>in_app_purchase</td>\n",
       "      <td>2</td>\n",
       "      <td>2020-11-29 23:41:23.700000+00:00</td>\n",
       "      <td>2020-11-29 23:41:23.700000+00:00</td>\n",
       "      <td>Android</td>\n",
       "    </tr>\n",
       "    <tr>\n",
       "      <th>8434</th>\n",
       "      <td>f0f56bd5124953d82601d336f4a70a02</td>\n",
       "      <td>in_app_purchase</td>\n",
       "      <td>2</td>\n",
       "      <td>2020-12-07 14:31:13.085000+00:00</td>\n",
       "      <td>2020-12-07 14:31:13.085000+00:00</td>\n",
       "      <td>Android</td>\n",
       "    </tr>\n",
       "    <tr>\n",
       "      <th>8646</th>\n",
       "      <td>9bdf2b9dc1e36c56dc20d1b8e05d2e92</td>\n",
       "      <td>in_app_purchase</td>\n",
       "      <td>2</td>\n",
       "      <td>2020-11-26 14:48:33.986000+00:00</td>\n",
       "      <td>2020-11-26 14:48:33.986000+00:00</td>\n",
       "      <td>Android</td>\n",
       "    </tr>\n",
       "    <tr>\n",
       "      <th>9365</th>\n",
       "      <td>f768bb55076b14d51a52b709ff09a839</td>\n",
       "      <td>in_app_purchase</td>\n",
       "      <td>2</td>\n",
       "      <td>2020-11-13 02:37:20.622000+00:00</td>\n",
       "      <td>2020-11-13 02:37:20.622000+00:00</td>\n",
       "      <td>Android</td>\n",
       "    </tr>\n",
       "    <tr>\n",
       "      <th>9821</th>\n",
       "      <td>e9aaf33848e3975412faa35cb045402f</td>\n",
       "      <td>in_app_purchase</td>\n",
       "      <td>2</td>\n",
       "      <td>2020-11-01 17:31:38.489000+00:00</td>\n",
       "      <td>2020-11-01 17:31:38.489000+00:00</td>\n",
       "      <td>Android</td>\n",
       "    </tr>\n",
       "    <tr>\n",
       "      <th>10023</th>\n",
       "      <td>266edf372500183f0e8bd7c2a5e89c04</td>\n",
       "      <td>in_app_purchase</td>\n",
       "      <td>2</td>\n",
       "      <td>2020-11-10 15:32:55.119000+00:00</td>\n",
       "      <td>2020-11-10 15:32:55.119000+00:00</td>\n",
       "      <td>Android</td>\n",
       "    </tr>\n",
       "  </tbody>\n",
       "</table>\n",
       "</div>"
      ],
      "text/plain": [
       "                         user_pseudo_id       event_name  occurrences_count  \\\n",
       "2711   bfcd61286b149a8b98ab867c2a13df33  in_app_purchase                  2   \n",
       "8434   f0f56bd5124953d82601d336f4a70a02  in_app_purchase                  2   \n",
       "8646   9bdf2b9dc1e36c56dc20d1b8e05d2e92  in_app_purchase                  2   \n",
       "9365   f768bb55076b14d51a52b709ff09a839  in_app_purchase                  2   \n",
       "9821   e9aaf33848e3975412faa35cb045402f  in_app_purchase                  2   \n",
       "10023  266edf372500183f0e8bd7c2a5e89c04  in_app_purchase                  2   \n",
       "\n",
       "                 first_event_timestamp             last_event_timestamp  \\\n",
       "2711  2020-11-29 23:41:23.700000+00:00 2020-11-29 23:41:23.700000+00:00   \n",
       "8434  2020-12-07 14:31:13.085000+00:00 2020-12-07 14:31:13.085000+00:00   \n",
       "8646  2020-11-26 14:48:33.986000+00:00 2020-11-26 14:48:33.986000+00:00   \n",
       "9365  2020-11-13 02:37:20.622000+00:00 2020-11-13 02:37:20.622000+00:00   \n",
       "9821  2020-11-01 17:31:38.489000+00:00 2020-11-01 17:31:38.489000+00:00   \n",
       "10023 2020-11-10 15:32:55.119000+00:00 2020-11-10 15:32:55.119000+00:00   \n",
       "\n",
       "      platform  \n",
       "2711   Android  \n",
       "8434   Android  \n",
       "8646   Android  \n",
       "9365   Android  \n",
       "9821   Android  \n",
       "10023  Android  "
      ]
     },
     "execution_count": 126,
     "metadata": {},
     "output_type": "execute_result"
    }
   ],
   "source": [
    "df[(df.event_name=='in_app_purchase') & (df.occurrences_count > 1)]"
   ]
  },
  {
   "cell_type": "code",
   "execution_count": 127,
   "metadata": {},
   "outputs": [],
   "source": [
    "df_log['in_app_purchase'] = np.where(df_log['in_app_purchase']>0,1,0)\n",
    "#converting in_app_purchase as binary"
   ]
  },
  {
   "cell_type": "code",
   "execution_count": 128,
   "metadata": {},
   "outputs": [
    {
     "data": {
      "text/plain": [
       "0    122954\n",
       "1      1203\n",
       "Name: in_app_purchase, dtype: int64"
      ]
     },
     "execution_count": 128,
     "metadata": {},
     "output_type": "execute_result"
    }
   ],
   "source": [
    "df_log['in_app_purchase'].value_counts()\n",
    "#checking the value counts again"
   ]
  },
  {
   "cell_type": "code",
   "execution_count": 129,
   "metadata": {
    "scrolled": true
   },
   "outputs": [
    {
     "data": {
      "image/png": "[encoded data removed]",
      "text/plain": [
       "<Figure size 792x648 with 2 Axes>"
      ]
     },
     "metadata": {},
     "output_type": "display_data"
    }
   ],
   "source": [
    "corr = df_log.corr()\n",
    "f, ax = plt.subplots(figsize=(11, 9))\n",
    "mask = np.triu(np.ones_like(corr, dtype=bool)) # removing the other side of the heatmap\n",
    "cmap = sns.diverging_palette(230, 20, as_cmap=True)\n",
    "sns.heatmap(corr,mask=mask,cmap=cmap,linewidths=.5,square=True)\n",
    "plt.show()\n",
    "#there is no really correlated events with in_app_purchase"
   ]
  },
  {
   "cell_type": "code",
   "execution_count": 130,
   "metadata": {
    "scrolled": true
   },
   "outputs": [
    {
     "data": {
      "image/png": "[encoded data removed]",
      "text/plain": [
       "<Figure size 792x648 with 2 Axes>"
      ]
     },
     "metadata": {},
     "output_type": "display_data"
    }
   ],
   "source": [
    "corr = df_log[df_log.platform=='Android'].corr()\n",
    "f, ax = plt.subplots(figsize=(11, 9))\n",
    "mask = np.triu(np.ones_like(corr, dtype=bool)) # removing the other side of the heatmap\n",
    "cmap = sns.diverging_palette(230, 20, as_cmap=True)\n",
    "sns.heatmap(corr,mask=mask,cmap=cmap,linewidths=.5,square=True)\n",
    "plt.show()\n",
    "#only android also does not show any correlation"
   ]
  },
  {
   "cell_type": "markdown",
   "metadata": {},
   "source": [
    "**Logistic Regression with All Events**"
   ]
  },
  {
   "cell_type": "code",
   "execution_count": 133,
   "metadata": {},
   "outputs": [],
   "source": [
    "cols = ['ClickOnWholeView',\n",
    " 'EnterFcMore',\n",
    " 'FabClickedPremium',\n",
    " 'LibraryClicked',\n",
    " 'PlayNextParagraphFromBut',\n",
    " 'PlayPrevParagraph',\n",
    " 'PremiumBarClickedMain',\n",
    " 'PremiumBarClickedSD',\n",
    " 'StartBekids',\n",
    " 'StartListening',\n",
    " 'StartNStory',\n",
    " 'TryToBuyNewPAct',\n",
    " 'TryToBuyNewPF',\n",
    "'sv__AAPageA',\n",
    " 'sv__AAPageF',\n",
    " 'sv__GlossaryF',\n",
    " 'sv__GoldPageF',\n",
    " 'sv__Libraries',\n",
    " 'sv__NewPremiumAct',\n",
    " 'sv__ProPageA',\n",
    " 'sv__ProPageF',\n",
    " 'sv__StoryDetails',\n",
    " 'sv__WelcomeCarouselDialog']"
   ]
  },
  {
   "cell_type": "code",
   "execution_count": 134,
   "metadata": {
    "scrolled": true
   },
   "outputs": [
    {
     "name": "stdout",
     "output_type": "stream",
     "text": [
      "Optimization terminated successfully.\n",
      "         Current function value: 0.045652\n",
      "         Iterations 17\n"
     ]
    },
    {
     "data": {
      "text/html": [
       "<table class=\"simpletable\">\n",
       "<caption>Logit Regression Results</caption>\n",
       "<tr>\n",
       "  <th>Dep. Variable:</th>    <td>in_app_purchase</td> <th>  No. Observations:  </th>  <td>124157</td> \n",
       "</tr>\n",
       "<tr>\n",
       "  <th>Model:</th>                 <td>Logit</td>      <th>  Df Residuals:      </th>  <td>124133</td> \n",
       "</tr>\n",
       "<tr>\n",
       "  <th>Method:</th>                 <td>MLE</td>       <th>  Df Model:          </th>  <td>    23</td> \n",
       "</tr>\n",
       "<tr>\n",
       "  <th>Date:</th>            <td>Sat, 12 Dec 2020</td> <th>  Pseudo R-squ.:     </th>  <td>0.1634</td> \n",
       "</tr>\n",
       "<tr>\n",
       "  <th>Time:</th>                <td>10:36:23</td>     <th>  Log-Likelihood:    </th> <td> -5668.1</td>\n",
       "</tr>\n",
       "<tr>\n",
       "  <th>converged:</th>             <td>True</td>       <th>  LL-Null:           </th> <td> -6775.1</td>\n",
       "</tr>\n",
       "<tr>\n",
       "  <th>Covariance Type:</th>     <td>nonrobust</td>    <th>  LLR p-value:       </th>  <td> 0.000</td> \n",
       "</tr>\n",
       "</table>\n",
       "<table class=\"simpletable\">\n",
       "<tr>\n",
       "              <td></td>                 <th>coef</th>     <th>std err</th>      <th>z</th>      <th>P>|z|</th>  <th>[0.025</th>    <th>0.975]</th>  \n",
       "</tr>\n",
       "<tr>\n",
       "  <th>const</th>                     <td>   -4.8216</td> <td>    0.040</td> <td> -121.547</td> <td> 0.000</td> <td>   -4.899</td> <td>   -4.744</td>\n",
       "</tr>\n",
       "<tr>\n",
       "  <th>ClickOnWholeView</th>          <td>    0.0023</td> <td>    0.009</td> <td>    0.268</td> <td> 0.788</td> <td>   -0.015</td> <td>    0.019</td>\n",
       "</tr>\n",
       "<tr>\n",
       "  <th>EnterFcMore</th>               <td>    0.3024</td> <td>    0.061</td> <td>    4.922</td> <td> 0.000</td> <td>    0.182</td> <td>    0.423</td>\n",
       "</tr>\n",
       "<tr>\n",
       "  <th>FabClickedPremium</th>         <td>    0.7187</td> <td>    0.113</td> <td>    6.361</td> <td> 0.000</td> <td>    0.497</td> <td>    0.940</td>\n",
       "</tr>\n",
       "<tr>\n",
       "  <th>LibraryClicked</th>            <td>    0.0555</td> <td>    0.014</td> <td>    4.003</td> <td> 0.000</td> <td>    0.028</td> <td>    0.083</td>\n",
       "</tr>\n",
       "<tr>\n",
       "  <th>PlayNextParagraphFromBut</th>  <td>    0.0247</td> <td>    0.004</td> <td>    6.881</td> <td> 0.000</td> <td>    0.018</td> <td>    0.032</td>\n",
       "</tr>\n",
       "<tr>\n",
       "  <th>PlayPrevParagraph</th>         <td>   -0.8534</td> <td>    0.486</td> <td>   -1.758</td> <td> 0.079</td> <td>   -1.805</td> <td>    0.098</td>\n",
       "</tr>\n",
       "<tr>\n",
       "  <th>PremiumBarClickedMain</th>     <td>    0.0731</td> <td>    0.075</td> <td>    0.970</td> <td> 0.332</td> <td>   -0.075</td> <td>    0.221</td>\n",
       "</tr>\n",
       "<tr>\n",
       "  <th>PremiumBarClickedSD</th>       <td>    0.2027</td> <td>    0.106</td> <td>    1.917</td> <td> 0.055</td> <td>   -0.005</td> <td>    0.410</td>\n",
       "</tr>\n",
       "<tr>\n",
       "  <th>StartBekids</th>               <td>   -0.2249</td> <td>    0.029</td> <td>   -7.767</td> <td> 0.000</td> <td>   -0.282</td> <td>   -0.168</td>\n",
       "</tr>\n",
       "<tr>\n",
       "  <th>StartListening</th>            <td>    0.3315</td> <td>    0.018</td> <td>   18.152</td> <td> 0.000</td> <td>    0.296</td> <td>    0.367</td>\n",
       "</tr>\n",
       "<tr>\n",
       "  <th>StartNStory</th>               <td>   -0.1213</td> <td>    0.016</td> <td>   -7.566</td> <td> 0.000</td> <td>   -0.153</td> <td>   -0.090</td>\n",
       "</tr>\n",
       "<tr>\n",
       "  <th>TryToBuyNewPAct</th>           <td>    1.3073</td> <td>    0.075</td> <td>   17.414</td> <td> 0.000</td> <td>    1.160</td> <td>    1.454</td>\n",
       "</tr>\n",
       "<tr>\n",
       "  <th>TryToBuyNewPF</th>             <td>   -0.0042</td> <td>    0.030</td> <td>   -0.142</td> <td> 0.887</td> <td>   -0.063</td> <td>    0.055</td>\n",
       "</tr>\n",
       "<tr>\n",
       "  <th>sv__AAPageA</th>               <td>    0.3191</td> <td>    0.047</td> <td>    6.769</td> <td> 0.000</td> <td>    0.227</td> <td>    0.412</td>\n",
       "</tr>\n",
       "<tr>\n",
       "  <th>sv__AAPageF</th>               <td>   -0.1602</td> <td>    0.125</td> <td>   -1.286</td> <td> 0.199</td> <td>   -0.404</td> <td>    0.084</td>\n",
       "</tr>\n",
       "<tr>\n",
       "  <th>sv__GlossaryF</th>             <td>    0.0232</td> <td>    0.051</td> <td>    0.456</td> <td> 0.649</td> <td>   -0.077</td> <td>    0.123</td>\n",
       "</tr>\n",
       "<tr>\n",
       "  <th>sv__GoldPageF</th>             <td>    0.5642</td> <td>    0.142</td> <td>    3.973</td> <td> 0.000</td> <td>    0.286</td> <td>    0.843</td>\n",
       "</tr>\n",
       "<tr>\n",
       "  <th>sv__Libraries</th>             <td>   -0.0057</td> <td>    0.006</td> <td>   -1.012</td> <td> 0.312</td> <td>   -0.017</td> <td>    0.005</td>\n",
       "</tr>\n",
       "<tr>\n",
       "  <th>sv__NewPremiumAct</th>         <td>   -0.5502</td> <td>    0.071</td> <td>   -7.779</td> <td> 0.000</td> <td>   -0.689</td> <td>   -0.412</td>\n",
       "</tr>\n",
       "<tr>\n",
       "  <th>sv__ProPageA</th>              <td>   -0.2190</td> <td>    0.067</td> <td>   -3.251</td> <td> 0.001</td> <td>   -0.351</td> <td>   -0.087</td>\n",
       "</tr>\n",
       "<tr>\n",
       "  <th>sv__ProPageF</th>              <td>    0.1616</td> <td>    0.089</td> <td>    1.819</td> <td> 0.069</td> <td>   -0.013</td> <td>    0.336</td>\n",
       "</tr>\n",
       "<tr>\n",
       "  <th>sv__StoryDetails</th>          <td>   -0.0794</td> <td>    0.006</td> <td>  -13.277</td> <td> 0.000</td> <td>   -0.091</td> <td>   -0.068</td>\n",
       "</tr>\n",
       "<tr>\n",
       "  <th>sv__WelcomeCarouselDialog</th> <td>   -0.4753</td> <td>    0.052</td> <td>   -9.171</td> <td> 0.000</td> <td>   -0.577</td> <td>   -0.374</td>\n",
       "</tr>\n",
       "</table>"
      ],
      "text/plain": [
       "<class 'statsmodels.iolib.summary.Summary'>\n",
       "\"\"\"\n",
       "                           Logit Regression Results                           \n",
       "==============================================================================\n",
       "Dep. Variable:        in_app_purchase   No. Observations:               124157\n",
       "Model:                          Logit   Df Residuals:                   124133\n",
       "Method:                           MLE   Df Model:                           23\n",
       "Date:                Sat, 12 Dec 2020   Pseudo R-squ.:                  0.1634\n",
       "Time:                        10:36:23   Log-Likelihood:                -5668.1\n",
       "converged:                       True   LL-Null:                       -6775.1\n",
       "Covariance Type:            nonrobust   LLR p-value:                     0.000\n",
       "=============================================================================================\n",
       "                                coef    std err          z      P>|z|      [0.025      0.975]\n",
       "---------------------------------------------------------------------------------------------\n",
       "const                        -4.8216      0.040   -121.547      0.000      -4.899      -4.744\n",
       "ClickOnWholeView              0.0023      0.009      0.268      0.788      -0.015       0.019\n",
       "EnterFcMore                   0.3024      0.061      4.922      0.000       0.182       0.423\n",
       "FabClickedPremium             0.7187      0.113      6.361      0.000       0.497       0.940\n",
       "LibraryClicked                0.0555      0.014      4.003      0.000       0.028       0.083\n",
       "PlayNextParagraphFromBut      0.0247      0.004      6.881      0.000       0.018       0.032\n",
       "PlayPrevParagraph            -0.8534      0.486     -1.758      0.079      -1.805       0.098\n",
       "PremiumBarClickedMain         0.0731      0.075      0.970      0.332      -0.075       0.221\n",
       "PremiumBarClickedSD           0.2027      0.106      1.917      0.055      -0.005       0.410\n",
       "StartBekids                  -0.2249      0.029     -7.767      0.000      -0.282      -0.168\n",
       "StartListening                0.3315      0.018     18.152      0.000       0.296       0.367\n",
       "StartNStory                  -0.1213      0.016     -7.566      0.000      -0.153      -0.090\n",
       "TryToBuyNewPAct               1.3073      0.075     17.414      0.000       1.160       1.454\n",
       "TryToBuyNewPF                -0.0042      0.030     -0.142      0.887      -0.063       0.055\n",
       "sv__AAPageA                   0.3191      0.047      6.769      0.000       0.227       0.412\n",
       "sv__AAPageF                  -0.1602      0.125     -1.286      0.199      -0.404       0.084\n",
       "sv__GlossaryF                 0.0232      0.051      0.456      0.649      -0.077       0.123\n",
       "sv__GoldPageF                 0.5642      0.142      3.973      0.000       0.286       0.843\n",
       "sv__Libraries                -0.0057      0.006     -1.012      0.312      -0.017       0.005\n",
       "sv__NewPremiumAct            -0.5502      0.071     -7.779      0.000      -0.689      -0.412\n",
       "sv__ProPageA                 -0.2190      0.067     -3.251      0.001      -0.351      -0.087\n",
       "sv__ProPageF                  0.1616      0.089      1.819      0.069      -0.013       0.336\n",
       "sv__StoryDetails             -0.0794      0.006    -13.277      0.000      -0.091      -0.068\n",
       "sv__WelcomeCarouselDialog    -0.4753      0.052     -9.171      0.000      -0.577      -0.374\n",
       "=============================================================================================\n",
       "\"\"\""
      ]
     },
     "execution_count": 134,
     "metadata": {},
     "output_type": "execute_result"
    }
   ],
   "source": [
    "y = df_log['in_app_purchase']\n",
    "X = df_log[cols]\n",
    "X = sm.add_constant(X)\n",
    "model = sm.Logit(y, X).fit()\n",
    "model.summary()\n",
    "#logistic regression for both platforms"
   ]
  },
  {
   "cell_type": "code",
   "execution_count": 135,
   "metadata": {
    "scrolled": false
   },
   "outputs": [
    {
     "name": "stdout",
     "output_type": "stream",
     "text": [
      "Optimization terminated successfully.\n",
      "         Current function value: 0.034228\n",
      "         Iterations 11\n"
     ]
    },
    {
     "data": {
      "text/html": [
       "<table class=\"simpletable\">\n",
       "<caption>Logit Regression Results</caption>\n",
       "<tr>\n",
       "  <th>Dep. Variable:</th>    <td>in_app_purchase</td> <th>  No. Observations:  </th>  <td>108580</td> \n",
       "</tr>\n",
       "<tr>\n",
       "  <th>Model:</th>                 <td>Logit</td>      <th>  Df Residuals:      </th>  <td>108556</td> \n",
       "</tr>\n",
       "<tr>\n",
       "  <th>Method:</th>                 <td>MLE</td>       <th>  Df Model:          </th>  <td>    23</td> \n",
       "</tr>\n",
       "<tr>\n",
       "  <th>Date:</th>            <td>Sat, 12 Dec 2020</td> <th>  Pseudo R-squ.:     </th>  <td>0.1882</td> \n",
       "</tr>\n",
       "<tr>\n",
       "  <th>Time:</th>                <td>10:37:00</td>     <th>  Log-Likelihood:    </th> <td> -3716.5</td>\n",
       "</tr>\n",
       "<tr>\n",
       "  <th>converged:</th>             <td>True</td>       <th>  LL-Null:           </th> <td> -4577.9</td>\n",
       "</tr>\n",
       "<tr>\n",
       "  <th>Covariance Type:</th>     <td>nonrobust</td>    <th>  LLR p-value:       </th>  <td> 0.000</td> \n",
       "</tr>\n",
       "</table>\n",
       "<table class=\"simpletable\">\n",
       "<tr>\n",
       "              <td></td>                 <th>coef</th>     <th>std err</th>      <th>z</th>      <th>P>|z|</th>  <th>[0.025</th>    <th>0.975]</th>  \n",
       "</tr>\n",
       "<tr>\n",
       "  <th>const</th>                     <td>   -5.1715</td> <td>    0.051</td> <td> -101.850</td> <td> 0.000</td> <td>   -5.271</td> <td>   -5.072</td>\n",
       "</tr>\n",
       "<tr>\n",
       "  <th>ClickOnWholeView</th>          <td>    0.0813</td> <td>    0.018</td> <td>    4.530</td> <td> 0.000</td> <td>    0.046</td> <td>    0.116</td>\n",
       "</tr>\n",
       "<tr>\n",
       "  <th>EnterFcMore</th>               <td>    0.2995</td> <td>    0.060</td> <td>    4.963</td> <td> 0.000</td> <td>    0.181</td> <td>    0.418</td>\n",
       "</tr>\n",
       "<tr>\n",
       "  <th>FabClickedPremium</th>         <td>    0.7640</td> <td>    0.114</td> <td>    6.728</td> <td> 0.000</td> <td>    0.541</td> <td>    0.986</td>\n",
       "</tr>\n",
       "<tr>\n",
       "  <th>LibraryClicked</th>            <td>    0.0470</td> <td>    0.014</td> <td>    3.275</td> <td> 0.001</td> <td>    0.019</td> <td>    0.075</td>\n",
       "</tr>\n",
       "<tr>\n",
       "  <th>PlayNextParagraphFromBut</th>  <td>    0.0219</td> <td>    0.004</td> <td>    5.549</td> <td> 0.000</td> <td>    0.014</td> <td>    0.030</td>\n",
       "</tr>\n",
       "<tr>\n",
       "  <th>PlayPrevParagraph</th>         <td>   -0.8426</td> <td>    0.493</td> <td>   -1.709</td> <td> 0.087</td> <td>   -1.809</td> <td>    0.124</td>\n",
       "</tr>\n",
       "<tr>\n",
       "  <th>PremiumBarClickedMain</th>     <td>    0.0377</td> <td>    0.077</td> <td>    0.486</td> <td> 0.627</td> <td>   -0.114</td> <td>    0.189</td>\n",
       "</tr>\n",
       "<tr>\n",
       "  <th>PremiumBarClickedSD</th>       <td>    0.1802</td> <td>    0.112</td> <td>    1.609</td> <td> 0.108</td> <td>   -0.039</td> <td>    0.400</td>\n",
       "</tr>\n",
       "<tr>\n",
       "  <th>StartBekids</th>               <td>   -0.1548</td> <td>    0.032</td> <td>   -4.906</td> <td> 0.000</td> <td>   -0.217</td> <td>   -0.093</td>\n",
       "</tr>\n",
       "<tr>\n",
       "  <th>StartListening</th>            <td>    0.3673</td> <td>    0.025</td> <td>   14.876</td> <td> 0.000</td> <td>    0.319</td> <td>    0.416</td>\n",
       "</tr>\n",
       "<tr>\n",
       "  <th>StartNStory</th>               <td>   -0.1220</td> <td>    0.017</td> <td>   -7.121</td> <td> 0.000</td> <td>   -0.156</td> <td>   -0.088</td>\n",
       "</tr>\n",
       "<tr>\n",
       "  <th>TryToBuyNewPAct</th>           <td>    1.3962</td> <td>    0.079</td> <td>   17.704</td> <td> 0.000</td> <td>    1.242</td> <td>    1.551</td>\n",
       "</tr>\n",
       "<tr>\n",
       "  <th>TryToBuyNewPF</th>             <td>    0.0016</td> <td>    0.030</td> <td>    0.052</td> <td> 0.959</td> <td>   -0.057</td> <td>    0.061</td>\n",
       "</tr>\n",
       "<tr>\n",
       "  <th>sv__AAPageA</th>               <td>    0.3621</td> <td>    0.048</td> <td>    7.539</td> <td> 0.000</td> <td>    0.268</td> <td>    0.456</td>\n",
       "</tr>\n",
       "<tr>\n",
       "  <th>sv__AAPageF</th>               <td>   -0.1817</td> <td>    0.126</td> <td>   -1.440</td> <td> 0.150</td> <td>   -0.429</td> <td>    0.066</td>\n",
       "</tr>\n",
       "<tr>\n",
       "  <th>sv__GlossaryF</th>             <td>    0.0950</td> <td>    0.049</td> <td>    1.949</td> <td> 0.051</td> <td>   -0.001</td> <td>    0.190</td>\n",
       "</tr>\n",
       "<tr>\n",
       "  <th>sv__GoldPageF</th>             <td>    0.6295</td> <td>    0.145</td> <td>    4.333</td> <td> 0.000</td> <td>    0.345</td> <td>    0.914</td>\n",
       "</tr>\n",
       "<tr>\n",
       "  <th>sv__Libraries</th>             <td>   -0.0073</td> <td>    0.006</td> <td>   -1.190</td> <td> 0.234</td> <td>   -0.019</td> <td>    0.005</td>\n",
       "</tr>\n",
       "<tr>\n",
       "  <th>sv__NewPremiumAct</th>         <td>   -0.5695</td> <td>    0.072</td> <td>   -7.907</td> <td> 0.000</td> <td>   -0.711</td> <td>   -0.428</td>\n",
       "</tr>\n",
       "<tr>\n",
       "  <th>sv__ProPageA</th>              <td>   -0.2991</td> <td>    0.070</td> <td>   -4.288</td> <td> 0.000</td> <td>   -0.436</td> <td>   -0.162</td>\n",
       "</tr>\n",
       "<tr>\n",
       "  <th>sv__ProPageF</th>              <td>    0.1567</td> <td>    0.088</td> <td>    1.782</td> <td> 0.075</td> <td>   -0.016</td> <td>    0.329</td>\n",
       "</tr>\n",
       "<tr>\n",
       "  <th>sv__StoryDetails</th>          <td>   -0.1319</td> <td>    0.015</td> <td>   -8.962</td> <td> 0.000</td> <td>   -0.161</td> <td>   -0.103</td>\n",
       "</tr>\n",
       "<tr>\n",
       "  <th>sv__WelcomeCarouselDialog</th> <td>   -0.3334</td> <td>    0.053</td> <td>   -6.236</td> <td> 0.000</td> <td>   -0.438</td> <td>   -0.229</td>\n",
       "</tr>\n",
       "</table>"
      ],
      "text/plain": [
       "<class 'statsmodels.iolib.summary.Summary'>\n",
       "\"\"\"\n",
       "                           Logit Regression Results                           \n",
       "==============================================================================\n",
       "Dep. Variable:        in_app_purchase   No. Observations:               108580\n",
       "Model:                          Logit   Df Residuals:                   108556\n",
       "Method:                           MLE   Df Model:                           23\n",
       "Date:                Sat, 12 Dec 2020   Pseudo R-squ.:                  0.1882\n",
       "Time:                        10:37:00   Log-Likelihood:                -3716.5\n",
       "converged:                       True   LL-Null:                       -4577.9\n",
       "Covariance Type:            nonrobust   LLR p-value:                     0.000\n",
       "=============================================================================================\n",
       "                                coef    std err          z      P>|z|      [0.025      0.975]\n",
       "---------------------------------------------------------------------------------------------\n",
       "const                        -5.1715      0.051   -101.850      0.000      -5.271      -5.072\n",
       "ClickOnWholeView              0.0813      0.018      4.530      0.000       0.046       0.116\n",
       "EnterFcMore                   0.2995      0.060      4.963      0.000       0.181       0.418\n",
       "FabClickedPremium             0.7640      0.114      6.728      0.000       0.541       0.986\n",
       "LibraryClicked                0.0470      0.014      3.275      0.001       0.019       0.075\n",
       "PlayNextParagraphFromBut      0.0219      0.004      5.549      0.000       0.014       0.030\n",
       "PlayPrevParagraph            -0.8426      0.493     -1.709      0.087      -1.809       0.124\n",
       "PremiumBarClickedMain         0.0377      0.077      0.486      0.627      -0.114       0.189\n",
       "PremiumBarClickedSD           0.1802      0.112      1.609      0.108      -0.039       0.400\n",
       "StartBekids                  -0.1548      0.032     -4.906      0.000      -0.217      -0.093\n",
       "StartListening                0.3673      0.025     14.876      0.000       0.319       0.416\n",
       "StartNStory                  -0.1220      0.017     -7.121      0.000      -0.156      -0.088\n",
       "TryToBuyNewPAct               1.3962      0.079     17.704      0.000       1.242       1.551\n",
       "TryToBuyNewPF                 0.0016      0.030      0.052      0.959      -0.057       0.061\n",
       "sv__AAPageA                   0.3621      0.048      7.539      0.000       0.268       0.456\n",
       "sv__AAPageF                  -0.1817      0.126     -1.440      0.150      -0.429       0.066\n",
       "sv__GlossaryF                 0.0950      0.049      1.949      0.051      -0.001       0.190\n",
       "sv__GoldPageF                 0.6295      0.145      4.333      0.000       0.345       0.914\n",
       "sv__Libraries                -0.0073      0.006     -1.190      0.234      -0.019       0.005\n",
       "sv__NewPremiumAct            -0.5695      0.072     -7.907      0.000      -0.711      -0.428\n",
       "sv__ProPageA                 -0.2991      0.070     -4.288      0.000      -0.436      -0.162\n",
       "sv__ProPageF                  0.1567      0.088      1.782      0.075      -0.016       0.329\n",
       "sv__StoryDetails             -0.1319      0.015     -8.962      0.000      -0.161      -0.103\n",
       "sv__WelcomeCarouselDialog    -0.3334      0.053     -6.236      0.000      -0.438      -0.229\n",
       "=============================================================================================\n",
       "\"\"\""
      ]
     },
     "execution_count": 135,
     "metadata": {},
     "output_type": "execute_result"
    }
   ],
   "source": [
    "y = df_log[df_log.platform=='Android']['in_app_purchase']\n",
    "X = df_log[df_log.platform=='Android'][cols]\n",
    "X = sm.add_constant(X)\n",
    "model = sm.Logit(y, X).fit()\n",
    "model.summary()\n",
    "#logistic regression only for Android"
   ]
  },
  {
   "cell_type": "markdown",
   "metadata": {},
   "source": [
    "**Query with 7 days and +30 minutes**"
   ]
  },
  {
   "cell_type": "code",
   "execution_count": 98,
   "metadata": {},
   "outputs": [],
   "source": [
    "query=\"\"\"with initial_dataset as (\n",
    "  select\n",
    "    case \n",
    "      when event_name like 'sv__OnBoardingTutorialVi%' then 'sv__OnBoardingTutorialView'\n",
    "      else event_name\n",
    "    end as event_name,\n",
    "    optional_label,\n",
    "    event_timestamp,\n",
    "    event_date,\n",
    "    user_id,\n",
    "    user_pseudo_id,\n",
    "    ga_session_id,\n",
    "    user_history_event_number,\n",
    "    session_event_number,\n",
    "    platform,\n",
    "    device_language,\n",
    "    country\n",
    "  from\n",
    "    analytics_151430920.firebase_facts_events as eve\n",
    "  where\n",
    "    eve.event_timestamp >= '2020-11-01'\n",
    "  and\n",
    "    eve.event_name in ('sv__OnBoardingTutorialVi','sv__WelcomeCarouselDialog','sv__NewPremiumAct','TryToBuyNewPAct','TryToBuyNewPF','ClickOnWholeView','StartListening','sv__StoryDetails','StartNStory','StartBekids','FabClickedPremium','PremiumBarClickedSD','PremiumBarClickedMain','sv__AAPageA','sv__ProPageA','sv_GoldPageA','sv__AAPageF','sv__ProPageF','sv__GoldPageF','EnterFcMore','sv__GlossaryF','LibraryClicked','sv__Libraries','PlayPrevParagraph','PlayNextParagraphFromBut','sv__OnBoardingTutorialVie','in_app_purchase','PurchaseNormal')\n",
    "),   \n",
    "\n",
    "premium_promo_shown as (\n",
    "  select distinct\n",
    "    user_pseudo_id,\n",
    "    first_value(event_timestamp) over (partition by user_pseudo_id order by event_timestamp) as first_premium_promo_shown_timestamp\n",
    "  from\n",
    "    initial_dataset\n",
    "  where\n",
    "    event_name = 'sv__WelcomeCarouselDialog'\n",
    "),\n",
    "\n",
    "purchases as (\n",
    "  select distinct\n",
    "    'in_app_purchase' as event_name,\n",
    "    first_value(event_timestamp) over (partition by user_pseudo_id order by event_timestamp) as first_purchase_timestamp,\n",
    "    first_value(event_date) over (partition by user_pseudo_id order by event_timestamp) as first_purchase_date,\n",
    "    first_value(optional_label) over (partition by user_pseudo_id order by event_timestamp) as optional_label,\n",
    "    last_value(user_id) over (partition by user_pseudo_id order by event_timestamp) as user_id,\n",
    "    user_pseudo_id,\n",
    "    first_value(ga_session_id) over (partition by user_pseudo_id order by event_timestamp) as ga_session_id,\n",
    "    first_value(user_history_event_number) over (partition by user_pseudo_id order by event_timestamp) as user_history_event_number,\n",
    "    first_value(session_event_number) over (partition by user_pseudo_id order by event_timestamp) as session_event_number,\n",
    "    first_value(platform) over (partition by user_pseudo_id order by event_timestamp) as platform,\n",
    "    first_value(device_language) over (partition by user_pseudo_id order by event_timestamp) as device_language,\n",
    "    first_value(country) over (partition by user_pseudo_id order by event_timestamp) as country\n",
    "  from\n",
    "    initial_dataset\n",
    "  where\n",
    "    event_name in ('in_app_purchase','PurchaseNormal')\n",
    "),\n",
    "\n",
    "relevant_purchases as (\n",
    "  select\n",
    "    pu.event_name,\n",
    "    pu.first_purchase_timestamp,\n",
    "    pu.first_purchase_date,\n",
    "    ps.first_premium_promo_shown_timestamp,\n",
    "    pu.optional_label,\n",
    "    pu.user_id,\n",
    "    pu.user_pseudo_id,\n",
    "    pu.ga_session_id,\n",
    "    pu.user_history_event_number,\n",
    "    pu.session_event_number,\n",
    "    pu.platform,\n",
    "    pu.device_language,\n",
    "    pu.country\n",
    "  from\n",
    "    purchases as pu\n",
    "  join\n",
    "    premium_promo_shown as ps on ps.user_pseudo_id = pu.user_pseudo_id\n",
    "  where\n",
    "    pu.first_purchase_timestamp > timestamp_add(ps.first_premium_promo_shown_timestamp, interval 30 minute)\n",
    "),\n",
    "\n",
    "relevant_events as (\n",
    "  select\n",
    "    ini.event_name,\n",
    "    ini.event_timestamp,\n",
    "    ini.event_date,\n",
    "    ini.optional_label,\n",
    "    ini.user_id,\n",
    "    ini.user_pseudo_id,\n",
    "    ini.ga_session_id,\n",
    "    ini.user_history_event_number,\n",
    "    ini.session_event_number,\n",
    "    ini.platform,\n",
    "    ini.device_language,\n",
    "    ini.country\n",
    "  from\n",
    "    initial_dataset as ini\n",
    "  left join\n",
    "    premium_promo_shown as ps on ps.user_pseudo_id = ini.user_pseudo_id\n",
    "  where\n",
    "    event_name != 'in_app_purchase'\n",
    "  and\n",
    "    ini.event_timestamp between ps.first_premium_promo_shown_timestamp and timestamp_add(first_premium_promo_shown_timestamp, interval 7 day)\n",
    "  union all\n",
    "  select\n",
    "    rep.event_name,\n",
    "    rep.first_purchase_timestamp as event_timestamp,\n",
    "    rep.first_purchase_date as event_date,\n",
    "    rep.optional_label,\n",
    "    rep.user_id,\n",
    "    rep.user_pseudo_id,\n",
    "    rep.ga_session_id,\n",
    "    rep.user_history_event_number,\n",
    "    rep.session_event_number,\n",
    "    rep.platform,\n",
    "    rep.device_language,\n",
    "    rep.country\n",
    "  from\n",
    "    relevant_purchases as rep\n",
    "  where\n",
    "    rep.first_purchase_timestamp between rep.first_premium_promo_shown_timestamp and timestamp_add(rep.first_premium_promo_shown_timestamp, interval 7 day)\n",
    ")\n",
    "\n",
    "select\n",
    "  user_pseudo_id,\n",
    "  event_name,\n",
    "  count(event_timestamp) as occurrences_count,\n",
    "  min(event_timestamp) as first_event_timestamp,\n",
    "  max(event_timestamp) as last_event_timestamp\n",
    "from\n",
    "  relevant_events\n",
    "group by 1,2;\n",
    "\"\"\"\n",
    "df2 = pandas_gbq.read_gbq(query, project_id= 'beelinguapp')"
   ]
  },
  {
   "cell_type": "markdown",
   "metadata": {},
   "source": [
    "**Investigating Dataframe and Creating Pivot**"
   ]
  },
  {
   "cell_type": "code",
   "execution_count": 100,
   "metadata": {},
   "outputs": [
    {
     "name": "stdout",
     "output_type": "stream",
     "text": [
      "<class 'pandas.core.frame.DataFrame'>\n",
      "RangeIndex: 408117 entries, 0 to 408116\n",
      "Data columns (total 5 columns):\n",
      " #   Column                 Non-Null Count   Dtype              \n",
      "---  ------                 --------------   -----              \n",
      " 0   user_pseudo_id         408117 non-null  object             \n",
      " 1   event_name             408117 non-null  object             \n",
      " 2   occurrences_count      408117 non-null  int64              \n",
      " 3   first_event_timestamp  408117 non-null  datetime64[ns, UTC]\n",
      " 4   last_event_timestamp   408117 non-null  datetime64[ns, UTC]\n",
      "dtypes: datetime64[ns, UTC](2), int64(1), object(2)\n",
      "memory usage: 12.5+ MB\n"
     ]
    }
   ],
   "source": [
    "df2.info()"
   ]
  },
  {
   "cell_type": "code",
   "execution_count": 101,
   "metadata": {
    "scrolled": true
   },
   "outputs": [
    {
     "data": {
      "text/plain": [
       "sv__WelcomeCarouselDialog     64464\n",
       "sv__Libraries                 60524\n",
       "sv__StoryDetails              49357\n",
       "ClickOnWholeView              48778\n",
       "StartListening                43228\n",
       "StartNStory                   37712\n",
       "LibraryClicked                21321\n",
       "sv__NewPremiumAct             17051\n",
       "sv__AAPageA                    9859\n",
       "PremiumBarClickedMain          9642\n",
       "sv__ProPageA                   7294\n",
       "sv__AAPageF                    6479\n",
       "sv__ProPageF                   5025\n",
       "sv__GlossaryF                  4911\n",
       "StartBekids                    4364\n",
       "PremiumBarClickedSD            4341\n",
       "PlayNextParagraphFromBut       4120\n",
       "FabClickedPremium              2437\n",
       "TryToBuyNewPAct                2085\n",
       "sv__GoldPageF                  2044\n",
       "EnterFcMore                    1798\n",
       "TryToBuyNewPF                   741\n",
       "sv__OnBoardingTutorialView      273\n",
       "PlayPrevParagraph               173\n",
       "in_app_purchase                  96\n",
       "Name: event_name, dtype: int64"
      ]
     },
     "execution_count": 101,
     "metadata": {},
     "output_type": "execute_result"
    }
   ],
   "source": [
    "df2[\"event_name\"].value_counts() #why do we have still sv_WelcomeCarouselDialog here? although there is less purchase"
   ]
  },
  {
   "cell_type": "code",
   "execution_count": 102,
   "metadata": {},
   "outputs": [],
   "source": [
    "df_log2 = df2.pivot_table(index=[\"user_pseudo_id\"],columns=[\"event_name\"],fill_value=0)"
   ]
  },
  {
   "cell_type": "code",
   "execution_count": 103,
   "metadata": {},
   "outputs": [],
   "source": [
    "df_log2.columns = df_log2.columns.droplevel() #to get rid of the first column name of nested column"
   ]
  },
  {
   "cell_type": "code",
   "execution_count": 104,
   "metadata": {},
   "outputs": [],
   "source": [
    "df_log2.reset_index(inplace=True)"
   ]
  },
  {
   "cell_type": "markdown",
   "metadata": {},
   "source": [
    "**Logistic Regressions for +30 mins**"
   ]
  },
  {
   "cell_type": "code",
   "execution_count": 105,
   "metadata": {},
   "outputs": [],
   "source": [
    "cols2 = ['ClickOnWholeView',\n",
    " 'EnterFcMore',\n",
    " 'FabClickedPremium',\n",
    " 'LibraryClicked',\n",
    " 'PlayNextParagraphFromBut',\n",
    " 'PlayPrevParagraph',\n",
    " 'PremiumBarClickedMain',\n",
    " 'PremiumBarClickedSD',\n",
    " 'StartBekids',\n",
    " 'StartListening',\n",
    " 'StartNStory',\n",
    " 'TryToBuyNewPAct',\n",
    " 'TryToBuyNewPF',\n",
    " 'sv__AAPageA',\n",
    " 'sv__AAPageF',\n",
    " 'sv__GlossaryF',\n",
    " 'sv__GoldPageF',\n",
    " 'sv__Libraries',\n",
    " 'sv__NewPremiumAct',\n",
    " 'sv__OnBoardingTutorialView',\n",
    " 'sv__ProPageA',\n",
    " 'sv__ProPageF',\n",
    " 'sv__StoryDetails',\n",
    " 'sv__WelcomeCarouselDialog']"
   ]
  },
  {
   "cell_type": "code",
   "execution_count": 106,
   "metadata": {},
   "outputs": [
    {
     "name": "stdout",
     "output_type": "stream",
     "text": [
      "Optimization terminated successfully.\n",
      "         Current function value: 0.007341\n",
      "         Iterations 11\n"
     ]
    },
    {
     "data": {
      "text/html": [
       "<table class=\"simpletable\">\n",
       "<caption>Logit Regression Results</caption>\n",
       "<tr>\n",
       "  <th>Dep. Variable:</th>    <td>in_app_purchase</td> <th>  No. Observations:  </th>  <td> 64464</td>  \n",
       "</tr>\n",
       "<tr>\n",
       "  <th>Model:</th>                 <td>Logit</td>      <th>  Df Residuals:      </th>  <td> 64439</td>  \n",
       "</tr>\n",
       "<tr>\n",
       "  <th>Method:</th>                 <td>MLE</td>       <th>  Df Model:          </th>  <td>    24</td>  \n",
       "</tr>\n",
       "<tr>\n",
       "  <th>Date:</th>            <td>Fri, 11 Dec 2020</td> <th>  Pseudo R-squ.:     </th>  <td>0.3435</td>  \n",
       "</tr>\n",
       "<tr>\n",
       "  <th>Time:</th>                <td>21:52:10</td>     <th>  Log-Likelihood:    </th> <td> -473.23</td> \n",
       "</tr>\n",
       "<tr>\n",
       "  <th>converged:</th>             <td>True</td>       <th>  LL-Null:           </th> <td> -720.84</td> \n",
       "</tr>\n",
       "<tr>\n",
       "  <th>Covariance Type:</th>     <td>nonrobust</td>    <th>  LLR p-value:       </th> <td>1.632e-89</td>\n",
       "</tr>\n",
       "</table>\n",
       "<table class=\"simpletable\">\n",
       "<tr>\n",
       "               <td></td>                 <th>coef</th>     <th>std err</th>      <th>z</th>      <th>P>|z|</th>  <th>[0.025</th>    <th>0.975]</th>  \n",
       "</tr>\n",
       "<tr>\n",
       "  <th>const</th>                      <td>   -7.4580</td> <td>    0.334</td> <td>  -22.322</td> <td> 0.000</td> <td>   -8.113</td> <td>   -6.803</td>\n",
       "</tr>\n",
       "<tr>\n",
       "  <th>ClickOnWholeView</th>           <td>   -0.0918</td> <td>    0.025</td> <td>   -3.658</td> <td> 0.000</td> <td>   -0.141</td> <td>   -0.043</td>\n",
       "</tr>\n",
       "<tr>\n",
       "  <th>EnterFcMore</th>                <td>    0.2950</td> <td>    0.165</td> <td>    1.783</td> <td> 0.075</td> <td>   -0.029</td> <td>    0.619</td>\n",
       "</tr>\n",
       "<tr>\n",
       "  <th>FabClickedPremium</th>          <td>    0.7055</td> <td>    0.259</td> <td>    2.728</td> <td> 0.006</td> <td>    0.199</td> <td>    1.212</td>\n",
       "</tr>\n",
       "<tr>\n",
       "  <th>LibraryClicked</th>             <td>    0.1011</td> <td>    0.021</td> <td>    4.716</td> <td> 0.000</td> <td>    0.059</td> <td>    0.143</td>\n",
       "</tr>\n",
       "<tr>\n",
       "  <th>PlayNextParagraphFromBut</th>   <td>    0.0222</td> <td>    0.006</td> <td>    3.649</td> <td> 0.000</td> <td>    0.010</td> <td>    0.034</td>\n",
       "</tr>\n",
       "<tr>\n",
       "  <th>PlayPrevParagraph</th>          <td>   -0.0250</td> <td>    0.359</td> <td>   -0.070</td> <td> 0.945</td> <td>   -0.729</td> <td>    0.679</td>\n",
       "</tr>\n",
       "<tr>\n",
       "  <th>PremiumBarClickedMain</th>      <td>    0.4250</td> <td>    0.117</td> <td>    3.633</td> <td> 0.000</td> <td>    0.196</td> <td>    0.654</td>\n",
       "</tr>\n",
       "<tr>\n",
       "  <th>PremiumBarClickedSD</th>        <td>    0.8053</td> <td>    0.178</td> <td>    4.526</td> <td> 0.000</td> <td>    0.457</td> <td>    1.154</td>\n",
       "</tr>\n",
       "<tr>\n",
       "  <th>StartBekids</th>                <td>   -0.1243</td> <td>    0.052</td> <td>   -2.393</td> <td> 0.017</td> <td>   -0.226</td> <td>   -0.022</td>\n",
       "</tr>\n",
       "<tr>\n",
       "  <th>StartListening</th>             <td>    0.1140</td> <td>    0.040</td> <td>    2.857</td> <td> 0.004</td> <td>    0.036</td> <td>    0.192</td>\n",
       "</tr>\n",
       "<tr>\n",
       "  <th>StartNStory</th>                <td>   -0.0596</td> <td>    0.026</td> <td>   -2.282</td> <td> 0.022</td> <td>   -0.111</td> <td>   -0.008</td>\n",
       "</tr>\n",
       "<tr>\n",
       "  <th>TryToBuyNewPAct</th>            <td>    0.5205</td> <td>    0.092</td> <td>    5.676</td> <td> 0.000</td> <td>    0.341</td> <td>    0.700</td>\n",
       "</tr>\n",
       "<tr>\n",
       "  <th>TryToBuyNewPF</th>              <td>    0.0698</td> <td>    0.032</td> <td>    2.197</td> <td> 0.028</td> <td>    0.008</td> <td>    0.132</td>\n",
       "</tr>\n",
       "<tr>\n",
       "  <th>sv__AAPageA</th>                <td>    0.0831</td> <td>    0.086</td> <td>    0.961</td> <td> 0.336</td> <td>   -0.086</td> <td>    0.252</td>\n",
       "</tr>\n",
       "<tr>\n",
       "  <th>sv__AAPageF</th>                <td>    0.1595</td> <td>    0.195</td> <td>    0.817</td> <td> 0.414</td> <td>   -0.223</td> <td>    0.542</td>\n",
       "</tr>\n",
       "<tr>\n",
       "  <th>sv__GlossaryF</th>              <td>   -0.3354</td> <td>    0.090</td> <td>   -3.730</td> <td> 0.000</td> <td>   -0.512</td> <td>   -0.159</td>\n",
       "</tr>\n",
       "<tr>\n",
       "  <th>sv__GoldPageF</th>              <td>   -0.0520</td> <td>    0.240</td> <td>   -0.216</td> <td> 0.829</td> <td>   -0.523</td> <td>    0.419</td>\n",
       "</tr>\n",
       "<tr>\n",
       "  <th>sv__Libraries</th>              <td>    0.0043</td> <td>    0.002</td> <td>    2.476</td> <td> 0.013</td> <td>    0.001</td> <td>    0.008</td>\n",
       "</tr>\n",
       "<tr>\n",
       "  <th>sv__NewPremiumAct</th>          <td>   -0.5288</td> <td>    0.114</td> <td>   -4.655</td> <td> 0.000</td> <td>   -0.751</td> <td>   -0.306</td>\n",
       "</tr>\n",
       "<tr>\n",
       "  <th>sv__OnBoardingTutorialView</th> <td>   -0.0992</td> <td>    0.238</td> <td>   -0.416</td> <td> 0.677</td> <td>   -0.566</td> <td>    0.368</td>\n",
       "</tr>\n",
       "<tr>\n",
       "  <th>sv__ProPageA</th>               <td>    0.0417</td> <td>    0.107</td> <td>    0.389</td> <td> 0.698</td> <td>   -0.168</td> <td>    0.252</td>\n",
       "</tr>\n",
       "<tr>\n",
       "  <th>sv__ProPageF</th>               <td>    0.1618</td> <td>    0.134</td> <td>    1.208</td> <td> 0.227</td> <td>   -0.101</td> <td>    0.424</td>\n",
       "</tr>\n",
       "<tr>\n",
       "  <th>sv__StoryDetails</th>           <td>    0.0432</td> <td>    0.020</td> <td>    2.167</td> <td> 0.030</td> <td>    0.004</td> <td>    0.082</td>\n",
       "</tr>\n",
       "<tr>\n",
       "  <th>sv__WelcomeCarouselDialog</th>  <td>   -0.0554</td> <td>    0.284</td> <td>   -0.195</td> <td> 0.845</td> <td>   -0.612</td> <td>    0.501</td>\n",
       "</tr>\n",
       "</table>"
      ],
      "text/plain": [
       "<class 'statsmodels.iolib.summary.Summary'>\n",
       "\"\"\"\n",
       "                           Logit Regression Results                           \n",
       "==============================================================================\n",
       "Dep. Variable:        in_app_purchase   No. Observations:                64464\n",
       "Model:                          Logit   Df Residuals:                    64439\n",
       "Method:                           MLE   Df Model:                           24\n",
       "Date:                Fri, 11 Dec 2020   Pseudo R-squ.:                  0.3435\n",
       "Time:                        21:52:10   Log-Likelihood:                -473.23\n",
       "converged:                       True   LL-Null:                       -720.84\n",
       "Covariance Type:            nonrobust   LLR p-value:                 1.632e-89\n",
       "==============================================================================================\n",
       "                                 coef    std err          z      P>|z|      [0.025      0.975]\n",
       "----------------------------------------------------------------------------------------------\n",
       "const                         -7.4580      0.334    -22.322      0.000      -8.113      -6.803\n",
       "ClickOnWholeView              -0.0918      0.025     -3.658      0.000      -0.141      -0.043\n",
       "EnterFcMore                    0.2950      0.165      1.783      0.075      -0.029       0.619\n",
       "FabClickedPremium              0.7055      0.259      2.728      0.006       0.199       1.212\n",
       "LibraryClicked                 0.1011      0.021      4.716      0.000       0.059       0.143\n",
       "PlayNextParagraphFromBut       0.0222      0.006      3.649      0.000       0.010       0.034\n",
       "PlayPrevParagraph             -0.0250      0.359     -0.070      0.945      -0.729       0.679\n",
       "PremiumBarClickedMain          0.4250      0.117      3.633      0.000       0.196       0.654\n",
       "PremiumBarClickedSD            0.8053      0.178      4.526      0.000       0.457       1.154\n",
       "StartBekids                   -0.1243      0.052     -2.393      0.017      -0.226      -0.022\n",
       "StartListening                 0.1140      0.040      2.857      0.004       0.036       0.192\n",
       "StartNStory                   -0.0596      0.026     -2.282      0.022      -0.111      -0.008\n",
       "TryToBuyNewPAct                0.5205      0.092      5.676      0.000       0.341       0.700\n",
       "TryToBuyNewPF                  0.0698      0.032      2.197      0.028       0.008       0.132\n",
       "sv__AAPageA                    0.0831      0.086      0.961      0.336      -0.086       0.252\n",
       "sv__AAPageF                    0.1595      0.195      0.817      0.414      -0.223       0.542\n",
       "sv__GlossaryF                 -0.3354      0.090     -3.730      0.000      -0.512      -0.159\n",
       "sv__GoldPageF                 -0.0520      0.240     -0.216      0.829      -0.523       0.419\n",
       "sv__Libraries                  0.0043      0.002      2.476      0.013       0.001       0.008\n",
       "sv__NewPremiumAct             -0.5288      0.114     -4.655      0.000      -0.751      -0.306\n",
       "sv__OnBoardingTutorialView    -0.0992      0.238     -0.416      0.677      -0.566       0.368\n",
       "sv__ProPageA                   0.0417      0.107      0.389      0.698      -0.168       0.252\n",
       "sv__ProPageF                   0.1618      0.134      1.208      0.227      -0.101       0.424\n",
       "sv__StoryDetails               0.0432      0.020      2.167      0.030       0.004       0.082\n",
       "sv__WelcomeCarouselDialog     -0.0554      0.284     -0.195      0.845      -0.612       0.501\n",
       "==============================================================================================\n",
       "\"\"\""
      ]
     },
     "execution_count": 106,
     "metadata": {},
     "output_type": "execute_result"
    }
   ],
   "source": [
    "y = df_log2['in_app_purchase']\n",
    "X = df_log2[cols2]\n",
    "X = sm.add_constant(X)\n",
    "model = sm.Logit(y, X).fit()\n",
    "model.summary()"
   ]
  },
  {
   "cell_type": "code",
   "execution_count": 107,
   "metadata": {},
   "outputs": [],
   "source": [
    "cols3 = [ 'ClickOnWholeView',\n",
    " 'EnterFcMore',\n",
    " 'LibraryClicked',\n",
    " 'PlayNextParagraphFromBut',\n",
    " 'PlayPrevParagraph',\n",
    " 'StartBekids',\n",
    " 'StartListening',\n",
    " 'StartNStory',\n",
    " 'sv__GlossaryF',\n",
    " 'sv__Libraries',\n",
    " 'sv__NewPremiumAct',\n",
    " 'sv__OnBoardingTutorialView',\n",
    " 'sv__StoryDetails',\n",
    "]"
   ]
  },
  {
   "cell_type": "code",
   "execution_count": 108,
   "metadata": {
    "scrolled": true
   },
   "outputs": [
    {
     "name": "stdout",
     "output_type": "stream",
     "text": [
      "Optimization terminated successfully.\n",
      "         Current function value: 0.008373\n",
      "         Iterations 11\n"
     ]
    },
    {
     "data": {
      "text/html": [
       "<table class=\"simpletable\">\n",
       "<caption>Logit Regression Results</caption>\n",
       "<tr>\n",
       "  <th>Dep. Variable:</th>    <td>in_app_purchase</td> <th>  No. Observations:  </th>  <td> 64464</td>  \n",
       "</tr>\n",
       "<tr>\n",
       "  <th>Model:</th>                 <td>Logit</td>      <th>  Df Residuals:      </th>  <td> 64450</td>  \n",
       "</tr>\n",
       "<tr>\n",
       "  <th>Method:</th>                 <td>MLE</td>       <th>  Df Model:          </th>  <td>    13</td>  \n",
       "</tr>\n",
       "<tr>\n",
       "  <th>Date:</th>            <td>Fri, 11 Dec 2020</td> <th>  Pseudo R-squ.:     </th>  <td>0.2512</td>  \n",
       "</tr>\n",
       "<tr>\n",
       "  <th>Time:</th>                <td>21:53:48</td>     <th>  Log-Likelihood:    </th> <td> -539.78</td> \n",
       "</tr>\n",
       "<tr>\n",
       "  <th>converged:</th>             <td>True</td>       <th>  LL-Null:           </th> <td> -720.84</td> \n",
       "</tr>\n",
       "<tr>\n",
       "  <th>Covariance Type:</th>     <td>nonrobust</td>    <th>  LLR p-value:       </th> <td>2.172e-69</td>\n",
       "</tr>\n",
       "</table>\n",
       "<table class=\"simpletable\">\n",
       "<tr>\n",
       "               <td></td>                 <th>coef</th>     <th>std err</th>      <th>z</th>      <th>P>|z|</th>  <th>[0.025</th>    <th>0.975]</th>  \n",
       "</tr>\n",
       "<tr>\n",
       "  <th>const</th>                      <td>   -7.2158</td> <td>    0.138</td> <td>  -52.396</td> <td> 0.000</td> <td>   -7.486</td> <td>   -6.946</td>\n",
       "</tr>\n",
       "<tr>\n",
       "  <th>ClickOnWholeView</th>           <td>   -0.0935</td> <td>    0.023</td> <td>   -4.088</td> <td> 0.000</td> <td>   -0.138</td> <td>   -0.049</td>\n",
       "</tr>\n",
       "<tr>\n",
       "  <th>EnterFcMore</th>                <td>    0.3843</td> <td>    0.195</td> <td>    1.971</td> <td> 0.049</td> <td>    0.002</td> <td>    0.767</td>\n",
       "</tr>\n",
       "<tr>\n",
       "  <th>LibraryClicked</th>             <td>    0.1502</td> <td>    0.026</td> <td>    5.719</td> <td> 0.000</td> <td>    0.099</td> <td>    0.202</td>\n",
       "</tr>\n",
       "<tr>\n",
       "  <th>PlayNextParagraphFromBut</th>   <td>    0.0277</td> <td>    0.006</td> <td>    4.826</td> <td> 0.000</td> <td>    0.016</td> <td>    0.039</td>\n",
       "</tr>\n",
       "<tr>\n",
       "  <th>PlayPrevParagraph</th>          <td>   -0.0101</td> <td>    0.327</td> <td>   -0.031</td> <td> 0.975</td> <td>   -0.651</td> <td>    0.631</td>\n",
       "</tr>\n",
       "<tr>\n",
       "  <th>StartBekids</th>                <td>   -0.1364</td> <td>    0.043</td> <td>   -3.200</td> <td> 0.001</td> <td>   -0.220</td> <td>   -0.053</td>\n",
       "</tr>\n",
       "<tr>\n",
       "  <th>StartListening</th>             <td>    0.1241</td> <td>    0.029</td> <td>    4.291</td> <td> 0.000</td> <td>    0.067</td> <td>    0.181</td>\n",
       "</tr>\n",
       "<tr>\n",
       "  <th>StartNStory</th>                <td>   -0.0733</td> <td>    0.021</td> <td>   -3.434</td> <td> 0.001</td> <td>   -0.115</td> <td>   -0.031</td>\n",
       "</tr>\n",
       "<tr>\n",
       "  <th>sv__GlossaryF</th>              <td>   -0.3767</td> <td>    0.097</td> <td>   -3.888</td> <td> 0.000</td> <td>   -0.567</td> <td>   -0.187</td>\n",
       "</tr>\n",
       "<tr>\n",
       "  <th>sv__Libraries</th>              <td>    0.0048</td> <td>    0.002</td> <td>    3.067</td> <td> 0.002</td> <td>    0.002</td> <td>    0.008</td>\n",
       "</tr>\n",
       "<tr>\n",
       "  <th>sv__NewPremiumAct</th>          <td>    0.0260</td> <td>    0.009</td> <td>    2.907</td> <td> 0.004</td> <td>    0.008</td> <td>    0.044</td>\n",
       "</tr>\n",
       "<tr>\n",
       "  <th>sv__OnBoardingTutorialView</th> <td>   -0.0893</td> <td>    0.205</td> <td>   -0.435</td> <td> 0.664</td> <td>   -0.492</td> <td>    0.313</td>\n",
       "</tr>\n",
       "<tr>\n",
       "  <th>sv__StoryDetails</th>           <td>    0.0413</td> <td>    0.015</td> <td>    2.673</td> <td> 0.008</td> <td>    0.011</td> <td>    0.072</td>\n",
       "</tr>\n",
       "</table>"
      ],
      "text/plain": [
       "<class 'statsmodels.iolib.summary.Summary'>\n",
       "\"\"\"\n",
       "                           Logit Regression Results                           \n",
       "==============================================================================\n",
       "Dep. Variable:        in_app_purchase   No. Observations:                64464\n",
       "Model:                          Logit   Df Residuals:                    64450\n",
       "Method:                           MLE   Df Model:                           13\n",
       "Date:                Fri, 11 Dec 2020   Pseudo R-squ.:                  0.2512\n",
       "Time:                        21:53:48   Log-Likelihood:                -539.78\n",
       "converged:                       True   LL-Null:                       -720.84\n",
       "Covariance Type:            nonrobust   LLR p-value:                 2.172e-69\n",
       "==============================================================================================\n",
       "                                 coef    std err          z      P>|z|      [0.025      0.975]\n",
       "----------------------------------------------------------------------------------------------\n",
       "const                         -7.2158      0.138    -52.396      0.000      -7.486      -6.946\n",
       "ClickOnWholeView              -0.0935      0.023     -4.088      0.000      -0.138      -0.049\n",
       "EnterFcMore                    0.3843      0.195      1.971      0.049       0.002       0.767\n",
       "LibraryClicked                 0.1502      0.026      5.719      0.000       0.099       0.202\n",
       "PlayNextParagraphFromBut       0.0277      0.006      4.826      0.000       0.016       0.039\n",
       "PlayPrevParagraph             -0.0101      0.327     -0.031      0.975      -0.651       0.631\n",
       "StartBekids                   -0.1364      0.043     -3.200      0.001      -0.220      -0.053\n",
       "StartListening                 0.1241      0.029      4.291      0.000       0.067       0.181\n",
       "StartNStory                   -0.0733      0.021     -3.434      0.001      -0.115      -0.031\n",
       "sv__GlossaryF                 -0.3767      0.097     -3.888      0.000      -0.567      -0.187\n",
       "sv__Libraries                  0.0048      0.002      3.067      0.002       0.002       0.008\n",
       "sv__NewPremiumAct              0.0260      0.009      2.907      0.004       0.008       0.044\n",
       "sv__OnBoardingTutorialView    -0.0893      0.205     -0.435      0.664      -0.492       0.313\n",
       "sv__StoryDetails               0.0413      0.015      2.673      0.008       0.011       0.072\n",
       "==============================================================================================\n",
       "\"\"\""
      ]
     },
     "execution_count": 108,
     "metadata": {},
     "output_type": "execute_result"
    }
   ],
   "source": [
    "y = df_log2['in_app_purchase']\n",
    "X = df_log2[cols3]\n",
    "X = sm.add_constant(X)\n",
    "model = sm.Logit(y, X).fit()\n",
    "model.summary()"
   ]
  },
  {
   "cell_type": "code",
   "execution_count": 110,
   "metadata": {},
   "outputs": [],
   "source": [
    "df2.to_csv('30days30minutes.csv')"
   ]
  },
  {
   "cell_type": "code",
   "execution_count": 111,
   "metadata": {},
   "outputs": [],
   "source": [
    "df.to_csv('allevents.csv')"
   ]
  }
 ],
 "metadata": {
  "kernelspec": {
   "display_name": "Python 3",
   "language": "python",
   "name": "python3"
  },
  "language_info": {
   "codemirror_mode": {
    "name": "ipython",
    "version": 3
   },
   "file_extension": ".py",
   "mimetype": "text/x-python",
   "name": "python",
   "nbconvert_exporter": "python",
   "pygments_lexer": "ipython3",
   "version": "3.8.5"
  }
 },
 "nbformat": 4,
 "nbformat_minor": 4
}

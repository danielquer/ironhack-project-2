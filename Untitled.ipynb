{
 "cells": [
  {
   "cell_type": "code",
   "execution_count": 1,
   "metadata": {},
   "outputs": [],
   "source": [
    "import pandas as pd\n",
    "import pandas_gbq\n",
    "import numpy as np\n",
    "import seaborn as sns\n",
    "import statsmodels.api as sm\n",
    "import warnings\n",
    "warnings.filterwarnings('ignore')\n",
    "import matplotlib.pyplot as plt\n",
    "import re"
   ]
  },
  {
   "cell_type": "code",
   "execution_count": 2,
   "metadata": {},
   "outputs": [],
   "source": [
    "query3=\"\"\"with initial_dataset as (\n",
    "  select\n",
    "    event_name,\n",
    "    optional_label,\n",
    "    event_timestamp,\n",
    "    event_date,\n",
    "    user_id,\n",
    "    user_pseudo_id,\n",
    "    ga_session_id,\n",
    "    user_history_event_number,\n",
    "    session_event_number,\n",
    "    platform,\n",
    "    device_language,\n",
    "    country\n",
    "  from\n",
    "    analytics_151430920.firebase_facts_events as eve\n",
    "  where\n",
    "    eve.event_timestamp >= '2020-11-01'\n",
    "  and\n",
    "    eve.event_name in ('sv__OnBoardingTutorialVie','sv__OnBoardingTutorialVi','sv__WelcomeCarouselDialog','sv__NewPremiumAct','TryToBuyNewPAct','TryToBuyNewPF','ClickOnWholeView','StartListening','sv__StoryDetails','StartNStory','StartBekids','FabClickedPremium','PremiumBarClickedSD','PremiumBarClickedMain','sv__AAPageA','sv__ProPageA','sv_GoldPageA','sv__AAPageF','sv__ProPageF','sv__GoldPageF','EnterFcMore','sv__GlossaryF','LibraryClicked','sv__Libraries','PlayPrevParagraph','PlayNextParagraphFromBut','sv__OnBoardingTutorialVie','in_app_purchase','PurchaseNormal')\n",
    "),\n",
    "\n",
    "onboarding as (\n",
    "  select distinct\n",
    "    'onboarding' as event_name,\n",
    "    first_value(event_timestamp) over (partition by user_pseudo_id order by event_timestamp) as onboarding_timestamp,\n",
    "    first_value(event_date) over (partition by user_pseudo_id order by event_timestamp) as onboarding_date,\n",
    "    first_value(optional_label) over (partition by user_pseudo_id order by event_timestamp) as optional_label,\n",
    "    last_value(user_id) over (partition by user_pseudo_id order by event_timestamp) as user_id,\n",
    "    user_pseudo_id,\n",
    "    first_value(ga_session_id) over (partition by user_pseudo_id order by event_timestamp) as ga_session_id,\n",
    "    first_value(user_history_event_number) over (partition by user_pseudo_id order by event_timestamp) as user_history_event_number,\n",
    "    first_value(session_event_number) over (partition by user_pseudo_id order by event_timestamp) as session_event_number,\n",
    "    first_value(platform) over (partition by user_pseudo_id order by event_timestamp) as platform,\n",
    "    first_value(device_language) over (partition by user_pseudo_id order by event_timestamp) as device_language,\n",
    "    first_value(country) over (partition by user_pseudo_id order by event_timestamp) as country\n",
    "  from\n",
    "    initial_dataset\n",
    "  where\n",
    "    event_name in ('sv__OnBoardingTutorialVi','sv__OnBoardingTutorialVie')\n",
    "),\n",
    "\n",
    "purchases as (\n",
    "  select distinct\n",
    "    'in_app_purchase' as event_name,\n",
    "    first_value(event_timestamp) over (partition by user_pseudo_id order by event_timestamp) as first_purchase_timestamp,\n",
    "    first_value(event_date) over (partition by user_pseudo_id order by event_timestamp) as first_purchase_date,\n",
    "    first_value(optional_label) over (partition by user_pseudo_id order by event_timestamp) as optional_label,\n",
    "    last_value(user_id) over (partition by user_pseudo_id order by event_timestamp) as user_id,\n",
    "    user_pseudo_id,\n",
    "    first_value(ga_session_id) over (partition by user_pseudo_id order by event_timestamp) as ga_session_id,\n",
    "    first_value(user_history_event_number) over (partition by user_pseudo_id order by event_timestamp) as user_history_event_number,\n",
    "    first_value(session_event_number) over (partition by user_pseudo_id order by event_timestamp) as session_event_number,\n",
    "    first_value(platform) over (partition by user_pseudo_id order by event_timestamp) as platform,\n",
    "    first_value(device_language) over (partition by user_pseudo_id order by event_timestamp) as device_language,\n",
    "    first_value(country) over (partition by user_pseudo_id order by event_timestamp) as country\n",
    "  from\n",
    "    initial_dataset\n",
    "  where\n",
    "    event_name in ('in_app_purchase','PurchaseNormal')\n",
    "),\n",
    "\n",
    "relevant_events as (\n",
    "  select\n",
    "    ini.event_name,\n",
    "    ini.event_timestamp,\n",
    "    ini.event_date,\n",
    "    ini.optional_label,\n",
    "    ini.user_id,\n",
    "    ini.user_pseudo_id,\n",
    "    ini.ga_session_id,\n",
    "    ini.user_history_event_number,\n",
    "    ini.session_event_number,\n",
    "    ini.platform,\n",
    "    ini.device_language,\n",
    "    ini.country\n",
    "  from\n",
    "    initial_dataset as ini\n",
    "  left join\n",
    "    purchases as pur on pur.user_pseudo_id = ini.user_pseudo_id\n",
    "  left join\n",
    "    onboarding as onb on onb.user_pseudo_id = ini.user_pseudo_id\n",
    "  where\n",
    "    ini.event_name not in ('in_app_purchase','PurchaseNormal','sv__OnBoardingTutorialVi','sv__OnBoardingTutorialVie')\n",
    "  and\n",
    "    ini.event_timestamp between onb.onboarding_timestamp and timestamp_add(onb.onboarding_timestamp, interval 7 day)\n",
    "  union all\n",
    "  select\n",
    "    rep.event_name,\n",
    "    rep.first_purchase_timestamp as event_timestamp,\n",
    "    rep.first_purchase_date as event_date,\n",
    "    rep.optional_label,\n",
    "    rep.user_id,\n",
    "    rep.user_pseudo_id,\n",
    "    rep.ga_session_id,\n",
    "    rep.user_history_event_number,\n",
    "    rep.session_event_number,\n",
    "    rep.platform,\n",
    "    rep.device_language,\n",
    "    rep.country\n",
    "  from\n",
    "    purchases as rep\n",
    "  left join\n",
    "    onboarding as onb on onb.user_pseudo_id = rep.user_pseudo_id\n",
    "  where\n",
    "    rep.first_purchase_timestamp between onb.onboarding_timestamp and timestamp_add(onb.onboarding_timestamp, interval 7 day)\n",
    ")\n",
    "\n",
    "select\n",
    "  user_pseudo_id,\n",
    "  event_name,\n",
    "  count(event_timestamp) as occurrences_count,\n",
    "  min(event_timestamp) as first_event_timestamp,\n",
    "  max(event_timestamp) as last_event_timestamp\n",
    "from\n",
    "  relevant_events\n",
    "group by 1,2;\"\"\" \n",
    "\n",
    "df3 = pandas_gbq.read_gbq(query3, project_id= 'beelinguapp')"
   ]
  },
  {
   "cell_type": "code",
   "execution_count": 5,
   "metadata": {},
   "outputs": [
    {
     "data": {
      "text/plain": [
       "sv__Libraries                108377\n",
       "ClickOnWholeView              70833\n",
       "sv__WelcomeCarouselDialog     64239\n",
       "StartListening                62245\n",
       "sv__StoryDetails              56846\n",
       "StartNStory                   55447\n",
       "LibraryClicked                24589\n",
       "sv__NewPremiumAct             17012\n",
       "sv__AAPageA                    9739\n",
       "PremiumBarClickedMain          9543\n",
       "sv__ProPageA                   7186\n",
       "sv__AAPageF                    6303\n",
       "StartBekids                    6277\n",
       "PlayNextParagraphFromBut       6260\n",
       "sv__GlossaryF                  5600\n",
       "sv__ProPageF                   4873\n",
       "PremiumBarClickedSD            4366\n",
       "FabClickedPremium              2516\n",
       "EnterFcMore                    2324\n",
       "TryToBuyNewPAct                2044\n",
       "sv__GoldPageF                  1948\n",
       "in_app_purchase                 896\n",
       "TryToBuyNewPF                   711\n",
       "PlayPrevParagraph               186\n",
       "Name: event_name, dtype: int64"
      ]
     },
     "execution_count": 5,
     "metadata": {},
     "output_type": "execute_result"
    }
   ],
   "source": [
    "df3.event_name.value_counts()"
   ]
  },
  {
   "cell_type": "code",
   "execution_count": 6,
   "metadata": {},
   "outputs": [],
   "source": [
    "df3['platform'] = df3['user_pseudo_id'].apply(lambda x: 'Android' if re.findall('[a-z]',x) else 'IOS')"
   ]
  },
  {
   "cell_type": "code",
   "execution_count": 7,
   "metadata": {},
   "outputs": [
    {
     "data": {
      "image/png": "[encoded data removed]",
      "text/plain": [
       "<Figure size 432x288 with 1 Axes>"
      ]
     },
     "metadata": {},
     "output_type": "display_data"
    }
   ],
   "source": [
    "sns.set_theme(style=\"darkgrid\")\n",
    "sns.countplot(x='platform',data=df3[df3.event_name=='in_app_purchase'])\n",
    "plt.title('Subscriptions based on OS')\n",
    "plt.show()\n",
    "# indicate in_app_purchases based on different OS"
   ]
  },
  {
   "cell_type": "code",
   "execution_count": 9,
   "metadata": {},
   "outputs": [],
   "source": [
    "df_log = df3.pivot_table(index=[\"user_pseudo_id\"],columns=[\"event_name\"],fill_value=0)\n",
    "# getting the events_occurences aggregated in user_pseudo_level"
   ]
  },
  {
   "cell_type": "code",
   "execution_count": 10,
   "metadata": {},
   "outputs": [],
   "source": [
    "df_log.columns = df_log.columns.droplevel()\n",
    "# flattening the columns\n",
    "\n",
    "df_log.reset_index(inplace=True)\n",
    "# converting user_pseudo_id as a column\n",
    "\n",
    "df_log['platform'] = df_log['user_pseudo_id'].apply(lambda x: 'Android' if re.findall('[a-z]',x) else 'IOS')\n",
    "#adding platforms to df_log"
   ]
  },
  {
   "cell_type": "code",
   "execution_count": 11,
   "metadata": {
    "scrolled": true
   },
   "outputs": [
    {
     "data": {
      "text/plain": [
       "0    123000\n",
       "1       871\n",
       "2        25\n",
       "Name: in_app_purchase, dtype: int64"
      ]
     },
     "execution_count": 11,
     "metadata": {},
     "output_type": "execute_result"
    }
   ],
   "source": [
    "df_log['in_app_purchase'].value_counts()\n",
    "#there are 2 event occurences in_app_purchases"
   ]
  },
  {
   "cell_type": "code",
   "execution_count": 12,
   "metadata": {},
   "outputs": [
    {
     "data": {
      "text/plain": [
       "2       cef9669108b7a0a7fa0cf1a7dfff690e\n",
       "615     e9aaf33848e3975412faa35cb045402f\n",
       "813     5eb513e3c4e756fb92f60eac010ca06b\n",
       "1231    79f1cffaac45038fbbf89b916dc23a33\n",
       "1835    bb8ed38469fd54dbe18b53791ba32252\n",
       "2214    49c52b3bbecb4ef9175334d49521305d\n",
       "3838    676ea6dab4ecccbc13601b0249ab7eaf\n",
       "4058    1b2f1c44887e098e548c96ad238b681f\n",
       "4819    9a0068bc1c4334fa89a662d19e94fefa\n",
       "4820    c640ee57c85c02c4558acb2a7e3d808f\n",
       "5218    f40a7ea0dd2047a31ef9a8fa853c6495\n",
       "5626    302b79e4b11838bf31158e93470d0d99\n",
       "6044    44c020e61ac7f3b03eb47ecfb455d2d1\n",
       "6276    acac635466bba294060d6e5743bbb219\n",
       "6473    f768bb55076b14d51a52b709ff09a839\n",
       "7099    eb6d2033f9ba8f385008d6468bd38376\n",
       "7303    ecf081dd7776bc0a2df3cee5a37c7e8e\n",
       "7725    5ac14e26eb62ec5228eeecc78c7dcae2\n",
       "7928    5d82a65f4bcbe4ffdda679c5e2d73066\n",
       "8559    0ea1c66a9d89f8f654e5ecea7a852d67\n",
       "8564    65558773e5bc64125958f1f063f065b0\n",
       "8789    162f774dd2dcb9c5ab35d449cc31cebe\n",
       "8999    6cdb3961c2103798c8291ef59748a750\n",
       "9190    2d3cea5fc4362e7b6fd26b43d93bc284\n",
       "9608    69901a29837744b740b5650fdb1bb63e\n",
       "Name: user_pseudo_id, dtype: object"
      ]
     },
     "execution_count": 12,
     "metadata": {},
     "output_type": "execute_result"
    }
   ],
   "source": [
    "df3[(df3.event_name=='in_app_purchase') & (df3.occurrences_count > 1)]['user_pseudo_id']\n",
    "#users who purchased more than 1"
   ]
  },
  {
   "cell_type": "code",
   "execution_count": 13,
   "metadata": {},
   "outputs": [],
   "source": [
    "df_log['in_app_purchase'] = np.where(df_log['in_app_purchase']>0,1,0)\n",
    "#converting in_app_purchase as binary"
   ]
  },
  {
   "cell_type": "code",
   "execution_count": 14,
   "metadata": {},
   "outputs": [
    {
     "data": {
      "text/plain": [
       "0    123000\n",
       "1       896\n",
       "Name: in_app_purchase, dtype: int64"
      ]
     },
     "execution_count": 14,
     "metadata": {},
     "output_type": "execute_result"
    }
   ],
   "source": [
    "df_log['in_app_purchase'].value_counts()\n",
    "#checking the value counts again"
   ]
  },
  {
   "cell_type": "code",
   "execution_count": 15,
   "metadata": {},
   "outputs": [
    {
     "data": {
      "image/png": "[encoded data removed]",
      "text/plain": [
       "<Figure size 792x648 with 2 Axes>"
      ]
     },
     "metadata": {},
     "output_type": "display_data"
    }
   ],
   "source": [
    "corr = df_log.corr()\n",
    "f, ax = plt.subplots(figsize=(11, 9))\n",
    "mask = np.triu(np.ones_like(corr, dtype=bool)) # removing the other side of the heatmap\n",
    "cmap = sns.diverging_palette(230, 20, as_cmap=True)\n",
    "sns.heatmap(corr,mask=mask,cmap=cmap,linewidths=.5,square=True)\n",
    "plt.show()\n",
    "#there is no really correlated events with in_app_purchase"
   ]
  },
  {
   "cell_type": "code",
   "execution_count": 16,
   "metadata": {
    "scrolled": false
   },
   "outputs": [
    {
     "data": {
      "text/plain": [
       "<AxesSubplot:xlabel='sv__WelcomeCarouselDialog'>"
      ]
     },
     "execution_count": 16,
     "metadata": {},
     "output_type": "execute_result"
    },
    {
     "data": {
      "image/png": "[encoded data removed]",
      "text/plain": [
       "<Figure size 432x288 with 1 Axes>"
      ]
     },
     "metadata": {},
     "output_type": "display_data"
    }
   ],
   "source": [
    "sns.boxplot(df_log.sv__WelcomeCarouselDialog)b"
   ]
  },
  {
   "cell_type": "code",
   "execution_count": 26,
   "metadata": {},
   "outputs": [],
   "source": [
    "cols = ['ClickOnWholeView',\n",
    " 'EnterFcMore',\n",
    " 'FabClickedPremium',\n",
    " 'LibraryClicked',\n",
    " 'PlayNextParagraphFromBut',\n",
    " 'PlayPrevParagraph',\n",
    " 'PremiumBarClickedMain',\n",
    " 'PremiumBarClickedSD',\n",
    " 'StartBekids',\n",
    " 'StartListening',\n",
    " 'StartNStory',\n",
    " 'TryToBuyNewPAct',\n",
    " 'TryToBuyNewPF',\n",
    "'sv__AAPageA',\n",
    " 'sv__AAPageF',\n",
    " 'sv__GlossaryF',\n",
    " 'sv__GoldPageF',\n",
    " 'sv__Libraries',\n",
    " 'sv__NewPremiumAct',\n",
    " 'sv__ProPageA',\n",
    " 'sv__ProPageF',\n",
    " 'sv__StoryDetails',\n",
    " 'sv__WelcomeCarouselDialog']"
   ]
  },
  {
   "cell_type": "code",
   "execution_count": 27,
   "metadata": {
    "scrolled": false
   },
   "outputs": [
    {
     "name": "stdout",
     "output_type": "stream",
     "text": [
      "Optimization terminated successfully.\n",
      "         Current function value: 0.033275\n",
      "         Iterations 10\n"
     ]
    },
    {
     "data": {
      "text/html": [
       "<table class=\"simpletable\">\n",
       "<caption>Logit Regression Results</caption>\n",
       "<tr>\n",
       "  <th>Dep. Variable:</th>    <td>in_app_purchase</td> <th>  No. Observations:  </th>  <td>123896</td> \n",
       "</tr>\n",
       "<tr>\n",
       "  <th>Model:</th>                 <td>Logit</td>      <th>  Df Residuals:      </th>  <td>123872</td> \n",
       "</tr>\n",
       "<tr>\n",
       "  <th>Method:</th>                 <td>MLE</td>       <th>  Df Model:          </th>  <td>    23</td> \n",
       "</tr>\n",
       "<tr>\n",
       "  <th>Date:</th>            <td>Sat, 12 Dec 2020</td> <th>  Pseudo R-squ.:     </th>  <td>0.2235</td> \n",
       "</tr>\n",
       "<tr>\n",
       "  <th>Time:</th>                <td>11:17:04</td>     <th>  Log-Likelihood:    </th> <td> -4122.6</td>\n",
       "</tr>\n",
       "<tr>\n",
       "  <th>converged:</th>             <td>True</td>       <th>  LL-Null:           </th> <td> -5309.4</td>\n",
       "</tr>\n",
       "<tr>\n",
       "  <th>Covariance Type:</th>     <td>nonrobust</td>    <th>  LLR p-value:       </th>  <td> 0.000</td> \n",
       "</tr>\n",
       "</table>\n",
       "<table class=\"simpletable\">\n",
       "<tr>\n",
       "              <td></td>                 <th>coef</th>     <th>std err</th>      <th>z</th>      <th>P>|z|</th>  <th>[0.025</th>    <th>0.975]</th>  \n",
       "</tr>\n",
       "<tr>\n",
       "  <th>const</th>                     <td>   -5.3671</td> <td>    0.051</td> <td> -105.882</td> <td> 0.000</td> <td>   -5.466</td> <td>   -5.268</td>\n",
       "</tr>\n",
       "<tr>\n",
       "  <th>ClickOnWholeView</th>          <td>    0.0140</td> <td>    0.009</td> <td>    1.580</td> <td> 0.114</td> <td>   -0.003</td> <td>    0.031</td>\n",
       "</tr>\n",
       "<tr>\n",
       "  <th>EnterFcMore</th>               <td>    0.2771</td> <td>    0.061</td> <td>    4.564</td> <td> 0.000</td> <td>    0.158</td> <td>    0.396</td>\n",
       "</tr>\n",
       "<tr>\n",
       "  <th>FabClickedPremium</th>         <td>    0.8258</td> <td>    0.118</td> <td>    7.010</td> <td> 0.000</td> <td>    0.595</td> <td>    1.057</td>\n",
       "</tr>\n",
       "<tr>\n",
       "  <th>LibraryClicked</th>            <td>    0.0441</td> <td>    0.015</td> <td>    2.901</td> <td> 0.004</td> <td>    0.014</td> <td>    0.074</td>\n",
       "</tr>\n",
       "<tr>\n",
       "  <th>PlayNextParagraphFromBut</th>  <td>    0.0270</td> <td>    0.004</td> <td>    7.225</td> <td> 0.000</td> <td>    0.020</td> <td>    0.034</td>\n",
       "</tr>\n",
       "<tr>\n",
       "  <th>PlayPrevParagraph</th>         <td>   -1.4274</td> <td>    0.558</td> <td>   -2.558</td> <td> 0.011</td> <td>   -2.521</td> <td>   -0.334</td>\n",
       "</tr>\n",
       "<tr>\n",
       "  <th>PremiumBarClickedMain</th>     <td>    0.0018</td> <td>    0.082</td> <td>    0.022</td> <td> 0.983</td> <td>   -0.159</td> <td>    0.163</td>\n",
       "</tr>\n",
       "<tr>\n",
       "  <th>PremiumBarClickedSD</th>       <td>    0.1882</td> <td>    0.118</td> <td>    1.591</td> <td> 0.112</td> <td>   -0.044</td> <td>    0.420</td>\n",
       "</tr>\n",
       "<tr>\n",
       "  <th>StartBekids</th>               <td>   -0.2358</td> <td>    0.030</td> <td>   -7.845</td> <td> 0.000</td> <td>   -0.295</td> <td>   -0.177</td>\n",
       "</tr>\n",
       "<tr>\n",
       "  <th>StartListening</th>            <td>    0.3523</td> <td>    0.019</td> <td>   18.480</td> <td> 0.000</td> <td>    0.315</td> <td>    0.390</td>\n",
       "</tr>\n",
       "<tr>\n",
       "  <th>StartNStory</th>               <td>   -0.1203</td> <td>    0.017</td> <td>   -7.231</td> <td> 0.000</td> <td>   -0.153</td> <td>   -0.088</td>\n",
       "</tr>\n",
       "<tr>\n",
       "  <th>TryToBuyNewPAct</th>           <td>    1.5026</td> <td>    0.087</td> <td>   17.371</td> <td> 0.000</td> <td>    1.333</td> <td>    1.672</td>\n",
       "</tr>\n",
       "<tr>\n",
       "  <th>TryToBuyNewPF</th>             <td>    0.0181</td> <td>    0.029</td> <td>    0.620</td> <td> 0.535</td> <td>   -0.039</td> <td>    0.075</td>\n",
       "</tr>\n",
       "<tr>\n",
       "  <th>sv__AAPageA</th>               <td>    0.3973</td> <td>    0.051</td> <td>    7.761</td> <td> 0.000</td> <td>    0.297</td> <td>    0.498</td>\n",
       "</tr>\n",
       "<tr>\n",
       "  <th>sv__AAPageF</th>               <td>   -0.2263</td> <td>    0.133</td> <td>   -1.705</td> <td> 0.088</td> <td>   -0.487</td> <td>    0.034</td>\n",
       "</tr>\n",
       "<tr>\n",
       "  <th>sv__GlossaryF</th>             <td>    0.0686</td> <td>    0.052</td> <td>    1.314</td> <td> 0.189</td> <td>   -0.034</td> <td>    0.171</td>\n",
       "</tr>\n",
       "<tr>\n",
       "  <th>sv__GoldPageF</th>             <td>    0.6985</td> <td>    0.152</td> <td>    4.604</td> <td> 0.000</td> <td>    0.401</td> <td>    0.996</td>\n",
       "</tr>\n",
       "<tr>\n",
       "  <th>sv__Libraries</th>             <td>    0.0026</td> <td>    0.005</td> <td>    0.488</td> <td> 0.625</td> <td>   -0.008</td> <td>    0.013</td>\n",
       "</tr>\n",
       "<tr>\n",
       "  <th>sv__NewPremiumAct</th>         <td>   -0.6335</td> <td>    0.078</td> <td>   -8.136</td> <td> 0.000</td> <td>   -0.786</td> <td>   -0.481</td>\n",
       "</tr>\n",
       "<tr>\n",
       "  <th>sv__ProPageA</th>              <td>   -0.3430</td> <td>    0.076</td> <td>   -4.534</td> <td> 0.000</td> <td>   -0.491</td> <td>   -0.195</td>\n",
       "</tr>\n",
       "<tr>\n",
       "  <th>sv__ProPageF</th>              <td>    0.1586</td> <td>    0.093</td> <td>    1.698</td> <td> 0.090</td> <td>   -0.025</td> <td>    0.342</td>\n",
       "</tr>\n",
       "<tr>\n",
       "  <th>sv__StoryDetails</th>          <td>   -0.0982</td> <td>    0.006</td> <td>  -15.842</td> <td> 0.000</td> <td>   -0.110</td> <td>   -0.086</td>\n",
       "</tr>\n",
       "<tr>\n",
       "  <th>sv__WelcomeCarouselDialog</th> <td>   -0.2745</td> <td>    0.059</td> <td>   -4.684</td> <td> 0.000</td> <td>   -0.389</td> <td>   -0.160</td>\n",
       "</tr>\n",
       "</table>"
      ],
      "text/plain": [
       "<class 'statsmodels.iolib.summary.Summary'>\n",
       "\"\"\"\n",
       "                           Logit Regression Results                           \n",
       "==============================================================================\n",
       "Dep. Variable:        in_app_purchase   No. Observations:               123896\n",
       "Model:                          Logit   Df Residuals:                   123872\n",
       "Method:                           MLE   Df Model:                           23\n",
       "Date:                Sat, 12 Dec 2020   Pseudo R-squ.:                  0.2235\n",
       "Time:                        11:17:04   Log-Likelihood:                -4122.6\n",
       "converged:                       True   LL-Null:                       -5309.4\n",
       "Covariance Type:            nonrobust   LLR p-value:                     0.000\n",
       "=============================================================================================\n",
       "                                coef    std err          z      P>|z|      [0.025      0.975]\n",
       "---------------------------------------------------------------------------------------------\n",
       "const                        -5.3671      0.051   -105.882      0.000      -5.466      -5.268\n",
       "ClickOnWholeView              0.0140      0.009      1.580      0.114      -0.003       0.031\n",
       "EnterFcMore                   0.2771      0.061      4.564      0.000       0.158       0.396\n",
       "FabClickedPremium             0.8258      0.118      7.010      0.000       0.595       1.057\n",
       "LibraryClicked                0.0441      0.015      2.901      0.004       0.014       0.074\n",
       "PlayNextParagraphFromBut      0.0270      0.004      7.225      0.000       0.020       0.034\n",
       "PlayPrevParagraph            -1.4274      0.558     -2.558      0.011      -2.521      -0.334\n",
       "PremiumBarClickedMain         0.0018      0.082      0.022      0.983      -0.159       0.163\n",
       "PremiumBarClickedSD           0.1882      0.118      1.591      0.112      -0.044       0.420\n",
       "StartBekids                  -0.2358      0.030     -7.845      0.000      -0.295      -0.177\n",
       "StartListening                0.3523      0.019     18.480      0.000       0.315       0.390\n",
       "StartNStory                  -0.1203      0.017     -7.231      0.000      -0.153      -0.088\n",
       "TryToBuyNewPAct               1.5026      0.087     17.371      0.000       1.333       1.672\n",
       "TryToBuyNewPF                 0.0181      0.029      0.620      0.535      -0.039       0.075\n",
       "sv__AAPageA                   0.3973      0.051      7.761      0.000       0.297       0.498\n",
       "sv__AAPageF                  -0.2263      0.133     -1.705      0.088      -0.487       0.034\n",
       "sv__GlossaryF                 0.0686      0.052      1.314      0.189      -0.034       0.171\n",
       "sv__GoldPageF                 0.6985      0.152      4.604      0.000       0.401       0.996\n",
       "sv__Libraries                 0.0026      0.005      0.488      0.625      -0.008       0.013\n",
       "sv__NewPremiumAct            -0.6335      0.078     -8.136      0.000      -0.786      -0.481\n",
       "sv__ProPageA                 -0.3430      0.076     -4.534      0.000      -0.491      -0.195\n",
       "sv__ProPageF                  0.1586      0.093      1.698      0.090      -0.025       0.342\n",
       "sv__StoryDetails             -0.0982      0.006    -15.842      0.000      -0.110      -0.086\n",
       "sv__WelcomeCarouselDialog    -0.2745      0.059     -4.684      0.000      -0.389      -0.160\n",
       "=============================================================================================\n",
       "\"\"\""
      ]
     },
     "execution_count": 27,
     "metadata": {},
     "output_type": "execute_result"
    }
   ],
   "source": [
    "y = df_log['in_app_purchase']\n",
    "X = df_log[cols]\n",
    "X = sm.add_constant(X)\n",
    "model = sm.Logit(y, X).fit()\n",
    "model.summary()\n",
    "#logistic regression for both platforms"
   ]
  },
  {
   "cell_type": "code",
   "execution_count": null,
   "metadata": {},
   "outputs": [],
   "source": [
    "pd.get"
   ]
  },
  {
   "cell_type": "code",
   "execution_count": 20,
   "metadata": {},
   "outputs": [
    {
     "name": "stdout",
     "output_type": "stream",
     "text": [
      "Optimization terminated successfully.\n",
      "         Current function value: 0.022380\n",
      "         Iterations 10\n"
     ]
    },
    {
     "data": {
      "text/html": [
       "<table class=\"simpletable\">\n",
       "<caption>Logit Regression Results</caption>\n",
       "<tr>\n",
       "  <th>Dep. Variable:</th>    <td>in_app_purchase</td> <th>  No. Observations:  </th>  <td>108382</td> \n",
       "</tr>\n",
       "<tr>\n",
       "  <th>Model:</th>                 <td>Logit</td>      <th>  Df Residuals:      </th>  <td>108358</td> \n",
       "</tr>\n",
       "<tr>\n",
       "  <th>Method:</th>                 <td>MLE</td>       <th>  Df Model:          </th>  <td>    23</td> \n",
       "</tr>\n",
       "<tr>\n",
       "  <th>Date:</th>            <td>Sat, 12 Dec 2020</td> <th>  Pseudo R-squ.:     </th>  <td>0.2813</td> \n",
       "</tr>\n",
       "<tr>\n",
       "  <th>Time:</th>                <td>11:13:49</td>     <th>  Log-Likelihood:    </th> <td> -2425.6</td>\n",
       "</tr>\n",
       "<tr>\n",
       "  <th>converged:</th>             <td>True</td>       <th>  LL-Null:           </th> <td> -3375.1</td>\n",
       "</tr>\n",
       "<tr>\n",
       "  <th>Covariance Type:</th>     <td>nonrobust</td>    <th>  LLR p-value:       </th>  <td> 0.000</td> \n",
       "</tr>\n",
       "</table>\n",
       "<table class=\"simpletable\">\n",
       "<tr>\n",
       "              <td></td>                 <th>coef</th>     <th>std err</th>      <th>z</th>      <th>P>|z|</th>  <th>[0.025</th>    <th>0.975]</th>  \n",
       "</tr>\n",
       "<tr>\n",
       "  <th>const</th>                     <td>   -5.9834</td> <td>    0.069</td> <td>  -86.403</td> <td> 0.000</td> <td>   -6.119</td> <td>   -5.848</td>\n",
       "</tr>\n",
       "<tr>\n",
       "  <th>ClickOnWholeView</th>          <td>    0.0889</td> <td>    0.018</td> <td>    4.854</td> <td> 0.000</td> <td>    0.053</td> <td>    0.125</td>\n",
       "</tr>\n",
       "<tr>\n",
       "  <th>EnterFcMore</th>               <td>    0.3059</td> <td>    0.061</td> <td>    5.008</td> <td> 0.000</td> <td>    0.186</td> <td>    0.426</td>\n",
       "</tr>\n",
       "<tr>\n",
       "  <th>FabClickedPremium</th>         <td>    0.8763</td> <td>    0.118</td> <td>    7.443</td> <td> 0.000</td> <td>    0.646</td> <td>    1.107</td>\n",
       "</tr>\n",
       "<tr>\n",
       "  <th>LibraryClicked</th>            <td>    0.0527</td> <td>    0.015</td> <td>    3.498</td> <td> 0.000</td> <td>    0.023</td> <td>    0.082</td>\n",
       "</tr>\n",
       "<tr>\n",
       "  <th>PlayNextParagraphFromBut</th>  <td>    0.0261</td> <td>    0.004</td> <td>    6.386</td> <td> 0.000</td> <td>    0.018</td> <td>    0.034</td>\n",
       "</tr>\n",
       "<tr>\n",
       "  <th>PlayPrevParagraph</th>         <td>   -1.6270</td> <td>    0.577</td> <td>   -2.819</td> <td> 0.005</td> <td>   -2.758</td> <td>   -0.496</td>\n",
       "</tr>\n",
       "<tr>\n",
       "  <th>PremiumBarClickedMain</th>     <td>    0.0254</td> <td>    0.081</td> <td>    0.314</td> <td> 0.754</td> <td>   -0.133</td> <td>    0.184</td>\n",
       "</tr>\n",
       "<tr>\n",
       "  <th>PremiumBarClickedSD</th>       <td>    0.2325</td> <td>    0.119</td> <td>    1.954</td> <td> 0.051</td> <td>   -0.001</td> <td>    0.466</td>\n",
       "</tr>\n",
       "<tr>\n",
       "  <th>StartBekids</th>               <td>   -0.1928</td> <td>    0.034</td> <td>   -5.729</td> <td> 0.000</td> <td>   -0.259</td> <td>   -0.127</td>\n",
       "</tr>\n",
       "<tr>\n",
       "  <th>StartListening</th>            <td>    0.3863</td> <td>    0.026</td> <td>   14.875</td> <td> 0.000</td> <td>    0.335</td> <td>    0.437</td>\n",
       "</tr>\n",
       "<tr>\n",
       "  <th>StartNStory</th>               <td>   -0.1359</td> <td>    0.018</td> <td>   -7.634</td> <td> 0.000</td> <td>   -0.171</td> <td>   -0.101</td>\n",
       "</tr>\n",
       "<tr>\n",
       "  <th>TryToBuyNewPAct</th>           <td>    1.5263</td> <td>    0.091</td> <td>   16.730</td> <td> 0.000</td> <td>    1.347</td> <td>    1.705</td>\n",
       "</tr>\n",
       "<tr>\n",
       "  <th>TryToBuyNewPF</th>             <td>    0.0220</td> <td>    0.030</td> <td>    0.738</td> <td> 0.460</td> <td>   -0.036</td> <td>    0.080</td>\n",
       "</tr>\n",
       "<tr>\n",
       "  <th>sv__AAPageA</th>               <td>    0.4072</td> <td>    0.053</td> <td>    7.708</td> <td> 0.000</td> <td>    0.304</td> <td>    0.511</td>\n",
       "</tr>\n",
       "<tr>\n",
       "  <th>sv__AAPageF</th>               <td>   -0.3036</td> <td>    0.134</td> <td>   -2.259</td> <td> 0.024</td> <td>   -0.567</td> <td>   -0.040</td>\n",
       "</tr>\n",
       "<tr>\n",
       "  <th>sv__GlossaryF</th>             <td>    0.0928</td> <td>    0.053</td> <td>    1.767</td> <td> 0.077</td> <td>   -0.010</td> <td>    0.196</td>\n",
       "</tr>\n",
       "<tr>\n",
       "  <th>sv__GoldPageF</th>             <td>    0.8134</td> <td>    0.155</td> <td>    5.246</td> <td> 0.000</td> <td>    0.510</td> <td>    1.117</td>\n",
       "</tr>\n",
       "<tr>\n",
       "  <th>sv__Libraries</th>             <td>    0.0040</td> <td>    0.006</td> <td>    0.678</td> <td> 0.498</td> <td>   -0.008</td> <td>    0.016</td>\n",
       "</tr>\n",
       "<tr>\n",
       "  <th>sv__NewPremiumAct</th>         <td>   -0.6552</td> <td>    0.078</td> <td>   -8.388</td> <td> 0.000</td> <td>   -0.808</td> <td>   -0.502</td>\n",
       "</tr>\n",
       "<tr>\n",
       "  <th>sv__ProPageA</th>              <td>   -0.3440</td> <td>    0.080</td> <td>   -4.324</td> <td> 0.000</td> <td>   -0.500</td> <td>   -0.188</td>\n",
       "</tr>\n",
       "<tr>\n",
       "  <th>sv__ProPageF</th>              <td>    0.1835</td> <td>    0.092</td> <td>    2.001</td> <td> 0.045</td> <td>    0.004</td> <td>    0.363</td>\n",
       "</tr>\n",
       "<tr>\n",
       "  <th>sv__StoryDetails</th>          <td>   -0.1449</td> <td>    0.016</td> <td>   -9.180</td> <td> 0.000</td> <td>   -0.176</td> <td>   -0.114</td>\n",
       "</tr>\n",
       "<tr>\n",
       "  <th>sv__WelcomeCarouselDialog</th> <td>   -0.0093</td> <td>    0.052</td> <td>   -0.178</td> <td> 0.859</td> <td>   -0.112</td> <td>    0.093</td>\n",
       "</tr>\n",
       "</table>"
      ],
      "text/plain": [
       "<class 'statsmodels.iolib.summary.Summary'>\n",
       "\"\"\"\n",
       "                           Logit Regression Results                           \n",
       "==============================================================================\n",
       "Dep. Variable:        in_app_purchase   No. Observations:               108382\n",
       "Model:                          Logit   Df Residuals:                   108358\n",
       "Method:                           MLE   Df Model:                           23\n",
       "Date:                Sat, 12 Dec 2020   Pseudo R-squ.:                  0.2813\n",
       "Time:                        11:13:49   Log-Likelihood:                -2425.6\n",
       "converged:                       True   LL-Null:                       -3375.1\n",
       "Covariance Type:            nonrobust   LLR p-value:                     0.000\n",
       "=============================================================================================\n",
       "                                coef    std err          z      P>|z|      [0.025      0.975]\n",
       "---------------------------------------------------------------------------------------------\n",
       "const                        -5.9834      0.069    -86.403      0.000      -6.119      -5.848\n",
       "ClickOnWholeView              0.0889      0.018      4.854      0.000       0.053       0.125\n",
       "EnterFcMore                   0.3059      0.061      5.008      0.000       0.186       0.426\n",
       "FabClickedPremium             0.8763      0.118      7.443      0.000       0.646       1.107\n",
       "LibraryClicked                0.0527      0.015      3.498      0.000       0.023       0.082\n",
       "PlayNextParagraphFromBut      0.0261      0.004      6.386      0.000       0.018       0.034\n",
       "PlayPrevParagraph            -1.6270      0.577     -2.819      0.005      -2.758      -0.496\n",
       "PremiumBarClickedMain         0.0254      0.081      0.314      0.754      -0.133       0.184\n",
       "PremiumBarClickedSD           0.2325      0.119      1.954      0.051      -0.001       0.466\n",
       "StartBekids                  -0.1928      0.034     -5.729      0.000      -0.259      -0.127\n",
       "StartListening                0.3863      0.026     14.875      0.000       0.335       0.437\n",
       "StartNStory                  -0.1359      0.018     -7.634      0.000      -0.171      -0.101\n",
       "TryToBuyNewPAct               1.5263      0.091     16.730      0.000       1.347       1.705\n",
       "TryToBuyNewPF                 0.0220      0.030      0.738      0.460      -0.036       0.080\n",
       "sv__AAPageA                   0.4072      0.053      7.708      0.000       0.304       0.511\n",
       "sv__AAPageF                  -0.3036      0.134     -2.259      0.024      -0.567      -0.040\n",
       "sv__GlossaryF                 0.0928      0.053      1.767      0.077      -0.010       0.196\n",
       "sv__GoldPageF                 0.8134      0.155      5.246      0.000       0.510       1.117\n",
       "sv__Libraries                 0.0040      0.006      0.678      0.498      -0.008       0.016\n",
       "sv__NewPremiumAct            -0.6552      0.078     -8.388      0.000      -0.808      -0.502\n",
       "sv__ProPageA                 -0.3440      0.080     -4.324      0.000      -0.500      -0.188\n",
       "sv__ProPageF                  0.1835      0.092      2.001      0.045       0.004       0.363\n",
       "sv__StoryDetails             -0.1449      0.016     -9.180      0.000      -0.176      -0.114\n",
       "sv__WelcomeCarouselDialog    -0.0093      0.052     -0.178      0.859      -0.112       0.093\n",
       "=============================================================================================\n",
       "\"\"\""
      ]
     },
     "execution_count": 20,
     "metadata": {},
     "output_type": "execute_result"
    }
   ],
   "source": [
    "y = df_log[df_log.platform=='Android']['in_app_purchase']\n",
    "X = df_log[df_log.platform=='Android'][cols]\n",
    "X = sm.add_constant(X)\n",
    "model = sm.Logit(y, X).fit()\n",
    "model.summary()\n",
    "#logistic regression only for Android"
   ]
  },
  {
   "cell_type": "code",
   "execution_count": 23,
   "metadata": {},
   "outputs": [
    {
     "data": {
      "text/plain": [
       "0"
      ]
     },
     "execution_count": 23,
     "metadata": {},
     "output_type": "execute_result"
    }
   ],
   "source": [
    "df_log[df_log.platform==\"IOS\"][\"sv__WelcomeCarouselDialog\"].sum()"
   ]
  },
  {
   "cell_type": "code",
   "execution_count": null,
   "metadata": {},
   "outputs": [],
   "source": []
  }
 ],
 "metadata": {
  "kernelspec": {
   "display_name": "Python 3",
   "language": "python",
   "name": "python3"
  },
  "language_info": {
   "codemirror_mode": {
    "name": "ipython",
    "version": 3
   },
   "file_extension": ".py",
   "mimetype": "text/x-python",
   "name": "python",
   "nbconvert_exporter": "python",
   "pygments_lexer": "ipython3",
   "version": "3.8.5"
  }
 },
 "nbformat": 4,
 "nbformat_minor": 4
}

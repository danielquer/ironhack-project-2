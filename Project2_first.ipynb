{
 "cells": [
  {
   "cell_type": "code",
   "execution_count": 23,
   "metadata": {},
   "outputs": [
    {
     "name": "stderr",
     "output_type": "stream",
     "text": [
      "/Users/davidgonzalez/opt/anaconda3/envs/kitycat/lib/python3.8/site-packages/google/cloud/bigquery/table.py:1698: UserWarning: A progress bar was requested, but there was an error loading the tqdm library. Please install tqdm to use the progress bar functionality.\n",
      "  record_batch = self.to_arrow(\n"
     ]
    }
   ],
   "source": [
    "import pandas_gbq\n",
    "query= \"\"\"select\n",
    "  event_name,\n",
    "  optional_label,\n",
    "  event_timestamp,\n",
    "  event_date,\n",
    "  user_id,\n",
    "  user_pseudo_id,\n",
    "  ga_session_id,\n",
    "  user_history_event_number,\n",
    "  session_event_number,\n",
    "  platform,\n",
    "  device_language,\n",
    "  country\n",
    "from\n",
    "  analytics_151430920.firebase_facts_events as eve\n",
    "where\n",
    "  eve.event_date = '2020-11-27'\"\"\"\n",
    "df = pandas_gbq.read_gbq(query, project_id= 'beelinguapp')\n"
   ]
  },
  {
   "cell_type": "code",
   "execution_count": 40,
   "metadata": {},
   "outputs": [],
   "source": [
    "import pandas as pd"
   ]
  },
  {
   "cell_type": "code",
   "execution_count": 25,
   "metadata": {},
   "outputs": [
    {
     "data": {
      "text/plain": [
       "(930916, 12)"
      ]
     },
     "execution_count": 25,
     "metadata": {},
     "output_type": "execute_result"
    }
   ],
   "source": [
    "df.shape"
   ]
  },
  {
   "cell_type": "code",
   "execution_count": 26,
   "metadata": {},
   "outputs": [
    {
     "data": {
      "text/html": [
       "<div>\n",
       "<style scoped>\n",
       "    .dataframe tbody tr th:only-of-type {\n",
       "        vertical-align: middle;\n",
       "    }\n",
       "\n",
       "    .dataframe tbody tr th {\n",
       "        vertical-align: top;\n",
       "    }\n",
       "\n",
       "    .dataframe thead th {\n",
       "        text-align: right;\n",
       "    }\n",
       "</style>\n",
       "<table border=\"1\" class=\"dataframe\">\n",
       "  <thead>\n",
       "    <tr style=\"text-align: right;\">\n",
       "      <th></th>\n",
       "      <th>event_name</th>\n",
       "      <th>optional_label</th>\n",
       "      <th>event_timestamp</th>\n",
       "      <th>event_date</th>\n",
       "      <th>user_id</th>\n",
       "      <th>user_pseudo_id</th>\n",
       "      <th>ga_session_id</th>\n",
       "      <th>user_history_event_number</th>\n",
       "      <th>session_event_number</th>\n",
       "      <th>platform</th>\n",
       "      <th>device_language</th>\n",
       "      <th>country</th>\n",
       "    </tr>\n",
       "  </thead>\n",
       "  <tbody>\n",
       "    <tr>\n",
       "      <th>0</th>\n",
       "      <td>first_open</td>\n",
       "      <td>None</td>\n",
       "      <td>2020-11-27 23:24:19.541000+00:00</td>\n",
       "      <td>2020-11-27</td>\n",
       "      <td>None</td>\n",
       "      <td>a0f3b3e561063ad6fa6c00ced4640e2d</td>\n",
       "      <td>NaN</td>\n",
       "      <td>1</td>\n",
       "      <td>1</td>\n",
       "      <td>ANDROID</td>\n",
       "      <td>es-us</td>\n",
       "      <td>Peru</td>\n",
       "    </tr>\n",
       "    <tr>\n",
       "      <th>1</th>\n",
       "      <td>user_engagement</td>\n",
       "      <td>None</td>\n",
       "      <td>2020-11-27 23:32:18.253001+00:00</td>\n",
       "      <td>2020-11-27</td>\n",
       "      <td>None</td>\n",
       "      <td>739ec29c647633611cd0266f6ec10910</td>\n",
       "      <td>NaN</td>\n",
       "      <td>2</td>\n",
       "      <td>2</td>\n",
       "      <td>ANDROID</td>\n",
       "      <td>es-us</td>\n",
       "      <td>Uruguay</td>\n",
       "    </tr>\n",
       "    <tr>\n",
       "      <th>2</th>\n",
       "      <td>user_engagement</td>\n",
       "      <td>None</td>\n",
       "      <td>2020-11-27 23:19:33.104001+00:00</td>\n",
       "      <td>2020-11-27</td>\n",
       "      <td>None</td>\n",
       "      <td>98e2def6cf233bd40de111a804988bab</td>\n",
       "      <td>NaN</td>\n",
       "      <td>2</td>\n",
       "      <td>2</td>\n",
       "      <td>ANDROID</td>\n",
       "      <td>fr-fr</td>\n",
       "      <td>Algeria</td>\n",
       "    </tr>\n",
       "    <tr>\n",
       "      <th>3</th>\n",
       "      <td>first_open</td>\n",
       "      <td>None</td>\n",
       "      <td>2020-11-27 23:32:59.680000+00:00</td>\n",
       "      <td>2020-11-27</td>\n",
       "      <td>None</td>\n",
       "      <td>d1189933424c688ea2c5efd9547a8e9c</td>\n",
       "      <td>NaN</td>\n",
       "      <td>1</td>\n",
       "      <td>1</td>\n",
       "      <td>ANDROID</td>\n",
       "      <td>pt-br</td>\n",
       "      <td>Brazil</td>\n",
       "    </tr>\n",
       "    <tr>\n",
       "      <th>4</th>\n",
       "      <td>first_open</td>\n",
       "      <td>None</td>\n",
       "      <td>2020-11-27 23:47:39.416000+00:00</td>\n",
       "      <td>2020-11-27</td>\n",
       "      <td>None</td>\n",
       "      <td>0b8c439ed7408a2d20563d770e591859</td>\n",
       "      <td>NaN</td>\n",
       "      <td>1</td>\n",
       "      <td>1</td>\n",
       "      <td>ANDROID</td>\n",
       "      <td>es-es</td>\n",
       "      <td>Spain</td>\n",
       "    </tr>\n",
       "    <tr>\n",
       "      <th>...</th>\n",
       "      <td>...</td>\n",
       "      <td>...</td>\n",
       "      <td>...</td>\n",
       "      <td>...</td>\n",
       "      <td>...</td>\n",
       "      <td>...</td>\n",
       "      <td>...</td>\n",
       "      <td>...</td>\n",
       "      <td>...</td>\n",
       "      <td>...</td>\n",
       "      <td>...</td>\n",
       "      <td>...</td>\n",
       "    </tr>\n",
       "    <tr>\n",
       "      <th>95</th>\n",
       "      <td>user_engagement</td>\n",
       "      <td>None</td>\n",
       "      <td>2020-11-27 23:02:00.695004+00:00</td>\n",
       "      <td>2020-11-27</td>\n",
       "      <td>None</td>\n",
       "      <td>04547DED83274C088F9A02BEA49AA0BF</td>\n",
       "      <td>1.606518e+09</td>\n",
       "      <td>9</td>\n",
       "      <td>8</td>\n",
       "      <td>IOS</td>\n",
       "      <td>en-us</td>\n",
       "      <td>Jordan</td>\n",
       "    </tr>\n",
       "    <tr>\n",
       "      <th>96</th>\n",
       "      <td>NotificationsEnabled</td>\n",
       "      <td>None</td>\n",
       "      <td>2020-11-27 23:03:46.772000+00:00</td>\n",
       "      <td>2020-11-27</td>\n",
       "      <td>None</td>\n",
       "      <td>04547DED83274C088F9A02BEA49AA0BF</td>\n",
       "      <td>1.606518e+09</td>\n",
       "      <td>63</td>\n",
       "      <td>62</td>\n",
       "      <td>IOS</td>\n",
       "      <td>en-us</td>\n",
       "      <td>Jordan</td>\n",
       "    </tr>\n",
       "    <tr>\n",
       "      <th>97</th>\n",
       "      <td>screen_view</td>\n",
       "      <td>None</td>\n",
       "      <td>2020-11-27 23:03:23.570018+00:00</td>\n",
       "      <td>2020-11-27</td>\n",
       "      <td>None</td>\n",
       "      <td>04547DED83274C088F9A02BEA49AA0BF</td>\n",
       "      <td>1.606518e+09</td>\n",
       "      <td>47</td>\n",
       "      <td>46</td>\n",
       "      <td>IOS</td>\n",
       "      <td>en-us</td>\n",
       "      <td>Jordan</td>\n",
       "    </tr>\n",
       "    <tr>\n",
       "      <th>98</th>\n",
       "      <td>session_start</td>\n",
       "      <td>None</td>\n",
       "      <td>2020-11-27 23:01:53.843000+00:00</td>\n",
       "      <td>2020-11-27</td>\n",
       "      <td>None</td>\n",
       "      <td>04547DED83274C088F9A02BEA49AA0BF</td>\n",
       "      <td>1.606518e+09</td>\n",
       "      <td>2</td>\n",
       "      <td>1</td>\n",
       "      <td>IOS</td>\n",
       "      <td>en-us</td>\n",
       "      <td>Jordan</td>\n",
       "    </tr>\n",
       "    <tr>\n",
       "      <th>99</th>\n",
       "      <td>user_engagement</td>\n",
       "      <td>None</td>\n",
       "      <td>2020-11-27 23:02:47.212005+00:00</td>\n",
       "      <td>2020-11-27</td>\n",
       "      <td>None</td>\n",
       "      <td>04547DED83274C088F9A02BEA49AA0BF</td>\n",
       "      <td>1.606518e+09</td>\n",
       "      <td>34</td>\n",
       "      <td>33</td>\n",
       "      <td>IOS</td>\n",
       "      <td>en-us</td>\n",
       "      <td>Jordan</td>\n",
       "    </tr>\n",
       "  </tbody>\n",
       "</table>\n",
       "<p>100 rows × 12 columns</p>\n",
       "</div>"
      ],
      "text/plain": [
       "              event_name optional_label                  event_timestamp  \\\n",
       "0             first_open           None 2020-11-27 23:24:19.541000+00:00   \n",
       "1        user_engagement           None 2020-11-27 23:32:18.253001+00:00   \n",
       "2        user_engagement           None 2020-11-27 23:19:33.104001+00:00   \n",
       "3             first_open           None 2020-11-27 23:32:59.680000+00:00   \n",
       "4             first_open           None 2020-11-27 23:47:39.416000+00:00   \n",
       "..                   ...            ...                              ...   \n",
       "95       user_engagement           None 2020-11-27 23:02:00.695004+00:00   \n",
       "96  NotificationsEnabled           None 2020-11-27 23:03:46.772000+00:00   \n",
       "97           screen_view           None 2020-11-27 23:03:23.570018+00:00   \n",
       "98         session_start           None 2020-11-27 23:01:53.843000+00:00   \n",
       "99       user_engagement           None 2020-11-27 23:02:47.212005+00:00   \n",
       "\n",
       "   event_date user_id                    user_pseudo_id  ga_session_id  \\\n",
       "0  2020-11-27    None  a0f3b3e561063ad6fa6c00ced4640e2d            NaN   \n",
       "1  2020-11-27    None  739ec29c647633611cd0266f6ec10910            NaN   \n",
       "2  2020-11-27    None  98e2def6cf233bd40de111a804988bab            NaN   \n",
       "3  2020-11-27    None  d1189933424c688ea2c5efd9547a8e9c            NaN   \n",
       "4  2020-11-27    None  0b8c439ed7408a2d20563d770e591859            NaN   \n",
       "..        ...     ...                               ...            ...   \n",
       "95 2020-11-27    None  04547DED83274C088F9A02BEA49AA0BF   1.606518e+09   \n",
       "96 2020-11-27    None  04547DED83274C088F9A02BEA49AA0BF   1.606518e+09   \n",
       "97 2020-11-27    None  04547DED83274C088F9A02BEA49AA0BF   1.606518e+09   \n",
       "98 2020-11-27    None  04547DED83274C088F9A02BEA49AA0BF   1.606518e+09   \n",
       "99 2020-11-27    None  04547DED83274C088F9A02BEA49AA0BF   1.606518e+09   \n",
       "\n",
       "    user_history_event_number  session_event_number platform device_language  \\\n",
       "0                           1                     1  ANDROID           es-us   \n",
       "1                           2                     2  ANDROID           es-us   \n",
       "2                           2                     2  ANDROID           fr-fr   \n",
       "3                           1                     1  ANDROID           pt-br   \n",
       "4                           1                     1  ANDROID           es-es   \n",
       "..                        ...                   ...      ...             ...   \n",
       "95                          9                     8      IOS           en-us   \n",
       "96                         63                    62      IOS           en-us   \n",
       "97                         47                    46      IOS           en-us   \n",
       "98                          2                     1      IOS           en-us   \n",
       "99                         34                    33      IOS           en-us   \n",
       "\n",
       "    country  \n",
       "0      Peru  \n",
       "1   Uruguay  \n",
       "2   Algeria  \n",
       "3    Brazil  \n",
       "4     Spain  \n",
       "..      ...  \n",
       "95   Jordan  \n",
       "96   Jordan  \n",
       "97   Jordan  \n",
       "98   Jordan  \n",
       "99   Jordan  \n",
       "\n",
       "[100 rows x 12 columns]"
      ]
     },
     "execution_count": 26,
     "metadata": {},
     "output_type": "execute_result"
    }
   ],
   "source": [
    "df.head(100)"
   ]
  },
  {
   "cell_type": "code",
   "execution_count": 42,
   "metadata": {},
   "outputs": [
    {
     "data": {
      "text/plain": [
       "premium_cheaper_promo_notification_shown    29859\n",
       "Name: event_name, dtype: int64"
      ]
     },
     "execution_count": 42,
     "metadata": {},
     "output_type": "execute_result"
    }
   ],
   "source": [
    "pd.set_option('display.max_rows', None)\n",
    "df[df.session_event_number==1]['event_name'].value_counts()\n"
   ]
  },
  {
   "cell_type": "code",
   "execution_count": null,
   "metadata": {},
   "outputs": [],
   "source": []
  },
  {
   "cell_type": "code",
   "execution_count": 28,
   "metadata": {},
   "outputs": [
    {
     "data": {
      "text/plain": [
       "0    screen_view\n",
       "dtype: object"
      ]
     },
     "execution_count": 28,
     "metadata": {},
     "output_type": "execute_result"
    }
   ],
   "source": [
    "df['event_name'].mode()"
   ]
  },
  {
   "cell_type": "code",
   "execution_count": 18,
   "metadata": {},
   "outputs": [
    {
     "data": {
      "text/plain": [
       "event_name                           object\n",
       "optional_label                       object\n",
       "event_timestamp              datetime64[ns]\n",
       "event_date                   datetime64[ns]\n",
       "user_id                              object\n",
       "user_pseudo_id                       object\n",
       "ga_session_id                         int64\n",
       "user_history_event_number             int64\n",
       "session_event_number                  int64\n",
       "platform                             object\n",
       "device_language                      object\n",
       "country                              object\n",
       "dtype: object"
      ]
     },
     "execution_count": 18,
     "metadata": {},
     "output_type": "execute_result"
    }
   ],
   "source": [
    "df.dtypes"
   ]
  },
  {
   "cell_type": "code",
   "execution_count": 19,
   "metadata": {},
   "outputs": [
    {
     "data": {
      "text/plain": [
       "Series([], Name: event_name, dtype: int64)"
      ]
     },
     "execution_count": 19,
     "metadata": {},
     "output_type": "execute_result"
    }
   ],
   "source": [
    "df.event_name.value_counts()"
   ]
  },
  {
   "cell_type": "code",
   "execution_count": 12,
   "metadata": {},
   "outputs": [
    {
     "data": {
      "text/plain": [
       "2020-08-17    3846\n",
       "2020-07-08    3721\n",
       "2020-10-07    3673\n",
       "2020-06-16    3499\n",
       "2020-09-22    3478\n",
       "              ... \n",
       "2020-11-30     749\n",
       "2020-10-26     705\n",
       "2020-09-12     667\n",
       "2020-07-04     628\n",
       "2020-10-04     591\n",
       "Name: event_date, Length: 186, dtype: int64"
      ]
     },
     "execution_count": 12,
     "metadata": {},
     "output_type": "execute_result"
    }
   ],
   "source": [
    "df.event_date.value_counts()"
   ]
  }
 ],
 "metadata": {
  "kernelspec": {
   "display_name": "Python 3",
   "language": "python",
   "name": "python3"
  },
  "language_info": {
   "codemirror_mode": {
    "name": "ipython",
    "version": 3
   },
   "file_extension": ".py",
   "mimetype": "text/x-python",
   "name": "python",
   "nbconvert_exporter": "python",
   "pygments_lexer": "ipython3",
   "version": "3.8.5"
  }
 },
 "nbformat": 4,
 "nbformat_minor": 4
}
